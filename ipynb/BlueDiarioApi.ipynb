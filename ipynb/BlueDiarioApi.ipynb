{
 "cells": [
  {
   "attachments": {},
   "cell_type": "markdown",
   "metadata": {},
   "source": [
    "Codigo para descargar informacion diaria del Dolar (Oficial,  Blue, Mayorista Bancos, BCRA de Referencia, Banco Nación, Billete Banco Nación Público)\n"
   ]
  },
  {
   "cell_type": "code",
   "execution_count": 1,
   "metadata": {
    "execution": {
     "iopub.execute_input": "2023-01-24T17:33:36.140370Z",
     "iopub.status.busy": "2023-01-24T17:33:36.137504Z",
     "iopub.status.idle": "2023-01-24T17:33:37.537896Z",
     "shell.execute_reply": "2023-01-24T17:33:37.536028Z"
    }
   },
   "outputs": [
    {
     "name": "stdout",
     "output_type": "stream",
     "text": [
      "[{'casa': {'nombre': 'Oficial', 'compra': '185,820', 'venta': '194,820', 'agencia': '344', 'observaciones': {}, 'geolocalizacion': {'latitud': {}, 'longitud': {}}, 'telefono': '0810-666-4444', 'direccion': {}, 'decimales': '3'}}, {'casa': {'nombre': 'Blue', 'compra': '373,000', 'venta': '377,000', 'agencia': '380', 'observaciones': {}, 'geolocalizacion': {'latitud': {}, 'longitud': {}}, 'telefono': {}, 'direccion': {}, 'decimales': '3'}}, {'casa': {'nombre': 'Mayorista Bancos', 'compra': '187,150', 'venta': '187,350', 'agencia': '44', 'geolocalizacion': {'latitud': '-34.6033922', 'longitud': '-58.439710'}, 'telefono': '4556-8995', 'direccion': 'Uruguay 4532', 'observaciones': {}, 'decimales': '3'}}, {'casa': {'nombre': 'BCRA de Referencia', 'compra': '186,180', 'venta': '194,821', 'agencia': '49', 'observaciones': {}, 'decimales': '3'}}, {'casa': {'nombre': 'Banco Nación Billete', 'compra': '186,500', 'venta': '194,500', 'agencia': '47', 'observaciones': {}, 'decimales': '3'}}, {'casa': {'nombre': 'Banco Nación Público', 'compra': '186,500', 'venta': '194,500', 'agencia': '210', 'observaciones': {}, 'decimales': '3'}}]\n"
     ]
    }
   ],
   "source": [
    "import json\n",
    "import requests\n",
    "\n",
    "url = \"https://www.dolarsi.com/api/api.php?type=dolar\"\n",
    "response = requests.get(url)\n",
    "data = json.loads(response.text)\n",
    "\n",
    "print(data)\n"
   ]
  },
  {
   "cell_type": "code",
   "execution_count": 2,
   "metadata": {
    "execution": {
     "iopub.execute_input": "2023-01-24T17:33:37.704984Z",
     "iopub.status.busy": "2023-01-24T17:33:37.704984Z",
     "iopub.status.idle": "2023-01-24T17:33:38.945046Z",
     "shell.execute_reply": "2023-01-24T17:33:38.945046Z"
    }
   },
   "outputs": [
    {
     "name": "stdout",
     "output_type": "stream",
     "text": [
      "                 nombre   compra    venta agencia observaciones  \\\n",
      "0               Oficial  185,820  194,820     344            {}   \n",
      "1                  Blue  373,000  377,000     380            {}   \n",
      "2      Mayorista Bancos  187,150  187,350      44            {}   \n",
      "3    BCRA de Referencia  186,180  194,821      49            {}   \n",
      "4  Banco Nación Billete  186,500  194,500      47            {}   \n",
      "5  Banco Nación Público  186,500  194,500     210            {}   \n",
      "\n",
      "                                     geolocalizacion       telefono  \\\n",
      "0                    {'latitud': {}, 'longitud': {}}  0810-666-4444   \n",
      "1                    {'latitud': {}, 'longitud': {}}             {}   \n",
      "2  {'latitud': '-34.6033922', 'longitud': '-58.43...      4556-8995   \n",
      "3                                                NaN            NaN   \n",
      "4                                                NaN            NaN   \n",
      "5                                                NaN            NaN   \n",
      "\n",
      "      direccion decimales  \n",
      "0            {}         3  \n",
      "1            {}         3  \n",
      "2  Uruguay 4532         3  \n",
      "3           NaN         3  \n",
      "4           NaN         3  \n",
      "5           NaN         3  \n"
     ]
    }
   ],
   "source": [
    "import pandas as pd\n",
    "\n",
    "df = pd.DataFrame(data)\n",
    "df = df['casa'].apply(pd.Series)\n",
    "\n",
    "print(df)"
   ]
  },
  {
   "cell_type": "code",
   "execution_count": 3,
   "metadata": {
    "execution": {
     "iopub.execute_input": "2023-01-24T17:33:38.951150Z",
     "iopub.status.busy": "2023-01-24T17:33:38.950645Z",
     "iopub.status.idle": "2023-01-24T17:33:38.964611Z",
     "shell.execute_reply": "2023-01-24T17:33:38.964611Z"
    }
   },
   "outputs": [
    {
     "name": "stdout",
     "output_type": "stream",
     "text": [
      "                 nombre    venta\n",
      "0               Oficial  194,820\n",
      "1                  Blue  377,000\n",
      "2      Mayorista Bancos  187,350\n",
      "3    BCRA de Referencia  194,821\n",
      "4  Banco Nación Billete  194,500\n",
      "5  Banco Nación Público  194,500\n"
     ]
    }
   ],
   "source": [
    "df = df[[\"nombre\",\"venta\"]]\n",
    "print(df)"
   ]
  },
  {
   "cell_type": "code",
   "execution_count": 4,
   "metadata": {},
   "outputs": [
    {
     "data": {
      "text/html": [
       "<div>\n",
       "<style scoped>\n",
       "    .dataframe tbody tr th:only-of-type {\n",
       "        vertical-align: middle;\n",
       "    }\n",
       "\n",
       "    .dataframe tbody tr th {\n",
       "        vertical-align: top;\n",
       "    }\n",
       "\n",
       "    .dataframe thead th {\n",
       "        text-align: right;\n",
       "    }\n",
       "</style>\n",
       "<table border=\"1\" class=\"dataframe\">\n",
       "  <thead>\n",
       "    <tr style=\"text-align: right;\">\n",
       "      <th></th>\n",
       "      <th>nombre</th>\n",
       "      <th>venta</th>\n",
       "    </tr>\n",
       "  </thead>\n",
       "  <tbody>\n",
       "    <tr>\n",
       "      <th>0</th>\n",
       "      <td>Oficial</td>\n",
       "      <td>194,820</td>\n",
       "    </tr>\n",
       "    <tr>\n",
       "      <th>1</th>\n",
       "      <td>Blue</td>\n",
       "      <td>377,000</td>\n",
       "    </tr>\n",
       "    <tr>\n",
       "      <th>2</th>\n",
       "      <td>Mayorista Bancos</td>\n",
       "      <td>187,350</td>\n",
       "    </tr>\n",
       "    <tr>\n",
       "      <th>3</th>\n",
       "      <td>BCRA de Referencia</td>\n",
       "      <td>194,821</td>\n",
       "    </tr>\n",
       "    <tr>\n",
       "      <th>4</th>\n",
       "      <td>Banco Nación Billete</td>\n",
       "      <td>194,500</td>\n",
       "    </tr>\n",
       "    <tr>\n",
       "      <th>5</th>\n",
       "      <td>Banco Nación Público</td>\n",
       "      <td>194,500</td>\n",
       "    </tr>\n",
       "  </tbody>\n",
       "</table>\n",
       "</div>"
      ],
      "text/plain": [
       "                 nombre    venta\n",
       "0               Oficial  194,820\n",
       "1                  Blue  377,000\n",
       "2      Mayorista Bancos  187,350\n",
       "3    BCRA de Referencia  194,821\n",
       "4  Banco Nación Billete  194,500\n",
       "5  Banco Nación Público  194,500"
      ]
     },
     "execution_count": 4,
     "metadata": {},
     "output_type": "execute_result"
    }
   ],
   "source": [
    "pd.DataFrame(df)\n"
   ]
  },
  {
   "cell_type": "code",
   "execution_count": 5,
   "metadata": {},
   "outputs": [
    {
     "data": {
      "text/html": [
       "<div>\n",
       "<style scoped>\n",
       "    .dataframe tbody tr th:only-of-type {\n",
       "        vertical-align: middle;\n",
       "    }\n",
       "\n",
       "    .dataframe tbody tr th {\n",
       "        vertical-align: top;\n",
       "    }\n",
       "\n",
       "    .dataframe thead th {\n",
       "        text-align: right;\n",
       "    }\n",
       "</style>\n",
       "<table border=\"1\" class=\"dataframe\">\n",
       "  <thead>\n",
       "    <tr style=\"text-align: right;\">\n",
       "      <th></th>\n",
       "      <th>Fecha</th>\n",
       "      <th>Compra</th>\n",
       "      <th>Venta</th>\n",
       "    </tr>\n",
       "  </thead>\n",
       "  <tbody>\n",
       "    <tr>\n",
       "      <th>0</th>\n",
       "      <td>2023-02-01</td>\n",
       "      <td>0.0</td>\n",
       "      <td>3770000.0</td>\n",
       "    </tr>\n",
       "  </tbody>\n",
       "</table>\n",
       "</div>"
      ],
      "text/plain": [
       "        Fecha  Compra      Venta\n",
       "0  2023-02-01     0.0  3770000.0"
      ]
     },
     "execution_count": 5,
     "metadata": {},
     "output_type": "execute_result"
    }
   ],
   "source": [
    "import datetime\n",
    "import pandas as pd\n",
    "\n",
    "today = datetime.datetime.today().strftime('%Y-%m-%d')\n",
    "value = df[df['nombre'] == 'Blue']['venta'].values[0]\n",
    "value = format(float(value.replace(',', '')), '.1f')\n",
    "df = pd.DataFrame({'Fecha': [today], 'Compra': [0.0], 'Venta': [float(value.replace('.', ''))]})\n",
    "df"
   ]
  },
  {
   "cell_type": "code",
   "execution_count": 6,
   "metadata": {},
   "outputs": [
    {
     "data": {
      "text/html": [
       "<div>\n",
       "<style scoped>\n",
       "    .dataframe tbody tr th:only-of-type {\n",
       "        vertical-align: middle;\n",
       "    }\n",
       "\n",
       "    .dataframe tbody tr th {\n",
       "        vertical-align: top;\n",
       "    }\n",
       "\n",
       "    .dataframe thead th {\n",
       "        text-align: right;\n",
       "    }\n",
       "</style>\n",
       "<table border=\"1\" class=\"dataframe\">\n",
       "  <thead>\n",
       "    <tr style=\"text-align: right;\">\n",
       "      <th></th>\n",
       "      <th>Fecha</th>\n",
       "      <th>Compra</th>\n",
       "      <th>Venta</th>\n",
       "    </tr>\n",
       "  </thead>\n",
       "  <tbody>\n",
       "    <tr>\n",
       "      <th>0</th>\n",
       "      <td>2023-02-01</td>\n",
       "      <td>0.0</td>\n",
       "      <td>377.0</td>\n",
       "    </tr>\n",
       "  </tbody>\n",
       "</table>\n",
       "</div>"
      ],
      "text/plain": [
       "        Fecha  Compra  Venta\n",
       "0  2023-02-01     0.0  377.0"
      ]
     },
     "execution_count": 6,
     "metadata": {},
     "output_type": "execute_result"
    }
   ],
   "source": [
    "df['Venta'] = df['Venta'].astype(int) / 10000\n",
    "df['Venta'] = df['Venta'].apply(lambda x: \"{:.1f}\".format(x))\n",
    "df"
   ]
  },
  {
   "cell_type": "code",
   "execution_count": 7,
   "metadata": {},
   "outputs": [],
   "source": [
    "df.to_excel('data/xlsx/PrecioBlueDIario.xlsx', index=False)"
   ]
  },
  {
   "cell_type": "code",
   "execution_count": 8,
   "metadata": {},
   "outputs": [
    {
     "name": "stderr",
     "output_type": "stream",
     "text": [
      "C:\\Users\\rodri\\AppData\\Local\\Temp\\ipykernel_10132\\3506088974.py:7: FutureWarning: The frame.append method is deprecated and will be removed from pandas in a future version. Use pandas.concat instead.\n",
      "  df2 = df2.append(df.iloc[0, :], ignore_index=True)\n"
     ]
    },
    {
     "data": {
      "text/html": [
       "<div>\n",
       "<style scoped>\n",
       "    .dataframe tbody tr th:only-of-type {\n",
       "        vertical-align: middle;\n",
       "    }\n",
       "\n",
       "    .dataframe tbody tr th {\n",
       "        vertical-align: top;\n",
       "    }\n",
       "\n",
       "    .dataframe thead th {\n",
       "        text-align: right;\n",
       "    }\n",
       "</style>\n",
       "<table border=\"1\" class=\"dataframe\">\n",
       "  <thead>\n",
       "    <tr style=\"text-align: right;\">\n",
       "      <th></th>\n",
       "      <th>Unnamed: 0</th>\n",
       "      <th>Fecha</th>\n",
       "      <th>Compra</th>\n",
       "      <th>Venta</th>\n",
       "    </tr>\n",
       "  </thead>\n",
       "  <tbody>\n",
       "    <tr>\n",
       "      <th>0</th>\n",
       "      <td>0.0</td>\n",
       "      <td>2023-01-31 00:00:00</td>\n",
       "      <td>379.00</td>\n",
       "      <td>383.0</td>\n",
       "    </tr>\n",
       "    <tr>\n",
       "      <th>1</th>\n",
       "      <td>1.0</td>\n",
       "      <td>2023-01-30 00:00:00</td>\n",
       "      <td>382.00</td>\n",
       "      <td>386.0</td>\n",
       "    </tr>\n",
       "    <tr>\n",
       "      <th>2</th>\n",
       "      <td>2.0</td>\n",
       "      <td>2023-01-27 00:00:00</td>\n",
       "      <td>381.00</td>\n",
       "      <td>385.0</td>\n",
       "    </tr>\n",
       "    <tr>\n",
       "      <th>3</th>\n",
       "      <td>3.0</td>\n",
       "      <td>2023-01-26 00:00:00</td>\n",
       "      <td>379.00</td>\n",
       "      <td>383.0</td>\n",
       "    </tr>\n",
       "    <tr>\n",
       "      <th>4</th>\n",
       "      <td>4.0</td>\n",
       "      <td>2023-01-25 00:00:00</td>\n",
       "      <td>377.00</td>\n",
       "      <td>381.0</td>\n",
       "    </tr>\n",
       "    <tr>\n",
       "      <th>...</th>\n",
       "      <td>...</td>\n",
       "      <td>...</td>\n",
       "      <td>...</td>\n",
       "      <td>...</td>\n",
       "    </tr>\n",
       "    <tr>\n",
       "      <th>3216</th>\n",
       "      <td>3216.0</td>\n",
       "      <td>2010-01-07 00:00:00</td>\n",
       "      <td>3.86</td>\n",
       "      <td>3.87</td>\n",
       "    </tr>\n",
       "    <tr>\n",
       "      <th>3217</th>\n",
       "      <td>3217.0</td>\n",
       "      <td>2010-01-06 00:00:00</td>\n",
       "      <td>3.87</td>\n",
       "      <td>3.88</td>\n",
       "    </tr>\n",
       "    <tr>\n",
       "      <th>3218</th>\n",
       "      <td>3218.0</td>\n",
       "      <td>2010-01-05 00:00:00</td>\n",
       "      <td>3.86</td>\n",
       "      <td>3.86</td>\n",
       "    </tr>\n",
       "    <tr>\n",
       "      <th>3219</th>\n",
       "      <td>3219.0</td>\n",
       "      <td>2010-01-04 00:00:00</td>\n",
       "      <td>3.86</td>\n",
       "      <td>3.86</td>\n",
       "    </tr>\n",
       "    <tr>\n",
       "      <th>3220</th>\n",
       "      <td>NaN</td>\n",
       "      <td>2023-02-01</td>\n",
       "      <td>0.00</td>\n",
       "      <td>377.0</td>\n",
       "    </tr>\n",
       "  </tbody>\n",
       "</table>\n",
       "<p>3221 rows × 4 columns</p>\n",
       "</div>"
      ],
      "text/plain": [
       "      Unnamed: 0                Fecha  Compra  Venta\n",
       "0            0.0  2023-01-31 00:00:00  379.00  383.0\n",
       "1            1.0  2023-01-30 00:00:00  382.00  386.0\n",
       "2            2.0  2023-01-27 00:00:00  381.00  385.0\n",
       "3            3.0  2023-01-26 00:00:00  379.00  383.0\n",
       "4            4.0  2023-01-25 00:00:00  377.00  381.0\n",
       "...          ...                  ...     ...    ...\n",
       "3216      3216.0  2010-01-07 00:00:00    3.86   3.87\n",
       "3217      3217.0  2010-01-06 00:00:00    3.87   3.88\n",
       "3218      3218.0  2010-01-05 00:00:00    3.86   3.86\n",
       "3219      3219.0  2010-01-04 00:00:00    3.86   3.86\n",
       "3220         NaN           2023-02-01    0.00  377.0\n",
       "\n",
       "[3221 rows x 4 columns]"
      ]
     },
     "execution_count": 8,
     "metadata": {},
     "output_type": "execute_result"
    }
   ],
   "source": [
    "import pandas as pd\n",
    "\n",
    "# Load the existing Excel file into a dataframe\n",
    "df2 = pd.read_excel(r'data\\xlsx\\PreciosBlue.xlsx')\n",
    "\n",
    "# Append the first row of the dataframe to the existing dataframe\n",
    "df2 = df2.append(df.iloc[0, :], ignore_index=True)\n",
    "\n",
    "# Save the updated dataframe to the Excel file\n",
    "df2.to_excel(r'data\\xlsx\\PreciosBlue.xlsx', index=False)\n",
    "\n",
    "df2\n"
   ]
  }
 ],
 "metadata": {
  "kernelspec": {
   "display_name": "base",
   "language": "python",
   "name": "python3"
  },
  "language_info": {
   "codemirror_mode": {
    "name": "ipython",
    "version": 3
   },
   "file_extension": ".py",
   "mimetype": "text/x-python",
   "name": "python",
   "nbconvert_exporter": "python",
   "pygments_lexer": "ipython3",
   "version": "3.9.12"
  },
  "vscode": {
   "interpreter": {
    "hash": "f9ab598b9454a605c842d50279dc9b9787a69dd935282767b7751d6d2d6dcde1"
   }
  }
 },
 "nbformat": 4,
 "nbformat_minor": 2
}
