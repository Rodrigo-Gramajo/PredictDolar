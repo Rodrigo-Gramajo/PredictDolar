{
 "cells": [
  {
   "attachments": {},
   "cell_type": "markdown",
   "metadata": {},
   "source": [
    "Codigo para descargar informacion diaria del Dolar (Oficial,  Blue, Mayorista Bancos, BCRA de Referencia, Banco Nación, Billete Banco Nación Público)\n"
   ]
  },
  {
   "cell_type": "code",
   "execution_count": null,
   "metadata": {
    "execution": {
     "iopub.execute_input": "2023-01-24T17:33:36.140370Z",
     "iopub.status.busy": "2023-01-24T17:33:36.137504Z",
     "iopub.status.idle": "2023-01-24T17:33:37.537896Z",
     "shell.execute_reply": "2023-01-24T17:33:37.536028Z"
    }
   },
   "outputs": [],
   "source": [
    "import json\n",
    "import requests\n",
    "\n",
    "url = \"https://www.dolarsi.com/api/api.php?type=dolar\"\n",
    "response = requests.get(url)\n",
    "data = json.loads(response.text)\n",
    "\n",
    "print(data)\n"
   ]
  },
  {
   "cell_type": "code",
   "execution_count": null,
   "metadata": {
    "execution": {
     "iopub.execute_input": "2023-01-24T17:33:37.704984Z",
     "iopub.status.busy": "2023-01-24T17:33:37.704984Z",
     "iopub.status.idle": "2023-01-24T17:33:38.945046Z",
     "shell.execute_reply": "2023-01-24T17:33:38.945046Z"
    }
   },
   "outputs": [],
   "source": [
    "import pandas as pd\n",
    "\n",
    "df = pd.DataFrame(data)\n",
    "df = df['casa'].apply(pd.Series)\n",
    "\n",
    "print(df)"
   ]
  },
  {
   "cell_type": "code",
   "execution_count": null,
   "metadata": {
    "execution": {
     "iopub.execute_input": "2023-01-24T17:33:38.951150Z",
     "iopub.status.busy": "2023-01-24T17:33:38.950645Z",
     "iopub.status.idle": "2023-01-24T17:33:38.964611Z",
     "shell.execute_reply": "2023-01-24T17:33:38.964611Z"
    }
   },
   "outputs": [],
   "source": [
    "df = df[[\"nombre\",\"venta\"]]\n",
    "\n",
    "print(df)"
   ]
  },
  {
   "cell_type": "code",
   "execution_count": null,
   "metadata": {},
   "outputs": [],
   "source": [
    "df.to_excel(\"data/xlsx/prueba.xlsx\")"
   ]
  }
 ],
 "metadata": {
  "kernelspec": {
   "display_name": "dhdsblend2021",
   "language": "python",
   "name": "python3"
  },
  "language_info": {
   "codemirror_mode": {
    "name": "ipython",
    "version": 3
   },
   "file_extension": ".py",
   "mimetype": "text/x-python",
   "name": "python",
   "nbconvert_exporter": "python",
   "pygments_lexer": "ipython3",
   "version": "3.8.13 (default, Mar 28 2022, 06:59:08) [MSC v.1916 64 bit (AMD64)]"
  },
  "vscode": {
   "interpreter": {
    "hash": "972f5b49eaa1a7d59a4d730e007dc55ad562b9a6354633e3cb98350a6a1faaeb"
   }
  }
 },
 "nbformat": 4,
 "nbformat_minor": 2
}
