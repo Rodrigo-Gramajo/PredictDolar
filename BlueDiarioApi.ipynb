{
 "cells": [
  {
   "attachments": {},
   "cell_type": "markdown",
   "metadata": {},
   "source": [
    "Codigo para descargar informacion diaria del Dolar (Oficial,  Blue, Mayorista Bancos, BCRA de Referencia, Banco Nación, Billete Banco Nación Público)\n"
   ]
  },
  {
   "cell_type": "code",
   "execution_count": 1,
   "metadata": {
    "execution": {
     "iopub.execute_input": "2023-01-24T17:33:36.140370Z",
     "iopub.status.busy": "2023-01-24T17:33:36.137504Z",
     "iopub.status.idle": "2023-01-24T17:33:37.537896Z",
     "shell.execute_reply": "2023-01-24T17:33:37.536028Z"
    }
   },
   "outputs": [
    {
     "name": "stdout",
     "output_type": "stream",
     "text": [
      "[{'casa': {'nombre': 'Oficial', 'compra': '184,920', 'venta': '193,920', 'agencia': '344', 'observaciones': {}, 'geolocalizacion': {'latitud': {}, 'longitud': {}}, 'telefono': '0810-666-4444', 'direccion': {}, 'decimales': '3'}}, {'casa': {'nombre': 'Blue', 'compra': '383,000', 'venta': '387,000', 'agencia': '380', 'observaciones': {}, 'geolocalizacion': {'latitud': {}, 'longitud': {}}, 'telefono': {}, 'direccion': {}, 'decimales': '3'}}, {'casa': {'nombre': 'Mayorista Bancos', 'compra': '186,450', 'venta': '186,650', 'agencia': '44', 'geolocalizacion': {'latitud': '-34.6033922', 'longitud': '-58.439710'}, 'telefono': '4556-8995', 'direccion': 'Uruguay 4532', 'observaciones': {}, 'decimales': '3'}}, {'casa': {'nombre': 'BCRA de Referencia', 'compra': '185,307', 'venta': '193,923', 'agencia': '49', 'observaciones': {}, 'decimales': '3'}}, {'casa': {'nombre': 'Banco Nación Billete', 'compra': '184,250', 'venta': '192,250', 'agencia': '47', 'observaciones': {}, 'decimales': '3'}}, {'casa': {'nombre': 'Banco Nación Público', 'compra': '184,250', 'venta': '192,250', 'agencia': '210', 'observaciones': {}, 'decimales': '3'}}]\n"
     ]
    }
   ],
   "source": [
    "import json\n",
    "import requests\n",
    "\n",
    "url = \"https://www.dolarsi.com/api/api.php?type=dolar\"\n",
    "response = requests.get(url)\n",
    "data = json.loads(response.text)\n",
    "\n",
    "print(data)\n"
   ]
  },
  {
   "cell_type": "code",
   "execution_count": 2,
   "metadata": {
    "execution": {
     "iopub.execute_input": "2023-01-24T17:33:37.704984Z",
     "iopub.status.busy": "2023-01-24T17:33:37.704984Z",
     "iopub.status.idle": "2023-01-24T17:33:38.945046Z",
     "shell.execute_reply": "2023-01-24T17:33:38.945046Z"
    }
   },
   "outputs": [
    {
     "name": "stdout",
     "output_type": "stream",
     "text": [
      "                 nombre   compra    venta agencia observaciones  \\\n",
      "0               Oficial  184,920  193,920     344            {}   \n",
      "1                  Blue  383,000  387,000     380            {}   \n",
      "2      Mayorista Bancos  186,450  186,650      44            {}   \n",
      "3    BCRA de Referencia  185,307  193,923      49            {}   \n",
      "4  Banco Nación Billete  184,250  192,250      47            {}   \n",
      "5  Banco Nación Público  184,250  192,250     210            {}   \n",
      "\n",
      "                                     geolocalizacion       telefono  \\\n",
      "0                    {'latitud': {}, 'longitud': {}}  0810-666-4444   \n",
      "1                    {'latitud': {}, 'longitud': {}}             {}   \n",
      "2  {'latitud': '-34.6033922', 'longitud': '-58.43...      4556-8995   \n",
      "3                                                NaN            NaN   \n",
      "4                                                NaN            NaN   \n",
      "5                                                NaN            NaN   \n",
      "\n",
      "      direccion decimales  \n",
      "0            {}         3  \n",
      "1            {}         3  \n",
      "2  Uruguay 4532         3  \n",
      "3           NaN         3  \n",
      "4           NaN         3  \n",
      "5           NaN         3  \n"
     ]
    }
   ],
   "source": [
    "import pandas as pd\n",
    "\n",
    "df = pd.DataFrame(data)\n",
    "df = df['casa'].apply(pd.Series)\n",
    "\n",
    "print(df)"
   ]
  },
  {
   "cell_type": "code",
   "execution_count": 3,
   "metadata": {
    "execution": {
     "iopub.execute_input": "2023-01-24T17:33:38.951150Z",
     "iopub.status.busy": "2023-01-24T17:33:38.950645Z",
     "iopub.status.idle": "2023-01-24T17:33:38.964611Z",
     "shell.execute_reply": "2023-01-24T17:33:38.964611Z"
    }
   },
   "outputs": [
    {
     "name": "stdout",
     "output_type": "stream",
     "text": [
      "                 nombre    venta\n",
      "0               Oficial  193,920\n",
      "1                  Blue  387,000\n",
      "2      Mayorista Bancos  186,650\n",
      "3    BCRA de Referencia  193,923\n",
      "4  Banco Nación Billete  192,250\n",
      "5  Banco Nación Público  192,250\n"
     ]
    }
   ],
   "source": [
    "df = df[[\"nombre\",\"venta\"]]\n",
    "\n",
    "print(df)"
   ]
  }
 ],
 "metadata": {
  "kernelspec": {
   "display_name": "base",
   "language": "python",
   "name": "python3"
  },
  "language_info": {
   "codemirror_mode": {
    "name": "ipython",
    "version": 3
   },
   "file_extension": ".py",
   "mimetype": "text/x-python",
   "name": "python",
   "nbconvert_exporter": "python",
   "pygments_lexer": "ipython3",
   "version": "3.9.12 (main, Apr  4 2022, 05:22:27) [MSC v.1916 64 bit (AMD64)]"
  },
  "vscode": {
   "interpreter": {
    "hash": "f9ab598b9454a605c842d50279dc9b9787a69dd935282767b7751d6d2d6dcde1"
   }
  }
 },
 "nbformat": 4,
 "nbformat_minor": 2
}
