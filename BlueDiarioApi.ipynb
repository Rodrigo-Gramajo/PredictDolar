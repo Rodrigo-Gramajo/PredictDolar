{
 "cells": [
  {
   "attachments": {},
   "cell_type": "markdown",
   "metadata": {},
   "source": [
    "Codigo para descargar informacion diaria del Dolar (Oficial,  Blue, Mayorista Bancos, BCRA de Referencia, Banco Nación, Billete Banco Nación Público)\n"
   ]
  },
  {
   "cell_type": "code",
   "execution_count": 7,
   "metadata": {
    "execution": {
     "iopub.execute_input": "2023-01-24T17:33:36.140370Z",
     "iopub.status.busy": "2023-01-24T17:33:36.137504Z",
     "iopub.status.idle": "2023-01-24T17:33:37.537896Z",
     "shell.execute_reply": "2023-01-24T17:33:37.536028Z"
    }
   },
   "outputs": [
    {
     "name": "stdout",
     "output_type": "stream",
     "text": [
      "[{'casa': {'nombre': 'Oficial', 'compra': '183,100', 'venta': '192,100', 'agencia': '344', 'observaciones': {}, 'geolocalizacion': {'latitud': {}, 'longitud': {}}, 'telefono': '0810-666-4444', 'direccion': {}, 'decimales': '3'}}, {'casa': {'nombre': 'Blue', 'compra': '377,000', 'venta': '381,000', 'agencia': '380', 'observaciones': {}, 'geolocalizacion': {'latitud': {}, 'longitud': {}}, 'telefono': {}, 'direccion': {}, 'decimales': '3'}}, {'casa': {'nombre': 'Mayorista Bancos', 'compra': '184,530', 'venta': '184,730', 'agencia': '44', 'geolocalizacion': {'latitud': '-34.6033922', 'longitud': '-58.439710'}, 'telefono': '4556-8995', 'direccion': 'Uruguay 4532', 'observaciones': {}, 'decimales': '3'}}, {'casa': {'nombre': 'BCRA de Referencia', 'compra': '183,430', 'venta': '192,061', 'agencia': '49', 'observaciones': {}, 'decimales': '3'}}, {'casa': {'nombre': 'Banco Nación Billete', 'compra': '183,500', 'venta': '191,500', 'agencia': '47', 'observaciones': {}, 'decimales': '3'}}, {'casa': {'nombre': 'Banco Nación Público', 'compra': '183,500', 'venta': '191,500', 'agencia': '210', 'observaciones': {}, 'decimales': '3'}}]\n"
     ]
    }
   ],
   "source": [
    "import json\n",
    "import requests\n",
    "\n",
    "url = \"https://www.dolarsi.com/api/api.php?type=dolar\"\n",
    "response = requests.get(url)\n",
    "data = json.loads(response.text)\n",
    "\n",
    "print(data)\n"
   ]
  },
  {
   "cell_type": "code",
   "execution_count": 8,
   "metadata": {
    "execution": {
     "iopub.execute_input": "2023-01-24T17:33:37.704984Z",
     "iopub.status.busy": "2023-01-24T17:33:37.704984Z",
     "iopub.status.idle": "2023-01-24T17:33:38.945046Z",
     "shell.execute_reply": "2023-01-24T17:33:38.945046Z"
    }
   },
   "outputs": [
    {
     "name": "stdout",
     "output_type": "stream",
     "text": [
      "                 nombre   compra    venta agencia observaciones  \\\n",
      "0               Oficial  183,100  192,100     344            {}   \n",
      "1                  Blue  377,000  381,000     380            {}   \n",
      "2      Mayorista Bancos  184,530  184,730      44            {}   \n",
      "3    BCRA de Referencia  183,430  192,061      49            {}   \n",
      "4  Banco Nación Billete  183,500  191,500      47            {}   \n",
      "5  Banco Nación Público  183,500  191,500     210            {}   \n",
      "\n",
      "                                     geolocalizacion       telefono  \\\n",
      "0                    {'latitud': {}, 'longitud': {}}  0810-666-4444   \n",
      "1                    {'latitud': {}, 'longitud': {}}             {}   \n",
      "2  {'latitud': '-34.6033922', 'longitud': '-58.43...      4556-8995   \n",
      "3                                                NaN            NaN   \n",
      "4                                                NaN            NaN   \n",
      "5                                                NaN            NaN   \n",
      "\n",
      "      direccion decimales  \n",
      "0            {}         3  \n",
      "1            {}         3  \n",
      "2  Uruguay 4532         3  \n",
      "3           NaN         3  \n",
      "4           NaN         3  \n",
      "5           NaN         3  \n"
     ]
    }
   ],
   "source": [
    "import pandas as pd\n",
    "\n",
    "df = pd.DataFrame(data)\n",
    "df = df['casa'].apply(pd.Series)\n",
    "\n",
    "print(df)"
   ]
  },
  {
   "cell_type": "code",
   "execution_count": 9,
   "metadata": {
    "execution": {
     "iopub.execute_input": "2023-01-24T17:33:38.951150Z",
     "iopub.status.busy": "2023-01-24T17:33:38.950645Z",
     "iopub.status.idle": "2023-01-24T17:33:38.964611Z",
     "shell.execute_reply": "2023-01-24T17:33:38.964611Z"
    }
   },
   "outputs": [
    {
     "name": "stdout",
     "output_type": "stream",
     "text": [
      "                 nombre    venta\n",
      "0               Oficial  192,100\n",
      "1                  Blue  381,000\n",
      "2      Mayorista Bancos  184,730\n",
      "3    BCRA de Referencia  192,061\n",
      "4  Banco Nación Billete  191,500\n",
      "5  Banco Nación Público  191,500\n"
     ]
    }
   ],
   "source": [
    "df = df[[\"nombre\",\"venta\"]]\n",
    "\n",
    "print(df)"
   ]
  },
  {
   "cell_type": "code",
   "execution_count": 10,
   "metadata": {},
   "outputs": [],
   "source": [
    "import os\n",
    "\n",
    "# Define the directory where the HTML files will be saved\n",
    "folder = 'html_files'\n",
    "\n",
    "# Create the folder if it does not exist\n",
    "if not os.path.exists(folder):\n",
    "    os.makedirs(folder)\n",
    "\n",
    "# Iterate through the rows of the DataFrame\n",
    "for i, row in df.iterrows():\n",
    "    # Get the value of the 'venta' column for the current row\n",
    "    value = row['venta']\n",
    "    # Create the file name for the HTML file\n",
    "    file_name = row['nombre'] + '.html'\n",
    "    # Create the full path to the HTML file\n",
    "    file_path = os.path.join(folder, file_name)\n",
    "    # Convert the value to an HTML table with one row and one column\n",
    "    html_table = pd.DataFrame([value]).to_html()\n",
    "    # Write the HTML table to the file\n",
    "    with open(file_path, 'w') as f:\n",
    "        f.write(html_table)\n"
   ]
  }
 ],
 "metadata": {
  "kernelspec": {
   "display_name": "base",
   "language": "python",
   "name": "python3"
  },
  "language_info": {
   "codemirror_mode": {
    "name": "ipython",
    "version": 3
   },
   "file_extension": ".py",
   "mimetype": "text/x-python",
   "name": "python",
   "nbconvert_exporter": "python",
   "pygments_lexer": "ipython3",
   "version": "3.9.12"
  },
  "vscode": {
   "interpreter": {
    "hash": "f9ab598b9454a605c842d50279dc9b9787a69dd935282767b7751d6d2d6dcde1"
   }
  }
 },
 "nbformat": 4,
 "nbformat_minor": 2
}
