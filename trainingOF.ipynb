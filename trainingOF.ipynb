{
 "cells": [
  {
   "cell_type": "code",
   "execution_count": 1,
   "metadata": {
    "execution": {
     "iopub.execute_input": "2023-01-19T22:13:34.361290Z",
     "iopub.status.busy": "2023-01-19T22:13:34.360293Z",
     "iopub.status.idle": "2023-01-19T22:13:35.437647Z",
     "shell.execute_reply": "2023-01-19T22:13:35.436590Z"
    }
   },
   "outputs": [
    {
     "data": {
      "text/html": [
       "<div>\n",
       "<style scoped>\n",
       "    .dataframe tbody tr th:only-of-type {\n",
       "        vertical-align: middle;\n",
       "    }\n",
       "\n",
       "    .dataframe tbody tr th {\n",
       "        vertical-align: top;\n",
       "    }\n",
       "\n",
       "    .dataframe thead th {\n",
       "        text-align: right;\n",
       "    }\n",
       "</style>\n",
       "<table border=\"1\" class=\"dataframe\">\n",
       "  <thead>\n",
       "    <tr style=\"text-align: right;\">\n",
       "      <th></th>\n",
       "      <th>Fecha</th>\n",
       "      <th>Compra</th>\n",
       "      <th>Venta</th>\n",
       "    </tr>\n",
       "  </thead>\n",
       "  <tbody>\n",
       "    <tr>\n",
       "      <th>1</th>\n",
       "      <td>2023-01-13</td>\n",
       "      <td>179.53</td>\n",
       "      <td>188.53</td>\n",
       "    </tr>\n",
       "    <tr>\n",
       "      <th>2</th>\n",
       "      <td>2023-01-12</td>\n",
       "      <td>179.26</td>\n",
       "      <td>188.26</td>\n",
       "    </tr>\n",
       "    <tr>\n",
       "      <th>3</th>\n",
       "      <td>2023-01-11</td>\n",
       "      <td>179.21</td>\n",
       "      <td>188.21</td>\n",
       "    </tr>\n",
       "    <tr>\n",
       "      <th>4</th>\n",
       "      <td>2023-01-10</td>\n",
       "      <td>179.11</td>\n",
       "      <td>188.11</td>\n",
       "    </tr>\n",
       "    <tr>\n",
       "      <th>5</th>\n",
       "      <td>2023-01-09</td>\n",
       "      <td>178.72</td>\n",
       "      <td>187.72</td>\n",
       "    </tr>\n",
       "    <tr>\n",
       "      <th>...</th>\n",
       "      <td>...</td>\n",
       "      <td>...</td>\n",
       "      <td>...</td>\n",
       "    </tr>\n",
       "    <tr>\n",
       "      <th>3209</th>\n",
       "      <td>2010-01-08</td>\n",
       "      <td>3.79</td>\n",
       "      <td>3.83</td>\n",
       "    </tr>\n",
       "    <tr>\n",
       "      <th>3210</th>\n",
       "      <td>2010-01-07</td>\n",
       "      <td>3.79</td>\n",
       "      <td>3.83</td>\n",
       "    </tr>\n",
       "    <tr>\n",
       "      <th>3211</th>\n",
       "      <td>2010-01-06</td>\n",
       "      <td>3.79</td>\n",
       "      <td>3.83</td>\n",
       "    </tr>\n",
       "    <tr>\n",
       "      <th>3212</th>\n",
       "      <td>2010-01-05</td>\n",
       "      <td>3.78</td>\n",
       "      <td>3.82</td>\n",
       "    </tr>\n",
       "    <tr>\n",
       "      <th>3213</th>\n",
       "      <td>2010-01-04</td>\n",
       "      <td>3.78</td>\n",
       "      <td>3.82</td>\n",
       "    </tr>\n",
       "  </tbody>\n",
       "</table>\n",
       "<p>3213 rows × 3 columns</p>\n",
       "</div>"
      ],
      "text/plain": [
       "          Fecha  Compra   Venta\n",
       "1    2023-01-13  179.53  188.53\n",
       "2    2023-01-12  179.26  188.26\n",
       "3    2023-01-11  179.21  188.21\n",
       "4    2023-01-10  179.11  188.11\n",
       "5    2023-01-09  178.72  187.72\n",
       "...         ...     ...     ...\n",
       "3209 2010-01-08    3.79    3.83\n",
       "3210 2010-01-07    3.79    3.83\n",
       "3211 2010-01-06    3.79    3.83\n",
       "3212 2010-01-05    3.78    3.82\n",
       "3213 2010-01-04    3.78    3.82\n",
       "\n",
       "[3213 rows x 3 columns]"
      ]
     },
     "execution_count": 1,
     "metadata": {},
     "output_type": "execute_result"
    }
   ],
   "source": [
    "import pandas as pd\n",
    "import matplotlib.pyplot as plt\n",
    "import time \n",
    "\n",
    "df = pd.read_pickle('data/pkl/PreciosOF.xlsx.pkl')\n",
    "df"
   ]
  },
  {
   "cell_type": "code",
   "execution_count": 2,
   "metadata": {
    "execution": {
     "iopub.execute_input": "2023-01-19T22:13:35.461787Z",
     "iopub.status.busy": "2023-01-19T22:13:35.461787Z",
     "iopub.status.idle": "2023-01-19T22:13:35.483211Z",
     "shell.execute_reply": "2023-01-19T22:13:35.482167Z"
    }
   },
   "outputs": [
    {
     "data": {
      "text/html": [
       "<div>\n",
       "<style scoped>\n",
       "    .dataframe tbody tr th:only-of-type {\n",
       "        vertical-align: middle;\n",
       "    }\n",
       "\n",
       "    .dataframe tbody tr th {\n",
       "        vertical-align: top;\n",
       "    }\n",
       "\n",
       "    .dataframe thead th {\n",
       "        text-align: right;\n",
       "    }\n",
       "</style>\n",
       "<table border=\"1\" class=\"dataframe\">\n",
       "  <thead>\n",
       "    <tr style=\"text-align: right;\">\n",
       "      <th></th>\n",
       "      <th>index</th>\n",
       "      <th>ds</th>\n",
       "      <th>Compra</th>\n",
       "      <th>y</th>\n",
       "    </tr>\n",
       "  </thead>\n",
       "  <tbody>\n",
       "    <tr>\n",
       "      <th>0</th>\n",
       "      <td>1</td>\n",
       "      <td>2023-01-13</td>\n",
       "      <td>179.53</td>\n",
       "      <td>188.53</td>\n",
       "    </tr>\n",
       "    <tr>\n",
       "      <th>1</th>\n",
       "      <td>2</td>\n",
       "      <td>2023-01-12</td>\n",
       "      <td>179.26</td>\n",
       "      <td>188.26</td>\n",
       "    </tr>\n",
       "    <tr>\n",
       "      <th>2</th>\n",
       "      <td>3</td>\n",
       "      <td>2023-01-11</td>\n",
       "      <td>179.21</td>\n",
       "      <td>188.21</td>\n",
       "    </tr>\n",
       "    <tr>\n",
       "      <th>3</th>\n",
       "      <td>4</td>\n",
       "      <td>2023-01-10</td>\n",
       "      <td>179.11</td>\n",
       "      <td>188.11</td>\n",
       "    </tr>\n",
       "    <tr>\n",
       "      <th>4</th>\n",
       "      <td>5</td>\n",
       "      <td>2023-01-09</td>\n",
       "      <td>178.72</td>\n",
       "      <td>187.72</td>\n",
       "    </tr>\n",
       "  </tbody>\n",
       "</table>\n",
       "</div>"
      ],
      "text/plain": [
       "   index         ds  Compra       y\n",
       "0      1 2023-01-13  179.53  188.53\n",
       "1      2 2023-01-12  179.26  188.26\n",
       "2      3 2023-01-11  179.21  188.21\n",
       "3      4 2023-01-10  179.11  188.11\n",
       "4      5 2023-01-09  178.72  187.72"
      ]
     },
     "execution_count": 2,
     "metadata": {},
     "output_type": "execute_result"
    }
   ],
   "source": [
    "# renaming for fbprophet\n",
    "df.rename(columns={'Fecha':'ds'}, inplace=True)\n",
    "df.rename(columns={'Venta':'y'}, inplace=True)\n",
    "df.reset_index(inplace=True)\n",
    "df.head()"
   ]
  },
  {
   "cell_type": "code",
   "execution_count": 3,
   "metadata": {
    "execution": {
     "iopub.execute_input": "2023-01-19T22:13:35.489543Z",
     "iopub.status.busy": "2023-01-19T22:13:35.489543Z",
     "iopub.status.idle": "2023-01-19T22:13:35.498649Z",
     "shell.execute_reply": "2023-01-19T22:13:35.497604Z"
    }
   },
   "outputs": [],
   "source": [
    "df.rename(columns={'Fecha':'ds'}, inplace=True)"
   ]
  },
  {
   "cell_type": "code",
   "execution_count": 4,
   "metadata": {
    "execution": {
     "iopub.execute_input": "2023-01-19T22:13:35.505398Z",
     "iopub.status.busy": "2023-01-19T22:13:35.505398Z",
     "iopub.status.idle": "2023-01-19T22:13:35.528996Z",
     "shell.execute_reply": "2023-01-19T22:13:35.528996Z"
    }
   },
   "outputs": [
    {
     "data": {
      "text/html": [
       "<div>\n",
       "<style scoped>\n",
       "    .dataframe tbody tr th:only-of-type {\n",
       "        vertical-align: middle;\n",
       "    }\n",
       "\n",
       "    .dataframe tbody tr th {\n",
       "        vertical-align: top;\n",
       "    }\n",
       "\n",
       "    .dataframe thead th {\n",
       "        text-align: right;\n",
       "    }\n",
       "</style>\n",
       "<table border=\"1\" class=\"dataframe\">\n",
       "  <thead>\n",
       "    <tr style=\"text-align: right;\">\n",
       "      <th></th>\n",
       "      <th>index</th>\n",
       "      <th>ds</th>\n",
       "      <th>Compra</th>\n",
       "      <th>y</th>\n",
       "    </tr>\n",
       "  </thead>\n",
       "  <tbody>\n",
       "    <tr>\n",
       "      <th>0</th>\n",
       "      <td>1</td>\n",
       "      <td>2023-01-13</td>\n",
       "      <td>179.53</td>\n",
       "      <td>188.53</td>\n",
       "    </tr>\n",
       "    <tr>\n",
       "      <th>1</th>\n",
       "      <td>2</td>\n",
       "      <td>2023-01-12</td>\n",
       "      <td>179.26</td>\n",
       "      <td>188.26</td>\n",
       "    </tr>\n",
       "    <tr>\n",
       "      <th>2</th>\n",
       "      <td>3</td>\n",
       "      <td>2023-01-11</td>\n",
       "      <td>179.21</td>\n",
       "      <td>188.21</td>\n",
       "    </tr>\n",
       "    <tr>\n",
       "      <th>3</th>\n",
       "      <td>4</td>\n",
       "      <td>2023-01-10</td>\n",
       "      <td>179.11</td>\n",
       "      <td>188.11</td>\n",
       "    </tr>\n",
       "    <tr>\n",
       "      <th>4</th>\n",
       "      <td>5</td>\n",
       "      <td>2023-01-09</td>\n",
       "      <td>178.72</td>\n",
       "      <td>187.72</td>\n",
       "    </tr>\n",
       "    <tr>\n",
       "      <th>...</th>\n",
       "      <td>...</td>\n",
       "      <td>...</td>\n",
       "      <td>...</td>\n",
       "      <td>...</td>\n",
       "    </tr>\n",
       "    <tr>\n",
       "      <th>1254</th>\n",
       "      <td>1255</td>\n",
       "      <td>2018-01-08</td>\n",
       "      <td>18.94</td>\n",
       "      <td>19.34</td>\n",
       "    </tr>\n",
       "    <tr>\n",
       "      <th>1255</th>\n",
       "      <td>1256</td>\n",
       "      <td>2018-01-05</td>\n",
       "      <td>18.86</td>\n",
       "      <td>19.26</td>\n",
       "    </tr>\n",
       "    <tr>\n",
       "      <th>1256</th>\n",
       "      <td>1257</td>\n",
       "      <td>2018-01-04</td>\n",
       "      <td>18.56</td>\n",
       "      <td>18.96</td>\n",
       "    </tr>\n",
       "    <tr>\n",
       "      <th>1257</th>\n",
       "      <td>1258</td>\n",
       "      <td>2018-01-03</td>\n",
       "      <td>18.38</td>\n",
       "      <td>18.78</td>\n",
       "    </tr>\n",
       "    <tr>\n",
       "      <th>1258</th>\n",
       "      <td>1259</td>\n",
       "      <td>2018-01-02</td>\n",
       "      <td>18.36</td>\n",
       "      <td>18.76</td>\n",
       "    </tr>\n",
       "  </tbody>\n",
       "</table>\n",
       "<p>1259 rows × 4 columns</p>\n",
       "</div>"
      ],
      "text/plain": [
       "      index         ds  Compra       y\n",
       "0         1 2023-01-13  179.53  188.53\n",
       "1         2 2023-01-12  179.26  188.26\n",
       "2         3 2023-01-11  179.21  188.21\n",
       "3         4 2023-01-10  179.11  188.11\n",
       "4         5 2023-01-09  178.72  187.72\n",
       "...     ...        ...     ...     ...\n",
       "1254   1255 2018-01-08   18.94   19.34\n",
       "1255   1256 2018-01-05   18.86   19.26\n",
       "1256   1257 2018-01-04   18.56   18.96\n",
       "1257   1258 2018-01-03   18.38   18.78\n",
       "1258   1259 2018-01-02   18.36   18.76\n",
       "\n",
       "[1259 rows x 4 columns]"
      ]
     },
     "execution_count": 4,
     "metadata": {},
     "output_type": "execute_result"
    }
   ],
   "source": [
    "df = df[df['ds'] >= '2018-01-01']\n",
    "\n",
    "df"
   ]
  },
  {
   "cell_type": "code",
   "execution_count": 5,
   "metadata": {
    "execution": {
     "iopub.execute_input": "2023-01-19T22:13:35.531888Z",
     "iopub.status.busy": "2023-01-19T22:13:35.531888Z",
     "iopub.status.idle": "2023-01-19T22:13:35.544560Z",
     "shell.execute_reply": "2023-01-19T22:13:35.544560Z"
    }
   },
   "outputs": [
    {
     "data": {
      "text/html": [
       "<div>\n",
       "<style scoped>\n",
       "    .dataframe tbody tr th:only-of-type {\n",
       "        vertical-align: middle;\n",
       "    }\n",
       "\n",
       "    .dataframe tbody tr th {\n",
       "        vertical-align: top;\n",
       "    }\n",
       "\n",
       "    .dataframe thead th {\n",
       "        text-align: right;\n",
       "    }\n",
       "</style>\n",
       "<table border=\"1\" class=\"dataframe\">\n",
       "  <thead>\n",
       "    <tr style=\"text-align: right;\">\n",
       "      <th></th>\n",
       "      <th>index</th>\n",
       "      <th>ds</th>\n",
       "      <th>y</th>\n",
       "    </tr>\n",
       "  </thead>\n",
       "  <tbody>\n",
       "    <tr>\n",
       "      <th>0</th>\n",
       "      <td>1</td>\n",
       "      <td>2023-01-13</td>\n",
       "      <td>188.53</td>\n",
       "    </tr>\n",
       "    <tr>\n",
       "      <th>1</th>\n",
       "      <td>2</td>\n",
       "      <td>2023-01-12</td>\n",
       "      <td>188.26</td>\n",
       "    </tr>\n",
       "    <tr>\n",
       "      <th>2</th>\n",
       "      <td>3</td>\n",
       "      <td>2023-01-11</td>\n",
       "      <td>188.21</td>\n",
       "    </tr>\n",
       "    <tr>\n",
       "      <th>3</th>\n",
       "      <td>4</td>\n",
       "      <td>2023-01-10</td>\n",
       "      <td>188.11</td>\n",
       "    </tr>\n",
       "    <tr>\n",
       "      <th>4</th>\n",
       "      <td>5</td>\n",
       "      <td>2023-01-09</td>\n",
       "      <td>187.72</td>\n",
       "    </tr>\n",
       "    <tr>\n",
       "      <th>...</th>\n",
       "      <td>...</td>\n",
       "      <td>...</td>\n",
       "      <td>...</td>\n",
       "    </tr>\n",
       "    <tr>\n",
       "      <th>1254</th>\n",
       "      <td>1255</td>\n",
       "      <td>2018-01-08</td>\n",
       "      <td>19.34</td>\n",
       "    </tr>\n",
       "    <tr>\n",
       "      <th>1255</th>\n",
       "      <td>1256</td>\n",
       "      <td>2018-01-05</td>\n",
       "      <td>19.26</td>\n",
       "    </tr>\n",
       "    <tr>\n",
       "      <th>1256</th>\n",
       "      <td>1257</td>\n",
       "      <td>2018-01-04</td>\n",
       "      <td>18.96</td>\n",
       "    </tr>\n",
       "    <tr>\n",
       "      <th>1257</th>\n",
       "      <td>1258</td>\n",
       "      <td>2018-01-03</td>\n",
       "      <td>18.78</td>\n",
       "    </tr>\n",
       "    <tr>\n",
       "      <th>1258</th>\n",
       "      <td>1259</td>\n",
       "      <td>2018-01-02</td>\n",
       "      <td>18.76</td>\n",
       "    </tr>\n",
       "  </tbody>\n",
       "</table>\n",
       "<p>1259 rows × 3 columns</p>\n",
       "</div>"
      ],
      "text/plain": [
       "      index         ds       y\n",
       "0         1 2023-01-13  188.53\n",
       "1         2 2023-01-12  188.26\n",
       "2         3 2023-01-11  188.21\n",
       "3         4 2023-01-10  188.11\n",
       "4         5 2023-01-09  187.72\n",
       "...     ...        ...     ...\n",
       "1254   1255 2018-01-08   19.34\n",
       "1255   1256 2018-01-05   19.26\n",
       "1256   1257 2018-01-04   18.96\n",
       "1257   1258 2018-01-03   18.78\n",
       "1258   1259 2018-01-02   18.76\n",
       "\n",
       "[1259 rows x 3 columns]"
      ]
     },
     "execution_count": 5,
     "metadata": {},
     "output_type": "execute_result"
    }
   ],
   "source": [
    "df.drop(['Compra'], axis=1)"
   ]
  },
  {
   "cell_type": "code",
   "execution_count": 6,
   "metadata": {
    "execution": {
     "iopub.execute_input": "2023-01-19T22:13:35.547587Z",
     "iopub.status.busy": "2023-01-19T22:13:35.547587Z",
     "iopub.status.idle": "2023-01-19T22:13:35.561127Z",
     "shell.execute_reply": "2023-01-19T22:13:35.560087Z"
    }
   },
   "outputs": [],
   "source": [
    "df = df.sort_values(by='ds')"
   ]
  },
  {
   "cell_type": "code",
   "execution_count": 7,
   "metadata": {
    "execution": {
     "iopub.execute_input": "2023-01-19T22:13:35.567283Z",
     "iopub.status.busy": "2023-01-19T22:13:35.567283Z",
     "iopub.status.idle": "2023-01-19T22:13:35.592802Z",
     "shell.execute_reply": "2023-01-19T22:13:35.591363Z"
    }
   },
   "outputs": [
    {
     "data": {
      "text/plain": [
       "count    1259.000000\n",
       "mean       80.096386\n",
       "std        40.952278\n",
       "min        18.760000\n",
       "25%        43.610000\n",
       "50%        76.890000\n",
       "75%       105.140000\n",
       "max       188.530000\n",
       "Name: y, dtype: float64"
      ]
     },
     "execution_count": 7,
     "metadata": {},
     "output_type": "execute_result"
    }
   ],
   "source": [
    "df['y'].round(2).describe()"
   ]
  },
  {
   "cell_type": "code",
   "execution_count": 8,
   "metadata": {
    "execution": {
     "iopub.execute_input": "2023-01-19T22:13:35.598838Z",
     "iopub.status.busy": "2023-01-19T22:13:35.598838Z",
     "iopub.status.idle": "2023-01-19T22:13:38.386498Z",
     "shell.execute_reply": "2023-01-19T22:13:38.385488Z"
    }
   },
   "outputs": [
    {
     "name": "stderr",
     "output_type": "stream",
     "text": [
      "c:\\Users\\rodri\\anaconda3.1\\lib\\site-packages\\scipy\\__init__.py:146: UserWarning: A NumPy version >=1.16.5 and <1.23.0 is required for this version of SciPy (detected version 1.24.1\n",
      "  warnings.warn(f\"A NumPy version >={np_minversion} and <{np_maxversion}\"\n",
      "15:12:18 - cmdstanpy - INFO - Chain [1] start processing\n",
      "15:12:21 - cmdstanpy - INFO - Chain [1] done processing\n"
     ]
    },
    {
     "data": {
      "text/plain": [
       "<prophet.forecaster.Prophet at 0x1de5bf87730>"
      ]
     },
     "execution_count": 8,
     "metadata": {},
     "output_type": "execute_result"
    }
   ],
   "source": [
    "from prophet import Prophet\n",
    "\n",
    "prophet_model = Prophet()\n",
    "prophet_model.fit(df)"
   ]
  },
  {
   "cell_type": "code",
   "execution_count": 9,
   "metadata": {
    "execution": {
     "iopub.execute_input": "2023-01-19T22:13:38.390889Z",
     "iopub.status.busy": "2023-01-19T22:13:38.389485Z",
     "iopub.status.idle": "2023-01-19T22:13:38.404255Z",
     "shell.execute_reply": "2023-01-19T22:13:38.403042Z"
    }
   },
   "outputs": [
    {
     "data": {
      "text/html": [
       "<div>\n",
       "<style scoped>\n",
       "    .dataframe tbody tr th:only-of-type {\n",
       "        vertical-align: middle;\n",
       "    }\n",
       "\n",
       "    .dataframe tbody tr th {\n",
       "        vertical-align: top;\n",
       "    }\n",
       "\n",
       "    .dataframe thead th {\n",
       "        text-align: right;\n",
       "    }\n",
       "</style>\n",
       "<table border=\"1\" class=\"dataframe\">\n",
       "  <thead>\n",
       "    <tr style=\"text-align: right;\">\n",
       "      <th></th>\n",
       "      <th>ds</th>\n",
       "    </tr>\n",
       "  </thead>\n",
       "  <tbody>\n",
       "    <tr>\n",
       "      <th>1219</th>\n",
       "      <td>2023-01-10</td>\n",
       "    </tr>\n",
       "    <tr>\n",
       "      <th>1220</th>\n",
       "      <td>2023-01-11</td>\n",
       "    </tr>\n",
       "    <tr>\n",
       "      <th>1221</th>\n",
       "      <td>2023-01-12</td>\n",
       "    </tr>\n",
       "    <tr>\n",
       "      <th>1222</th>\n",
       "      <td>2023-01-13</td>\n",
       "    </tr>\n",
       "    <tr>\n",
       "      <th>1223</th>\n",
       "      <td>2023-12-31</td>\n",
       "    </tr>\n",
       "  </tbody>\n",
       "</table>\n",
       "</div>"
      ],
      "text/plain": [
       "             ds\n",
       "1219 2023-01-10\n",
       "1220 2023-01-11\n",
       "1221 2023-01-12\n",
       "1222 2023-01-13\n",
       "1223 2023-12-31"
      ]
     },
     "execution_count": 9,
     "metadata": {},
     "output_type": "execute_result"
    }
   ],
   "source": [
    "future_dataset= prophet_model.make_future_dataframe(periods=1, freq='y') # Data para el proximo año\n",
    "future_dataset.tail()"
   ]
  },
  {
   "cell_type": "code",
   "execution_count": 10,
   "metadata": {
    "execution": {
     "iopub.execute_input": "2023-01-19T22:13:38.407250Z",
     "iopub.status.busy": "2023-01-19T22:13:38.407250Z",
     "iopub.status.idle": "2023-01-19T22:13:39.039579Z",
     "shell.execute_reply": "2023-01-19T22:13:39.038484Z"
    }
   },
   "outputs": [
    {
     "data": {
      "text/html": [
       "<div>\n",
       "<style scoped>\n",
       "    .dataframe tbody tr th:only-of-type {\n",
       "        vertical-align: middle;\n",
       "    }\n",
       "\n",
       "    .dataframe tbody tr th {\n",
       "        vertical-align: top;\n",
       "    }\n",
       "\n",
       "    .dataframe thead th {\n",
       "        text-align: right;\n",
       "    }\n",
       "</style>\n",
       "<table border=\"1\" class=\"dataframe\">\n",
       "  <thead>\n",
       "    <tr style=\"text-align: right;\">\n",
       "      <th></th>\n",
       "      <th>ds</th>\n",
       "      <th>yhat</th>\n",
       "      <th>yhat_lower</th>\n",
       "      <th>yhat_upper</th>\n",
       "    </tr>\n",
       "  </thead>\n",
       "  <tbody>\n",
       "    <tr>\n",
       "      <th>0</th>\n",
       "      <td>2018-01-02</td>\n",
       "      <td>18.592212</td>\n",
       "      <td>17.149570</td>\n",
       "      <td>20.012377</td>\n",
       "    </tr>\n",
       "    <tr>\n",
       "      <th>1</th>\n",
       "      <td>2018-01-03</td>\n",
       "      <td>18.671410</td>\n",
       "      <td>17.310374</td>\n",
       "      <td>20.095590</td>\n",
       "    </tr>\n",
       "    <tr>\n",
       "      <th>2</th>\n",
       "      <td>2018-01-04</td>\n",
       "      <td>18.778820</td>\n",
       "      <td>17.406150</td>\n",
       "      <td>20.200993</td>\n",
       "    </tr>\n",
       "    <tr>\n",
       "      <th>3</th>\n",
       "      <td>2018-01-05</td>\n",
       "      <td>18.865560</td>\n",
       "      <td>17.392403</td>\n",
       "      <td>20.259157</td>\n",
       "    </tr>\n",
       "    <tr>\n",
       "      <th>4</th>\n",
       "      <td>2018-01-08</td>\n",
       "      <td>18.990949</td>\n",
       "      <td>17.551892</td>\n",
       "      <td>20.263367</td>\n",
       "    </tr>\n",
       "  </tbody>\n",
       "</table>\n",
       "</div>"
      ],
      "text/plain": [
       "          ds       yhat  yhat_lower  yhat_upper\n",
       "0 2018-01-02  18.592212   17.149570   20.012377\n",
       "1 2018-01-03  18.671410   17.310374   20.095590\n",
       "2 2018-01-04  18.778820   17.406150   20.200993\n",
       "3 2018-01-05  18.865560   17.392403   20.259157\n",
       "4 2018-01-08  18.990949   17.551892   20.263367"
      ]
     },
     "execution_count": 10,
     "metadata": {},
     "output_type": "execute_result"
    }
   ],
   "source": [
    "pred = prophet_model.predict(future_dataset)\n",
    "pred[['ds','yhat', 'yhat_lower', 'yhat_upper']].head() # only useful columns"
   ]
  },
  {
   "cell_type": "code",
   "execution_count": 11,
   "metadata": {
    "execution": {
     "iopub.execute_input": "2023-01-19T22:13:39.042609Z",
     "iopub.status.busy": "2023-01-19T22:13:39.041577Z",
     "iopub.status.idle": "2023-01-19T22:13:39.455971Z",
     "shell.execute_reply": "2023-01-19T22:13:39.455211Z"
    }
   },
   "outputs": [
    {
     "data": {
      "image/png": "[encoded data removed]",
      "text/plain": [
       "<Figure size 1000x600 with 1 Axes>"
      ]
     },
     "execution_count": 11,
     "metadata": {},
     "output_type": "execute_result"
    },
    {
     "data": {
      "image/png": "[encoded data removed]",
      "text/plain": [
       "<Figure size 1000x600 with 1 Axes>"
      ]
     },
     "metadata": {},
     "output_type": "display_data"
    }
   ],
   "source": [
    "prophet_model.plot(pred)"
   ]
  },
  {
   "cell_type": "code",
   "execution_count": 12,
   "metadata": {
    "execution": {
     "iopub.execute_input": "2023-01-19T22:13:39.459004Z",
     "iopub.status.busy": "2023-01-19T22:13:39.459004Z",
     "iopub.status.idle": "2023-01-19T22:13:39.471563Z",
     "shell.execute_reply": "2023-01-19T22:13:39.470565Z"
    }
   },
   "outputs": [],
   "source": [
    "def fb_prophet_function(data, future_years, seasonality_name, seasonality_val,seasonality_fourier, **params):\n",
    "    \"\"\"\n",
    "    Trains a fb prophet model on given hyperparameters and custom\n",
    "    seasonality, predicts on future dataset, plot the results and\n",
    "    return the model.\n",
    "    \"\"\"\n",
    "    start= time.time()\n",
    "    prophet_model = Prophet(**params)\n",
    "    \n",
    "    prophet_model.add_seasonality(name=seasonality_name, period=seasonality_val, fourier_order=seasonality_fourier)\n",
    "        \n",
    "    prophet_model.fit(data)\n",
    "    \n",
    "    future_dataset = prophet_model.make_future_dataframe(periods=future_years, freq='y')\n",
    "    \n",
    "    pred = prophet_model.predict(future_dataset)\n",
    "    \n",
    "    prophet_model.plot(pred, figsize=(15,7));\n",
    "    plt.ylim(-500, 3000)\n",
    "    plt.title(f\"fourier order{seasonality_fourier}, seasonality time {seasonality_name}\")\n",
    "    plt.show()\n",
    "    \n",
    "    end = time.time()\n",
    "    print(f\"Total Execution Time {end-start} seconds\")\n",
    "    return prophet_model"
   ]
  },
  {
   "cell_type": "code",
   "execution_count": 13,
   "metadata": {
    "execution": {
     "iopub.execute_input": "2023-01-19T22:13:39.474589Z",
     "iopub.status.busy": "2023-01-19T22:13:39.473557Z",
     "iopub.status.idle": "2023-01-19T22:13:39.487036Z",
     "shell.execute_reply": "2023-01-19T22:13:39.486040Z"
    }
   },
   "outputs": [],
   "source": [
    "def plot_valid(validation_set, size, model):\n",
    "    pred = model.predict(validation_set)\n",
    "    temp = df[-size:].copy().reset_index()\n",
    "    temp['pred']=pred['yhat']\n",
    "    temp.set_index('ds')[['y', 'pred']].plot()\n",
    "    plt.tight_layout();"
   ]
  },
  {
   "cell_type": "code",
   "execution_count": 14,
   "metadata": {
    "execution": {
     "iopub.execute_input": "2023-01-19T22:13:39.490065Z",
     "iopub.status.busy": "2023-01-19T22:13:39.490065Z",
     "iopub.status.idle": "2023-01-19T22:13:59.155195Z",
     "shell.execute_reply": "2023-01-19T22:13:59.153191Z"
    }
   },
   "outputs": [
    {
     "name": "stderr",
     "output_type": "stream",
     "text": [
      "15:12:33 - cmdstanpy - INFO - Chain [1] start processing\n",
      "15:12:52 - cmdstanpy - INFO - Chain [1] done processing\n"
     ]
    },
    {
     "data": {
      "image/png": "[encoded data removed]",
      "text/plain": [
       "<Figure size 1500x700 with 1 Axes>"
      ]
     },
     "metadata": {},
     "output_type": "display_data"
    },
    {
     "name": "stdout",
     "output_type": "stream",
     "text": [
      "Total Execution Time 31.457666397094727 seconds\n"
     ]
    }
   ],
   "source": [
    "import time\n",
    "\n",
    "training_set = df\n",
    "validation_set = df \n",
    "\n",
    "ten_years = fb_prophet_function(data=training_set, future_years=10, seasonality_name='10_years', seasonality_val=365*10, seasonality_fourier=600,seasonality_mode='additive')"
   ]
  },
  {
   "cell_type": "code",
   "execution_count": 15,
   "metadata": {
    "execution": {
     "iopub.execute_input": "2023-01-19T22:13:59.159183Z",
     "iopub.status.busy": "2023-01-19T22:13:59.159183Z",
     "iopub.status.idle": "2023-01-19T22:14:00.207018Z",
     "shell.execute_reply": "2023-01-19T22:14:00.206134Z"
    }
   },
   "outputs": [
    {
     "data": {
      "image/png": "[encoded data removed]",
      "text/plain": [
       "<Figure size 640x480 with 1 Axes>"
      ]
     },
     "metadata": {},
     "output_type": "display_data"
    }
   ],
   "source": [
    "plot_valid(validation_set, 1000, ten_years)"
   ]
  },
  {
   "cell_type": "code",
   "execution_count": 16,
   "metadata": {
    "execution": {
     "iopub.execute_input": "2023-01-19T22:14:00.210046Z",
     "iopub.status.busy": "2023-01-19T22:14:00.210046Z",
     "iopub.status.idle": "2023-01-19T22:14:00.221331Z",
     "shell.execute_reply": "2023-01-19T22:14:00.221331Z"
    }
   },
   "outputs": [
    {
     "data": {
      "text/html": [
       "<div>\n",
       "<style scoped>\n",
       "    .dataframe tbody tr th:only-of-type {\n",
       "        vertical-align: middle;\n",
       "    }\n",
       "\n",
       "    .dataframe tbody tr th {\n",
       "        vertical-align: top;\n",
       "    }\n",
       "\n",
       "    .dataframe thead th {\n",
       "        text-align: right;\n",
       "    }\n",
       "</style>\n",
       "<table border=\"1\" class=\"dataframe\">\n",
       "  <thead>\n",
       "    <tr style=\"text-align: right;\">\n",
       "      <th></th>\n",
       "      <th>ds</th>\n",
       "      <th>yhat</th>\n",
       "    </tr>\n",
       "  </thead>\n",
       "  <tbody>\n",
       "    <tr>\n",
       "      <th>0</th>\n",
       "      <td>2018-01-02</td>\n",
       "      <td>18.592212</td>\n",
       "    </tr>\n",
       "    <tr>\n",
       "      <th>1</th>\n",
       "      <td>2018-01-03</td>\n",
       "      <td>18.671410</td>\n",
       "    </tr>\n",
       "    <tr>\n",
       "      <th>2</th>\n",
       "      <td>2018-01-04</td>\n",
       "      <td>18.778820</td>\n",
       "    </tr>\n",
       "    <tr>\n",
       "      <th>3</th>\n",
       "      <td>2018-01-05</td>\n",
       "      <td>18.865560</td>\n",
       "    </tr>\n",
       "    <tr>\n",
       "      <th>4</th>\n",
       "      <td>2018-01-08</td>\n",
       "      <td>18.990949</td>\n",
       "    </tr>\n",
       "    <tr>\n",
       "      <th>...</th>\n",
       "      <td>...</td>\n",
       "      <td>...</td>\n",
       "    </tr>\n",
       "    <tr>\n",
       "      <th>1219</th>\n",
       "      <td>2023-01-10</td>\n",
       "      <td>185.206315</td>\n",
       "    </tr>\n",
       "    <tr>\n",
       "      <th>1220</th>\n",
       "      <td>2023-01-11</td>\n",
       "      <td>185.346855</td>\n",
       "    </tr>\n",
       "    <tr>\n",
       "      <th>1221</th>\n",
       "      <td>2023-01-12</td>\n",
       "      <td>185.516401</td>\n",
       "    </tr>\n",
       "    <tr>\n",
       "      <th>1222</th>\n",
       "      <td>2023-01-13</td>\n",
       "      <td>185.666450</td>\n",
       "    </tr>\n",
       "    <tr>\n",
       "      <th>1223</th>\n",
       "      <td>2023-12-31</td>\n",
       "      <td>266.087561</td>\n",
       "    </tr>\n",
       "  </tbody>\n",
       "</table>\n",
       "<p>1224 rows × 2 columns</p>\n",
       "</div>"
      ],
      "text/plain": [
       "             ds        yhat\n",
       "0    2018-01-02   18.592212\n",
       "1    2018-01-03   18.671410\n",
       "2    2018-01-04   18.778820\n",
       "3    2018-01-05   18.865560\n",
       "4    2018-01-08   18.990949\n",
       "...         ...         ...\n",
       "1219 2023-01-10  185.206315\n",
       "1220 2023-01-11  185.346855\n",
       "1221 2023-01-12  185.516401\n",
       "1222 2023-01-13  185.666450\n",
       "1223 2023-12-31  266.087561\n",
       "\n",
       "[1224 rows x 2 columns]"
      ]
     },
     "execution_count": 16,
     "metadata": {},
     "output_type": "execute_result"
    }
   ],
   "source": [
    "pred = pred[['ds', 'yhat']]\n",
    "\n",
    "pred"
   ]
  },
  {
   "cell_type": "code",
   "execution_count": 17,
   "metadata": {
    "execution": {
     "iopub.execute_input": "2023-01-19T22:14:00.225322Z",
     "iopub.status.busy": "2023-01-19T22:14:00.224322Z",
     "iopub.status.idle": "2023-01-19T22:14:00.238089Z",
     "shell.execute_reply": "2023-01-19T22:14:00.237092Z"
    }
   },
   "outputs": [
    {
     "data": {
      "text/html": [
       "<div>\n",
       "<style scoped>\n",
       "    .dataframe tbody tr th:only-of-type {\n",
       "        vertical-align: middle;\n",
       "    }\n",
       "\n",
       "    .dataframe tbody tr th {\n",
       "        vertical-align: top;\n",
       "    }\n",
       "\n",
       "    .dataframe thead th {\n",
       "        text-align: right;\n",
       "    }\n",
       "</style>\n",
       "<table border=\"1\" class=\"dataframe\">\n",
       "  <thead>\n",
       "    <tr style=\"text-align: right;\">\n",
       "      <th></th>\n",
       "      <th>ds</th>\n",
       "      <th>y</th>\n",
       "    </tr>\n",
       "  </thead>\n",
       "  <tbody>\n",
       "    <tr>\n",
       "      <th>1258</th>\n",
       "      <td>2018-01-02</td>\n",
       "      <td>18.76</td>\n",
       "    </tr>\n",
       "    <tr>\n",
       "      <th>1257</th>\n",
       "      <td>2018-01-03</td>\n",
       "      <td>18.78</td>\n",
       "    </tr>\n",
       "    <tr>\n",
       "      <th>1256</th>\n",
       "      <td>2018-01-04</td>\n",
       "      <td>18.96</td>\n",
       "    </tr>\n",
       "    <tr>\n",
       "      <th>1255</th>\n",
       "      <td>2018-01-05</td>\n",
       "      <td>19.26</td>\n",
       "    </tr>\n",
       "    <tr>\n",
       "      <th>1254</th>\n",
       "      <td>2018-01-08</td>\n",
       "      <td>19.34</td>\n",
       "    </tr>\n",
       "    <tr>\n",
       "      <th>...</th>\n",
       "      <td>...</td>\n",
       "      <td>...</td>\n",
       "    </tr>\n",
       "    <tr>\n",
       "      <th>4</th>\n",
       "      <td>2023-01-09</td>\n",
       "      <td>187.72</td>\n",
       "    </tr>\n",
       "    <tr>\n",
       "      <th>3</th>\n",
       "      <td>2023-01-10</td>\n",
       "      <td>188.11</td>\n",
       "    </tr>\n",
       "    <tr>\n",
       "      <th>2</th>\n",
       "      <td>2023-01-11</td>\n",
       "      <td>188.21</td>\n",
       "    </tr>\n",
       "    <tr>\n",
       "      <th>1</th>\n",
       "      <td>2023-01-12</td>\n",
       "      <td>188.26</td>\n",
       "    </tr>\n",
       "    <tr>\n",
       "      <th>0</th>\n",
       "      <td>2023-01-13</td>\n",
       "      <td>188.53</td>\n",
       "    </tr>\n",
       "  </tbody>\n",
       "</table>\n",
       "<p>1259 rows × 2 columns</p>\n",
       "</div>"
      ],
      "text/plain": [
       "             ds       y\n",
       "1258 2018-01-02   18.76\n",
       "1257 2018-01-03   18.78\n",
       "1256 2018-01-04   18.96\n",
       "1255 2018-01-05   19.26\n",
       "1254 2018-01-08   19.34\n",
       "...         ...     ...\n",
       "4    2023-01-09  187.72\n",
       "3    2023-01-10  188.11\n",
       "2    2023-01-11  188.21\n",
       "1    2023-01-12  188.26\n",
       "0    2023-01-13  188.53\n",
       "\n",
       "[1259 rows x 2 columns]"
      ]
     },
     "execution_count": 17,
     "metadata": {},
     "output_type": "execute_result"
    }
   ],
   "source": [
    "validation_set = validation_set[['ds', 'y']]\n",
    "\n",
    "validation_set"
   ]
  },
  {
   "cell_type": "code",
   "execution_count": 18,
   "metadata": {
    "execution": {
     "iopub.execute_input": "2023-01-19T22:14:00.242110Z",
     "iopub.status.busy": "2023-01-19T22:14:00.241114Z",
     "iopub.status.idle": "2023-01-19T22:14:00.254149Z",
     "shell.execute_reply": "2023-01-19T22:14:00.253079Z"
    }
   },
   "outputs": [
    {
     "data": {
      "text/html": [
       "<div>\n",
       "<style scoped>\n",
       "    .dataframe tbody tr th:only-of-type {\n",
       "        vertical-align: middle;\n",
       "    }\n",
       "\n",
       "    .dataframe tbody tr th {\n",
       "        vertical-align: top;\n",
       "    }\n",
       "\n",
       "    .dataframe thead th {\n",
       "        text-align: right;\n",
       "    }\n",
       "</style>\n",
       "<table border=\"1\" class=\"dataframe\">\n",
       "  <thead>\n",
       "    <tr style=\"text-align: right;\">\n",
       "      <th></th>\n",
       "      <th>ds</th>\n",
       "      <th>yhat</th>\n",
       "    </tr>\n",
       "  </thead>\n",
       "  <tbody>\n",
       "    <tr>\n",
       "      <th>0</th>\n",
       "      <td>2018-01-02</td>\n",
       "      <td>18.592212</td>\n",
       "    </tr>\n",
       "    <tr>\n",
       "      <th>1</th>\n",
       "      <td>2018-01-03</td>\n",
       "      <td>18.671410</td>\n",
       "    </tr>\n",
       "    <tr>\n",
       "      <th>2</th>\n",
       "      <td>2018-01-04</td>\n",
       "      <td>18.778820</td>\n",
       "    </tr>\n",
       "    <tr>\n",
       "      <th>3</th>\n",
       "      <td>2018-01-05</td>\n",
       "      <td>18.865560</td>\n",
       "    </tr>\n",
       "    <tr>\n",
       "      <th>4</th>\n",
       "      <td>2018-01-08</td>\n",
       "      <td>18.990949</td>\n",
       "    </tr>\n",
       "    <tr>\n",
       "      <th>...</th>\n",
       "      <td>...</td>\n",
       "      <td>...</td>\n",
       "    </tr>\n",
       "    <tr>\n",
       "      <th>1218</th>\n",
       "      <td>2023-01-09</td>\n",
       "      <td>185.003997</td>\n",
       "    </tr>\n",
       "    <tr>\n",
       "      <th>1219</th>\n",
       "      <td>2023-01-10</td>\n",
       "      <td>185.206315</td>\n",
       "    </tr>\n",
       "    <tr>\n",
       "      <th>1220</th>\n",
       "      <td>2023-01-11</td>\n",
       "      <td>185.346855</td>\n",
       "    </tr>\n",
       "    <tr>\n",
       "      <th>1221</th>\n",
       "      <td>2023-01-12</td>\n",
       "      <td>185.516401</td>\n",
       "    </tr>\n",
       "    <tr>\n",
       "      <th>1222</th>\n",
       "      <td>2023-01-13</td>\n",
       "      <td>185.666450</td>\n",
       "    </tr>\n",
       "  </tbody>\n",
       "</table>\n",
       "<p>1223 rows × 2 columns</p>\n",
       "</div>"
      ],
      "text/plain": [
       "             ds        yhat\n",
       "0    2018-01-02   18.592212\n",
       "1    2018-01-03   18.671410\n",
       "2    2018-01-04   18.778820\n",
       "3    2018-01-05   18.865560\n",
       "4    2018-01-08   18.990949\n",
       "...         ...         ...\n",
       "1218 2023-01-09  185.003997\n",
       "1219 2023-01-10  185.206315\n",
       "1220 2023-01-11  185.346855\n",
       "1221 2023-01-12  185.516401\n",
       "1222 2023-01-13  185.666450\n",
       "\n",
       "[1223 rows x 2 columns]"
      ]
     },
     "execution_count": 18,
     "metadata": {},
     "output_type": "execute_result"
    }
   ],
   "source": [
    "pred = pred[pred['ds'].isin(validation_set['ds'])]\n",
    "\n",
    "pred"
   ]
  },
  {
   "cell_type": "code",
   "execution_count": 19,
   "metadata": {
    "execution": {
     "iopub.execute_input": "2023-01-19T22:14:00.257180Z",
     "iopub.status.busy": "2023-01-19T22:14:00.257180Z",
     "iopub.status.idle": "2023-01-19T22:14:00.271984Z",
     "shell.execute_reply": "2023-01-19T22:14:00.270349Z"
    }
   },
   "outputs": [],
   "source": [
    "merged1 = pd.merge(pred, validation_set, on='ds', how='inner')\n",
    "\n",
    "validation_ds_y = merged1[['ds', 'y']]\n",
    "pred_ds_yhat = merged1[['ds', 'yhat']]\n"
   ]
  },
  {
   "cell_type": "code",
   "execution_count": 20,
   "metadata": {
    "execution": {
     "iopub.execute_input": "2023-01-19T22:14:00.277019Z",
     "iopub.status.busy": "2023-01-19T22:14:00.277019Z",
     "iopub.status.idle": "2023-01-19T22:14:00.306750Z",
     "shell.execute_reply": "2023-01-19T22:14:00.304744Z"
    }
   },
   "outputs": [
    {
     "name": "stderr",
     "output_type": "stream",
     "text": [
      "C:\\Users\\rodri\\AppData\\Local\\Temp\\ipykernel_13308\\2616818827.py:1: SettingWithCopyWarning: \n",
      "A value is trying to be set on a copy of a slice from a DataFrame.\n",
      "Try using .loc[row_indexer,col_indexer] = value instead\n",
      "\n",
      "See the caveats in the documentation: https://pandas.pydata.org/pandas-docs/stable/user_guide/indexing.html#returning-a-view-versus-a-copy\n",
      "  validation_ds_y['ds'] = validation_ds_y['ds'].apply(lambda x: x.timestamp())\n",
      "C:\\Users\\rodri\\AppData\\Local\\Temp\\ipykernel_13308\\2616818827.py:2: SettingWithCopyWarning: \n",
      "A value is trying to be set on a copy of a slice from a DataFrame.\n",
      "Try using .loc[row_indexer,col_indexer] = value instead\n",
      "\n",
      "See the caveats in the documentation: https://pandas.pydata.org/pandas-docs/stable/user_guide/indexing.html#returning-a-view-versus-a-copy\n",
      "  pred_ds_yhat['ds'] = pred_ds_yhat['ds'].apply(lambda x: x.timestamp())\n"
     ]
    }
   ],
   "source": [
    "validation_ds_y['ds'] = validation_ds_y['ds'].apply(lambda x: x.timestamp())\n",
    "pred_ds_yhat['ds'] = pred_ds_yhat['ds'].apply(lambda x: x.timestamp())"
   ]
  },
  {
   "cell_type": "code",
   "execution_count": 21,
   "metadata": {
    "execution": {
     "iopub.execute_input": "2023-01-19T22:14:00.313774Z",
     "iopub.status.busy": "2023-01-19T22:14:00.312734Z",
     "iopub.status.idle": "2023-01-19T22:14:00.338183Z",
     "shell.execute_reply": "2023-01-19T22:14:00.336181Z"
    }
   },
   "outputs": [
    {
     "name": "stderr",
     "output_type": "stream",
     "text": [
      "C:\\Users\\rodri\\AppData\\Local\\Temp\\ipykernel_13308\\476390056.py:1: SettingWithCopyWarning: \n",
      "A value is trying to be set on a copy of a slice from a DataFrame.\n",
      "Try using .loc[row_indexer,col_indexer] = value instead\n",
      "\n",
      "See the caveats in the documentation: https://pandas.pydata.org/pandas-docs/stable/user_guide/indexing.html#returning-a-view-versus-a-copy\n",
      "  validation_ds_y['ds'] = validation_ds_y['ds'].astype(float)\n",
      "C:\\Users\\rodri\\AppData\\Local\\Temp\\ipykernel_13308\\476390056.py:2: SettingWithCopyWarning: \n",
      "A value is trying to be set on a copy of a slice from a DataFrame.\n",
      "Try using .loc[row_indexer,col_indexer] = value instead\n",
      "\n",
      "See the caveats in the documentation: https://pandas.pydata.org/pandas-docs/stable/user_guide/indexing.html#returning-a-view-versus-a-copy\n",
      "  pred_ds_yhat['ds'] = pred_ds_yhat['ds'].astype(float)\n"
     ]
    }
   ],
   "source": [
    "validation_ds_y['ds'] = validation_ds_y['ds'].astype(float)\n",
    "pred_ds_yhat['ds'] = pred_ds_yhat['ds'].astype(float)"
   ]
  },
  {
   "cell_type": "code",
   "execution_count": 22,
   "metadata": {
    "execution": {
     "iopub.execute_input": "2023-01-19T22:14:00.346206Z",
     "iopub.status.busy": "2023-01-19T22:14:00.346206Z",
     "iopub.status.idle": "2023-01-19T22:14:00.887706Z",
     "shell.execute_reply": "2023-01-19T22:14:00.886618Z"
    }
   },
   "outputs": [
    {
     "name": "stdout",
     "output_type": "stream",
     "text": [
      "Mean Absolute Error:  0.3778034067709435\n",
      "Mean Squared Error:  0.607035232242264\n",
      "Root Mean Squared Error:  0.7791246577039287\n"
     ]
    }
   ],
   "source": [
    "import math\n",
    "from sklearn.metrics import mean_squared_error\n",
    "from sklearn.metrics import mean_absolute_error\n",
    "\n",
    "mae1 = mean_absolute_error(validation_ds_y, pred_ds_yhat)\n",
    "mse1 = mean_squared_error(validation_ds_y, pred_ds_yhat)\n",
    "rmse1 = math.sqrt(mean_squared_error(validation_ds_y, pred_ds_yhat))\n",
    "\n",
    "print(\"Mean Absolute Error: \", mae1)\n",
    "print(\"Mean Squared Error: \", mse1)\n",
    "print(\"Root Mean Squared Error: \", rmse1)\n"
   ]
  },
  {
   "cell_type": "code",
   "execution_count": 23,
   "metadata": {
    "execution": {
     "iopub.execute_input": "2023-01-19T22:14:00.890614Z",
     "iopub.status.busy": "2023-01-19T22:14:00.890614Z",
     "iopub.status.idle": "2023-01-19T22:14:00.903971Z",
     "shell.execute_reply": "2023-01-19T22:14:00.902966Z"
    }
   },
   "outputs": [
    {
     "data": {
      "text/html": [
       "<div>\n",
       "<style scoped>\n",
       "    .dataframe tbody tr th:only-of-type {\n",
       "        vertical-align: middle;\n",
       "    }\n",
       "\n",
       "    .dataframe tbody tr th {\n",
       "        vertical-align: top;\n",
       "    }\n",
       "\n",
       "    .dataframe thead th {\n",
       "        text-align: right;\n",
       "    }\n",
       "</style>\n",
       "<table border=\"1\" class=\"dataframe\">\n",
       "  <thead>\n",
       "    <tr style=\"text-align: right;\">\n",
       "      <th></th>\n",
       "      <th>index</th>\n",
       "      <th>ds</th>\n",
       "      <th>Compra</th>\n",
       "      <th>y</th>\n",
       "    </tr>\n",
       "  </thead>\n",
       "  <tbody>\n",
       "    <tr>\n",
       "      <th>530</th>\n",
       "      <td>531</td>\n",
       "      <td>2021-01-04</td>\n",
       "      <td>84.22</td>\n",
       "      <td>90.22</td>\n",
       "    </tr>\n",
       "    <tr>\n",
       "      <th>529</th>\n",
       "      <td>530</td>\n",
       "      <td>2021-01-05</td>\n",
       "      <td>84.55</td>\n",
       "      <td>90.55</td>\n",
       "    </tr>\n",
       "    <tr>\n",
       "      <th>528</th>\n",
       "      <td>529</td>\n",
       "      <td>2021-01-06</td>\n",
       "      <td>84.55</td>\n",
       "      <td>90.55</td>\n",
       "    </tr>\n",
       "    <tr>\n",
       "      <th>527</th>\n",
       "      <td>528</td>\n",
       "      <td>2021-01-07</td>\n",
       "      <td>84.68</td>\n",
       "      <td>90.68</td>\n",
       "    </tr>\n",
       "    <tr>\n",
       "      <th>526</th>\n",
       "      <td>527</td>\n",
       "      <td>2021-01-08</td>\n",
       "      <td>84.79</td>\n",
       "      <td>90.79</td>\n",
       "    </tr>\n",
       "    <tr>\n",
       "      <th>...</th>\n",
       "      <td>...</td>\n",
       "      <td>...</td>\n",
       "      <td>...</td>\n",
       "      <td>...</td>\n",
       "    </tr>\n",
       "    <tr>\n",
       "      <th>4</th>\n",
       "      <td>5</td>\n",
       "      <td>2023-01-09</td>\n",
       "      <td>178.72</td>\n",
       "      <td>187.72</td>\n",
       "    </tr>\n",
       "    <tr>\n",
       "      <th>3</th>\n",
       "      <td>4</td>\n",
       "      <td>2023-01-10</td>\n",
       "      <td>179.11</td>\n",
       "      <td>188.11</td>\n",
       "    </tr>\n",
       "    <tr>\n",
       "      <th>2</th>\n",
       "      <td>3</td>\n",
       "      <td>2023-01-11</td>\n",
       "      <td>179.21</td>\n",
       "      <td>188.21</td>\n",
       "    </tr>\n",
       "    <tr>\n",
       "      <th>1</th>\n",
       "      <td>2</td>\n",
       "      <td>2023-01-12</td>\n",
       "      <td>179.26</td>\n",
       "      <td>188.26</td>\n",
       "    </tr>\n",
       "    <tr>\n",
       "      <th>0</th>\n",
       "      <td>1</td>\n",
       "      <td>2023-01-13</td>\n",
       "      <td>179.53</td>\n",
       "      <td>188.53</td>\n",
       "    </tr>\n",
       "  </tbody>\n",
       "</table>\n",
       "<p>531 rows × 4 columns</p>\n",
       "</div>"
      ],
      "text/plain": [
       "     index         ds  Compra       y\n",
       "530    531 2021-01-04   84.22   90.22\n",
       "529    530 2021-01-05   84.55   90.55\n",
       "528    529 2021-01-06   84.55   90.55\n",
       "527    528 2021-01-07   84.68   90.68\n",
       "526    527 2021-01-08   84.79   90.79\n",
       "..     ...        ...     ...     ...\n",
       "4        5 2023-01-09  178.72  187.72\n",
       "3        4 2023-01-10  179.11  188.11\n",
       "2        3 2023-01-11  179.21  188.21\n",
       "1        2 2023-01-12  179.26  188.26\n",
       "0        1 2023-01-13  179.53  188.53\n",
       "\n",
       "[531 rows x 4 columns]"
      ]
     },
     "execution_count": 23,
     "metadata": {},
     "output_type": "execute_result"
    }
   ],
   "source": [
    "df = df[df['ds'] >= '2021-01-01']\n",
    "\n",
    "df"
   ]
  },
  {
   "cell_type": "code",
   "execution_count": 24,
   "metadata": {
    "execution": {
     "iopub.execute_input": "2023-01-19T22:14:00.906962Z",
     "iopub.status.busy": "2023-01-19T22:14:00.906962Z",
     "iopub.status.idle": "2023-01-19T22:14:27.939267Z",
     "shell.execute_reply": "2023-01-19T22:14:27.937598Z"
    }
   },
   "outputs": [
    {
     "name": "stderr",
     "output_type": "stream",
     "text": [
      "15:13:04 - cmdstanpy - INFO - Chain [1] start processing\n",
      "15:13:41 - cmdstanpy - INFO - Chain [1] done processing\n"
     ]
    },
    {
     "data": {
      "image/png": "[encoded data removed]",
      "text/plain": [
       "<Figure size 1500x700 with 1 Axes>"
      ]
     },
     "metadata": {},
     "output_type": "display_data"
    },
    {
     "name": "stdout",
     "output_type": "stream",
     "text": [
      "Total Execution Time 42.79878807067871 seconds\n"
     ]
    }
   ],
   "source": [
    "training_set = df\n",
    "validation_set = df\n",
    "\n",
    "five_years_model = fb_prophet_function(data=training_set, future_years=5, seasonality_name='5_years', seasonality_val=365*5, seasonality_fourier=500,seasonality_mode='additive')"
   ]
  },
  {
   "cell_type": "code",
   "execution_count": 25,
   "metadata": {
    "execution": {
     "iopub.execute_input": "2023-01-19T22:14:27.942295Z",
     "iopub.status.busy": "2023-01-19T22:14:27.942295Z",
     "iopub.status.idle": "2023-01-19T22:14:28.719787Z",
     "shell.execute_reply": "2023-01-19T22:14:28.718646Z"
    }
   },
   "outputs": [
    {
     "data": {
      "image/png": "[encoded data removed]",
      "text/plain": [
       "<Figure size 640x480 with 1 Axes>"
      ]
     },
     "metadata": {},
     "output_type": "display_data"
    }
   ],
   "source": [
    "plot_valid(validation_set, 1000, five_years_model)"
   ]
  },
  {
   "cell_type": "code",
   "execution_count": 26,
   "metadata": {
    "execution": {
     "iopub.execute_input": "2023-01-19T22:14:28.723622Z",
     "iopub.status.busy": "2023-01-19T22:14:28.722623Z",
     "iopub.status.idle": "2023-01-19T22:14:28.752178Z",
     "shell.execute_reply": "2023-01-19T22:14:28.750099Z"
    }
   },
   "outputs": [
    {
     "name": "stdout",
     "output_type": "stream",
     "text": [
      "Mean Absolute Error:  0.2994830866191679\n",
      "Mean Squared Error:  0.3072546007745576\n",
      "Root Mean Squared Error:  0.5543055121271641\n"
     ]
    },
    {
     "name": "stderr",
     "output_type": "stream",
     "text": [
      "C:\\Users\\rodri\\AppData\\Local\\Temp\\ipykernel_13308\\3875005836.py:17: SettingWithCopyWarning: \n",
      "A value is trying to be set on a copy of a slice from a DataFrame.\n",
      "Try using .loc[row_indexer,col_indexer] = value instead\n",
      "\n",
      "See the caveats in the documentation: https://pandas.pydata.org/pandas-docs/stable/user_guide/indexing.html#returning-a-view-versus-a-copy\n",
      "  validation_ds_y['ds'] = validation_ds_y['ds'].apply(lambda x: x.timestamp())\n",
      "C:\\Users\\rodri\\AppData\\Local\\Temp\\ipykernel_13308\\3875005836.py:18: SettingWithCopyWarning: \n",
      "A value is trying to be set on a copy of a slice from a DataFrame.\n",
      "Try using .loc[row_indexer,col_indexer] = value instead\n",
      "\n",
      "See the caveats in the documentation: https://pandas.pydata.org/pandas-docs/stable/user_guide/indexing.html#returning-a-view-versus-a-copy\n",
      "  pred_ds_yhat['ds'] = pred_ds_yhat['ds'].apply(lambda x: x.timestamp())\n",
      "C:\\Users\\rodri\\AppData\\Local\\Temp\\ipykernel_13308\\3875005836.py:19: SettingWithCopyWarning: \n",
      "A value is trying to be set on a copy of a slice from a DataFrame.\n",
      "Try using .loc[row_indexer,col_indexer] = value instead\n",
      "\n",
      "See the caveats in the documentation: https://pandas.pydata.org/pandas-docs/stable/user_guide/indexing.html#returning-a-view-versus-a-copy\n",
      "  validation_ds_y['ds'] = validation_ds_y['ds'].astype(float)\n",
      "C:\\Users\\rodri\\AppData\\Local\\Temp\\ipykernel_13308\\3875005836.py:20: SettingWithCopyWarning: \n",
      "A value is trying to be set on a copy of a slice from a DataFrame.\n",
      "Try using .loc[row_indexer,col_indexer] = value instead\n",
      "\n",
      "See the caveats in the documentation: https://pandas.pydata.org/pandas-docs/stable/user_guide/indexing.html#returning-a-view-versus-a-copy\n",
      "  pred_ds_yhat['ds'] = pred_ds_yhat['ds'].astype(float)\n"
     ]
    }
   ],
   "source": [
    "from sklearn.metrics import mean_squared_error\n",
    "\n",
    "pred = pred[['ds', 'yhat']]\n",
    "\n",
    "pred\n",
    "validation_set = validation_set[['ds', 'y']]\n",
    "\n",
    "validation_set\n",
    "pred = pred[pred['ds'].isin(validation_set['ds'])]\n",
    "\n",
    "pred\n",
    "merged2 = pd.merge(pred, validation_set, on='ds', how='inner')\n",
    "\n",
    "validation_ds_y = merged2[['ds', 'y']]\n",
    "pred_ds_yhat = merged2[['ds', 'yhat']]\n",
    "\n",
    "validation_ds_y['ds'] = validation_ds_y['ds'].apply(lambda x: x.timestamp())\n",
    "pred_ds_yhat['ds'] = pred_ds_yhat['ds'].apply(lambda x: x.timestamp())\n",
    "validation_ds_y['ds'] = validation_ds_y['ds'].astype(float)\n",
    "pred_ds_yhat['ds'] = pred_ds_yhat['ds'].astype(float)\n",
    "import math\n",
    "\n",
    "mae2 = mean_absolute_error(validation_ds_y, pred_ds_yhat)\n",
    "mse2 = mean_squared_error(validation_ds_y, pred_ds_yhat)\n",
    "rmse2 = math.sqrt(mean_squared_error(validation_ds_y, pred_ds_yhat))\n",
    "\n",
    "print(\"Mean Absolute Error: \", mae2)\n",
    "print(\"Mean Squared Error: \", mse2)\n",
    "print(\"Root Mean Squared Error: \", rmse2)\n"
   ]
  },
  {
   "cell_type": "code",
   "execution_count": 27,
   "metadata": {
    "execution": {
     "iopub.execute_input": "2023-01-19T22:14:28.756578Z",
     "iopub.status.busy": "2023-01-19T22:14:28.756578Z",
     "iopub.status.idle": "2023-01-19T22:14:28.829764Z",
     "shell.execute_reply": "2023-01-19T22:14:28.828679Z"
    }
   },
   "outputs": [],
   "source": [
    "from prophet import Prophet\n",
    "\n",
    "five_years_model = Prophet(seasonality_mode='additive', seasonality_prior_scale=1, \n",
    "                         yearly_seasonality=True, weekly_seasonality=False, \n",
    "                         daily_seasonality=False)\n"
   ]
  },
  {
   "cell_type": "code",
   "execution_count": 28,
   "metadata": {
    "execution": {
     "iopub.execute_input": "2023-01-19T22:14:28.832793Z",
     "iopub.status.busy": "2023-01-19T22:14:28.831794Z",
     "iopub.status.idle": "2023-01-19T22:14:28.845400Z",
     "shell.execute_reply": "2023-01-19T22:14:28.844392Z"
    }
   },
   "outputs": [
    {
     "data": {
      "text/plain": [
       "<prophet.forecaster.Prophet at 0x1de733ce2e0>"
      ]
     },
     "execution_count": 28,
     "metadata": {},
     "output_type": "execute_result"
    }
   ],
   "source": [
    "five_years_model.add_seasonality(name='1_years', period=365*1, fourier_order=80)"
   ]
  },
  {
   "cell_type": "code",
   "execution_count": 29,
   "metadata": {
    "execution": {
     "iopub.execute_input": "2023-01-19T22:14:28.848427Z",
     "iopub.status.busy": "2023-01-19T22:14:28.848427Z",
     "iopub.status.idle": "2023-01-19T22:14:28.860380Z",
     "shell.execute_reply": "2023-01-19T22:14:28.859378Z"
    }
   },
   "outputs": [],
   "source": [
    "import datetime\n",
    "\n",
    "today = datetime.datetime.now()\n",
    "next_month = today + datetime.timedelta(days=90)\n",
    "start_date = today.strftime(\"%Y-%m-%d\")\n",
    "end_date = next_month.strftime(\"%Y-%m-%d\")\n",
    "date_range = pd.date_range(start_date, end_date)\n",
    "next_month = pd.DataFrame({\"ds\": date_range})\n"
   ]
  },
  {
   "cell_type": "code",
   "execution_count": 30,
   "metadata": {
    "execution": {
     "iopub.execute_input": "2023-01-19T22:14:28.864484Z",
     "iopub.status.busy": "2023-01-19T22:14:28.864484Z",
     "iopub.status.idle": "2023-01-19T22:14:31.896213Z",
     "shell.execute_reply": "2023-01-19T22:14:31.895214Z"
    }
   },
   "outputs": [
    {
     "name": "stderr",
     "output_type": "stream",
     "text": [
      "15:13:44 - cmdstanpy - INFO - Chain [1] start processing\n",
      "15:13:47 - cmdstanpy - INFO - Chain [1] done processing\n"
     ]
    }
   ],
   "source": [
    "five_years_model.fit(training_set)\n",
    "\n",
    "prediction = five_years_model.predict(next_month)"
   ]
  },
  {
   "cell_type": "code",
   "execution_count": 31,
   "metadata": {
    "execution": {
     "iopub.execute_input": "2023-01-19T22:14:31.899243Z",
     "iopub.status.busy": "2023-01-19T22:14:31.899243Z",
     "iopub.status.idle": "2023-01-19T22:14:31.911652Z",
     "shell.execute_reply": "2023-01-19T22:14:31.910970Z"
    }
   },
   "outputs": [
    {
     "data": {
      "text/html": [
       "<div>\n",
       "<style scoped>\n",
       "    .dataframe tbody tr th:only-of-type {\n",
       "        vertical-align: middle;\n",
       "    }\n",
       "\n",
       "    .dataframe tbody tr th {\n",
       "        vertical-align: top;\n",
       "    }\n",
       "\n",
       "    .dataframe thead th {\n",
       "        text-align: right;\n",
       "    }\n",
       "</style>\n",
       "<table border=\"1\" class=\"dataframe\">\n",
       "  <thead>\n",
       "    <tr style=\"text-align: right;\">\n",
       "      <th></th>\n",
       "      <th>Values</th>\n",
       "    </tr>\n",
       "  </thead>\n",
       "  <tbody>\n",
       "    <tr>\n",
       "      <th>0</th>\n",
       "      <td>192.169571</td>\n",
       "    </tr>\n",
       "    <tr>\n",
       "      <th>1</th>\n",
       "      <td>192.445883</td>\n",
       "    </tr>\n",
       "    <tr>\n",
       "      <th>2</th>\n",
       "      <td>192.771350</td>\n",
       "    </tr>\n",
       "    <tr>\n",
       "      <th>3</th>\n",
       "      <td>193.163716</td>\n",
       "    </tr>\n",
       "    <tr>\n",
       "      <th>4</th>\n",
       "      <td>193.567034</td>\n",
       "    </tr>\n",
       "    <tr>\n",
       "      <th>...</th>\n",
       "      <td>...</td>\n",
       "    </tr>\n",
       "    <tr>\n",
       "      <th>86</th>\n",
       "      <td>219.608110</td>\n",
       "    </tr>\n",
       "    <tr>\n",
       "      <th>87</th>\n",
       "      <td>219.996055</td>\n",
       "    </tr>\n",
       "    <tr>\n",
       "      <th>88</th>\n",
       "      <td>220.334859</td>\n",
       "    </tr>\n",
       "    <tr>\n",
       "      <th>89</th>\n",
       "      <td>220.603566</td>\n",
       "    </tr>\n",
       "    <tr>\n",
       "      <th>90</th>\n",
       "      <td>220.842371</td>\n",
       "    </tr>\n",
       "  </tbody>\n",
       "</table>\n",
       "<p>91 rows × 1 columns</p>\n",
       "</div>"
      ],
      "text/plain": [
       "        Values\n",
       "0   192.169571\n",
       "1   192.445883\n",
       "2   192.771350\n",
       "3   193.163716\n",
       "4   193.567034\n",
       "..         ...\n",
       "86  219.608110\n",
       "87  219.996055\n",
       "88  220.334859\n",
       "89  220.603566\n",
       "90  220.842371\n",
       "\n",
       "[91 rows x 1 columns]"
      ]
     },
     "execution_count": 31,
     "metadata": {},
     "output_type": "execute_result"
    }
   ],
   "source": [
    "values = prediction['yhat']\n",
    "\n",
    "values_new = pd.DataFrame(values)\n",
    "\n",
    "values_new = values_new.rename(columns={'yhat':'Values'})\n",
    "\n",
    "values_new"
   ]
  },
  {
   "cell_type": "code",
   "execution_count": 32,
   "metadata": {
    "execution": {
     "iopub.execute_input": "2023-01-19T22:14:31.914679Z",
     "iopub.status.busy": "2023-01-19T22:14:31.913649Z",
     "iopub.status.idle": "2023-01-19T22:14:31.927986Z",
     "shell.execute_reply": "2023-01-19T22:14:31.926737Z"
    }
   },
   "outputs": [
    {
     "data": {
      "text/html": [
       "<div>\n",
       "<style scoped>\n",
       "    .dataframe tbody tr th:only-of-type {\n",
       "        vertical-align: middle;\n",
       "    }\n",
       "\n",
       "    .dataframe tbody tr th {\n",
       "        vertical-align: top;\n",
       "    }\n",
       "\n",
       "    .dataframe thead th {\n",
       "        text-align: right;\n",
       "    }\n",
       "</style>\n",
       "<table border=\"1\" class=\"dataframe\">\n",
       "  <thead>\n",
       "    <tr style=\"text-align: right;\">\n",
       "      <th></th>\n",
       "      <th>Values</th>\n",
       "    </tr>\n",
       "  </thead>\n",
       "  <tbody>\n",
       "    <tr>\n",
       "      <th>2023-01-25</th>\n",
       "      <td>192.169571</td>\n",
       "    </tr>\n",
       "    <tr>\n",
       "      <th>2023-01-26</th>\n",
       "      <td>192.445883</td>\n",
       "    </tr>\n",
       "    <tr>\n",
       "      <th>2023-01-27</th>\n",
       "      <td>192.771350</td>\n",
       "    </tr>\n",
       "    <tr>\n",
       "      <th>2023-01-28</th>\n",
       "      <td>193.163716</td>\n",
       "    </tr>\n",
       "    <tr>\n",
       "      <th>2023-01-29</th>\n",
       "      <td>193.567034</td>\n",
       "    </tr>\n",
       "    <tr>\n",
       "      <th>...</th>\n",
       "      <td>...</td>\n",
       "    </tr>\n",
       "    <tr>\n",
       "      <th>2023-04-21</th>\n",
       "      <td>219.608110</td>\n",
       "    </tr>\n",
       "    <tr>\n",
       "      <th>2023-04-22</th>\n",
       "      <td>219.996055</td>\n",
       "    </tr>\n",
       "    <tr>\n",
       "      <th>2023-04-23</th>\n",
       "      <td>220.334859</td>\n",
       "    </tr>\n",
       "    <tr>\n",
       "      <th>2023-04-24</th>\n",
       "      <td>220.603566</td>\n",
       "    </tr>\n",
       "    <tr>\n",
       "      <th>2023-04-25</th>\n",
       "      <td>220.842371</td>\n",
       "    </tr>\n",
       "  </tbody>\n",
       "</table>\n",
       "<p>91 rows × 1 columns</p>\n",
       "</div>"
      ],
      "text/plain": [
       "                Values\n",
       "2023-01-25  192.169571\n",
       "2023-01-26  192.445883\n",
       "2023-01-27  192.771350\n",
       "2023-01-28  193.163716\n",
       "2023-01-29  193.567034\n",
       "...                ...\n",
       "2023-04-21  219.608110\n",
       "2023-04-22  219.996055\n",
       "2023-04-23  220.334859\n",
       "2023-04-24  220.603566\n",
       "2023-04-25  220.842371\n",
       "\n",
       "[91 rows x 1 columns]"
      ]
     },
     "execution_count": 32,
     "metadata": {},
     "output_type": "execute_result"
    }
   ],
   "source": [
    "# import the datetime library\n",
    "import datetime\n",
    "\n",
    "# define the start date (today + 1) and the number of days in the range\n",
    "start_date = datetime.datetime.today() + datetime.timedelta(days=1)\n",
    "num_days = len(values_new.index)\n",
    "\n",
    "# create the date range\n",
    "date_range = [start_date.date() + datetime.timedelta(days=i) for i in range(num_days)]\n",
    "\n",
    "# set the index of the dataframe to the date range\n",
    "values_new.index = date_range\n",
    "\n",
    "values_new\n"
   ]
  },
  {
   "cell_type": "code",
   "execution_count": 33,
   "metadata": {
    "execution": {
     "iopub.execute_input": "2023-01-19T22:14:31.930982Z",
     "iopub.status.busy": "2023-01-19T22:14:31.930982Z",
     "iopub.status.idle": "2023-01-19T22:14:32.006744Z",
     "shell.execute_reply": "2023-01-19T22:14:32.005840Z"
    }
   },
   "outputs": [],
   "source": [
    "values_new.to_excel(\"data/xlsx/values_newOf.xlsx\")"
   ]
  },
  {
   "cell_type": "code",
   "execution_count": 34,
   "metadata": {
    "execution": {
     "iopub.execute_input": "2023-01-19T22:14:32.009769Z",
     "iopub.status.busy": "2023-01-19T22:14:32.009769Z",
     "iopub.status.idle": "2023-01-19T22:14:32.273336Z",
     "shell.execute_reply": "2023-01-19T22:14:32.272340Z"
    }
   },
   "outputs": [
    {
     "data": {
      "image/png": "[encoded data removed]",
      "text/plain": [
       "<Figure size 640x480 with 1 Axes>"
      ]
     },
     "metadata": {},
     "output_type": "display_data"
    }
   ],
   "source": [
    "x = values_new.index\n",
    "y = values_new['Values']\n",
    "for i in range(1, len(values_new)):\n",
    "    if y[i] > y[i-1]:\n",
    "        color = 'g'\n",
    "    else:\n",
    "        color = 'r'\n",
    "    plt.plot(x[i-1:i+1], y[i-1:i+1], color=color)\n",
    "plt.xlabel(\"Dates\")\n",
    "plt.ylabel(\"Values\")\n",
    "plt.title(\"Prediction Plot\")\n",
    "plt.grid()\n",
    "plt.gcf().autofmt_xdate()\n",
    "plt.show()\n"
   ]
  },
  {
   "cell_type": "code",
   "execution_count": 35,
   "metadata": {
    "execution": {
     "iopub.execute_input": "2023-01-19T22:14:32.279351Z",
     "iopub.status.busy": "2023-01-19T22:14:32.279351Z",
     "iopub.status.idle": "2023-01-19T22:14:33.030125Z",
     "shell.execute_reply": "2023-01-19T22:14:33.029127Z"
    }
   },
   "outputs": [
    {
     "data": {
      "application/vnd.plotly.v1+json": {
       "config": {
        "linkText": "Export to plot.ly",
        "plotlyServerURL": "https://plot.ly",
        "showLink": false
       },
       "data": [
        {
         "line": {
          "color": "green",
          "width": 1
         },
         "mode": "lines",
         "showlegend": false,
         "type": "scatter",
         "x": [
          "2023-01-25",
          "2023-01-26"
         ],
         "y": [
          192.16957146334724,
          192.44588266336578
         ]
        },
        {
         "line": {
          "color": "green",
          "width": 1
         },
         "mode": "lines",
         "showlegend": false,
         "type": "scatter",
         "x": [
          "2023-01-26",
          "2023-01-27"
         ],
         "y": [
          192.44588266336578,
          192.77135002414153
         ]
        },
        {
         "line": {
          "color": "green",
          "width": 1
         },
         "mode": "lines",
         "showlegend": false,
         "type": "scatter",
         "x": [
          "2023-01-27",
          "2023-01-28"
         ],
         "y": [
          192.77135002414153,
          193.1637156889018
         ]
        },
        {
         "line": {
          "color": "green",
          "width": 1
         },
         "mode": "lines",
         "showlegend": false,
         "type": "scatter",
         "x": [
          "2023-01-28",
          "2023-01-29"
         ],
         "y": [
          193.1637156889018,
          193.5670338458418
         ]
        },
        {
         "line": {
          "color": "green",
          "width": 1
         },
         "mode": "lines",
         "showlegend": false,
         "type": "scatter",
         "x": [
          "2023-01-29",
          "2023-01-30"
         ],
         "y": [
          193.5670338458418,
          193.9216661020501
         ]
        },
        {
         "line": {
          "color": "green",
          "width": 1
         },
         "mode": "lines",
         "showlegend": false,
         "type": "scatter",
         "x": [
          "2023-01-30",
          "2023-01-31"
         ],
         "y": [
          193.9216661020501,
          194.23086642366127
         ]
        },
        {
         "line": {
          "color": "green",
          "width": 1
         },
         "mode": "lines",
         "showlegend": false,
         "type": "scatter",
         "x": [
          "2023-01-31",
          "2023-02-01"
         ],
         "y": [
          194.23086642366127,
          194.5349505846193
         ]
        },
        {
         "line": {
          "color": "green",
          "width": 1
         },
         "mode": "lines",
         "showlegend": false,
         "type": "scatter",
         "x": [
          "2023-02-01",
          "2023-02-02"
         ],
         "y": [
          194.5349505846193,
          194.84995289645104
         ]
        },
        {
         "line": {
          "color": "green",
          "width": 1
         },
         "mode": "lines",
         "showlegend": false,
         "type": "scatter",
         "x": [
          "2023-02-02",
          "2023-02-03"
         ],
         "y": [
          194.84995289645104,
          195.17075988625095
         ]
        },
        {
         "line": {
          "color": "green",
          "width": 1
         },
         "mode": "lines",
         "showlegend": false,
         "type": "scatter",
         "x": [
          "2023-02-03",
          "2023-02-04"
         ],
         "y": [
          195.17075988625095,
          195.51730217994847
         ]
        },
        {
         "line": {
          "color": "green",
          "width": 1
         },
         "mode": "lines",
         "showlegend": false,
         "type": "scatter",
         "x": [
          "2023-02-04",
          "2023-02-05"
         ],
         "y": [
          195.51730217994847,
          195.92366660975472
         ]
        },
        {
         "line": {
          "color": "green",
          "width": 1
         },
         "mode": "lines",
         "showlegend": false,
         "type": "scatter",
         "x": [
          "2023-02-05",
          "2023-02-06"
         ],
         "y": [
          195.92366660975472,
          196.36979709795557
         ]
        },
        {
         "line": {
          "color": "green",
          "width": 1
         },
         "mode": "lines",
         "showlegend": false,
         "type": "scatter",
         "x": [
          "2023-02-06",
          "2023-02-07"
         ],
         "y": [
          196.36979709795557,
          196.77123868379016
         ]
        },
        {
         "line": {
          "color": "green",
          "width": 1
         },
         "mode": "lines",
         "showlegend": false,
         "type": "scatter",
         "x": [
          "2023-02-07",
          "2023-02-08"
         ],
         "y": [
          196.77123868379016,
          197.07185442307085
         ]
        },
        {
         "line": {
          "color": "green",
          "width": 1
         },
         "mode": "lines",
         "showlegend": false,
         "type": "scatter",
         "x": [
          "2023-02-08",
          "2023-02-09"
         ],
         "y": [
          197.07185442307085,
          197.3212700680516
         ]
        },
        {
         "line": {
          "color": "green",
          "width": 1
         },
         "mode": "lines",
         "showlegend": false,
         "type": "scatter",
         "x": [
          "2023-02-09",
          "2023-02-10"
         ],
         "y": [
          197.3212700680516,
          197.62044096763026
         ]
        },
        {
         "line": {
          "color": "green",
          "width": 1
         },
         "mode": "lines",
         "showlegend": false,
         "type": "scatter",
         "x": [
          "2023-02-10",
          "2023-02-11"
         ],
         "y": [
          197.62044096763026,
          198.00066262857018
         ]
        },
        {
         "line": {
          "color": "green",
          "width": 1
         },
         "mode": "lines",
         "showlegend": false,
         "type": "scatter",
         "x": [
          "2023-02-11",
          "2023-02-12"
         ],
         "y": [
          198.00066262857018,
          198.3975327933361
         ]
        },
        {
         "line": {
          "color": "green",
          "width": 1
         },
         "mode": "lines",
         "showlegend": false,
         "type": "scatter",
         "x": [
          "2023-02-12",
          "2023-02-13"
         ],
         "y": [
          198.3975327933361,
          198.74629526093935
         ]
        },
        {
         "line": {
          "color": "green",
          "width": 1
         },
         "mode": "lines",
         "showlegend": false,
         "type": "scatter",
         "x": [
          "2023-02-13",
          "2023-02-14"
         ],
         "y": [
          198.74629526093935,
          199.05802927317345
         ]
        },
        {
         "line": {
          "color": "green",
          "width": 1
         },
         "mode": "lines",
         "showlegend": false,
         "type": "scatter",
         "x": [
          "2023-02-14",
          "2023-02-15"
         ],
         "y": [
          199.05802927317345,
          199.37943848393562
         ]
        },
        {
         "line": {
          "color": "green",
          "width": 1
         },
         "mode": "lines",
         "showlegend": false,
         "type": "scatter",
         "x": [
          "2023-02-15",
          "2023-02-16"
         ],
         "y": [
          199.37943848393562,
          199.7149248991711
         ]
        },
        {
         "line": {
          "color": "green",
          "width": 1
         },
         "mode": "lines",
         "showlegend": false,
         "type": "scatter",
         "x": [
          "2023-02-16",
          "2023-02-17"
         ],
         "y": [
          199.7149248991711,
          200.0311540264123
         ]
        },
        {
         "line": {
          "color": "green",
          "width": 1
         },
         "mode": "lines",
         "showlegend": false,
         "type": "scatter",
         "x": [
          "2023-02-17",
          "2023-02-18"
         ],
         "y": [
          200.0311540264123,
          200.32403119459
         ]
        },
        {
         "line": {
          "color": "green",
          "width": 1
         },
         "mode": "lines",
         "showlegend": false,
         "type": "scatter",
         "x": [
          "2023-02-18",
          "2023-02-19"
         ],
         "y": [
          200.32403119459,
          200.6336941400444
         ]
        },
        {
         "line": {
          "color": "green",
          "width": 1
         },
         "mode": "lines",
         "showlegend": false,
         "type": "scatter",
         "x": [
          "2023-02-19",
          "2023-02-20"
         ],
         "y": [
          200.6336941400444,
          200.9838703243807
         ]
        },
        {
         "line": {
          "color": "green",
          "width": 1
         },
         "mode": "lines",
         "showlegend": false,
         "type": "scatter",
         "x": [
          "2023-02-20",
          "2023-02-21"
         ],
         "y": [
          200.9838703243807,
          201.34329198047945
         ]
        },
        {
         "line": {
          "color": "green",
          "width": 1
         },
         "mode": "lines",
         "showlegend": false,
         "type": "scatter",
         "x": [
          "2023-02-21",
          "2023-02-22"
         ],
         "y": [
          201.34329198047945,
          201.66867814945357
         ]
        },
        {
         "line": {
          "color": "green",
          "width": 1
         },
         "mode": "lines",
         "showlegend": false,
         "type": "scatter",
         "x": [
          "2023-02-22",
          "2023-02-23"
         ],
         "y": [
          201.66867814945357,
          201.96075364313793
         ]
        },
        {
         "line": {
          "color": "green",
          "width": 1
         },
         "mode": "lines",
         "showlegend": false,
         "type": "scatter",
         "x": [
          "2023-02-23",
          "2023-02-24"
         ],
         "y": [
          201.96075364313793,
          202.25087083158496
         ]
        },
        {
         "line": {
          "color": "green",
          "width": 1
         },
         "mode": "lines",
         "showlegend": false,
         "type": "scatter",
         "x": [
          "2023-02-24",
          "2023-02-25"
         ],
         "y": [
          202.25087083158496,
          202.54875493367896
         ]
        },
        {
         "line": {
          "color": "green",
          "width": 1
         },
         "mode": "lines",
         "showlegend": false,
         "type": "scatter",
         "x": [
          "2023-02-25",
          "2023-02-26"
         ],
         "y": [
          202.54875493367896,
          202.83668360809096
         ]
        },
        {
         "line": {
          "color": "green",
          "width": 1
         },
         "mode": "lines",
         "showlegend": false,
         "type": "scatter",
         "x": [
          "2023-02-26",
          "2023-02-27"
         ],
         "y": [
          202.83668360809096,
          203.11207536052316
         ]
        },
        {
         "line": {
          "color": "green",
          "width": 1
         },
         "mode": "lines",
         "showlegend": false,
         "type": "scatter",
         "x": [
          "2023-02-27",
          "2023-02-28"
         ],
         "y": [
          203.11207536052316,
          203.4019779179682
         ]
        },
        {
         "line": {
          "color": "green",
          "width": 1
         },
         "mode": "lines",
         "showlegend": false,
         "type": "scatter",
         "x": [
          "2023-02-28",
          "2023-03-01"
         ],
         "y": [
          203.4019779179682,
          203.7238843038197
         ]
        },
        {
         "line": {
          "color": "green",
          "width": 1
         },
         "mode": "lines",
         "showlegend": false,
         "type": "scatter",
         "x": [
          "2023-03-01",
          "2023-03-02"
         ],
         "y": [
          203.7238843038197,
          204.05708411897996
         ]
        },
        {
         "line": {
          "color": "green",
          "width": 1
         },
         "mode": "lines",
         "showlegend": false,
         "type": "scatter",
         "x": [
          "2023-03-02",
          "2023-03-03"
         ],
         "y": [
          204.05708411897996,
          204.37015644588718
         ]
        },
        {
         "line": {
          "color": "green",
          "width": 1
         },
         "mode": "lines",
         "showlegend": false,
         "type": "scatter",
         "x": [
          "2023-03-03",
          "2023-03-04"
         ],
         "y": [
          204.37015644588718,
          204.6596002394842
         ]
        },
        {
         "line": {
          "color": "green",
          "width": 1
         },
         "mode": "lines",
         "showlegend": false,
         "type": "scatter",
         "x": [
          "2023-03-04",
          "2023-03-05"
         ],
         "y": [
          204.6596002394842,
          204.94263389480184
         ]
        },
        {
         "line": {
          "color": "green",
          "width": 1
         },
         "mode": "lines",
         "showlegend": false,
         "type": "scatter",
         "x": [
          "2023-03-05",
          "2023-03-06"
         ],
         "y": [
          204.94263389480184,
          205.2271470249232
         ]
        },
        {
         "line": {
          "color": "green",
          "width": 1
         },
         "mode": "lines",
         "showlegend": false,
         "type": "scatter",
         "x": [
          "2023-03-06",
          "2023-03-07"
         ],
         "y": [
          205.2271470249232,
          205.51459837738048
         ]
        },
        {
         "line": {
          "color": "green",
          "width": 1
         },
         "mode": "lines",
         "showlegend": false,
         "type": "scatter",
         "x": [
          "2023-03-07",
          "2023-03-08"
         ],
         "y": [
          205.51459837738048,
          205.82431566972903
         ]
        },
        {
         "line": {
          "color": "green",
          "width": 1
         },
         "mode": "lines",
         "showlegend": false,
         "type": "scatter",
         "x": [
          "2023-03-08",
          "2023-03-09"
         ],
         "y": [
          205.82431566972903,
          206.1816725628654
         ]
        },
        {
         "line": {
          "color": "green",
          "width": 1
         },
         "mode": "lines",
         "showlegend": false,
         "type": "scatter",
         "x": [
          "2023-03-09",
          "2023-03-10"
         ],
         "y": [
          206.1816725628654,
          206.5745791377761
         ]
        },
        {
         "line": {
          "color": "green",
          "width": 1
         },
         "mode": "lines",
         "showlegend": false,
         "type": "scatter",
         "x": [
          "2023-03-10",
          "2023-03-11"
         ],
         "y": [
          206.5745791377761,
          206.9502898607419
         ]
        },
        {
         "line": {
          "color": "green",
          "width": 1
         },
         "mode": "lines",
         "showlegend": false,
         "type": "scatter",
         "x": [
          "2023-03-11",
          "2023-03-12"
         ],
         "y": [
          206.9502898607419,
          207.27347876298998
         ]
        },
        {
         "line": {
          "color": "green",
          "width": 1
         },
         "mode": "lines",
         "showlegend": false,
         "type": "scatter",
         "x": [
          "2023-03-12",
          "2023-03-13"
         ],
         "y": [
          207.27347876298998,
          207.56719353696238
         ]
        },
        {
         "line": {
          "color": "green",
          "width": 1
         },
         "mode": "lines",
         "showlegend": false,
         "type": "scatter",
         "x": [
          "2023-03-13",
          "2023-03-14"
         ],
         "y": [
          207.56719353696238,
          207.87392019944616
         ]
        },
        {
         "line": {
          "color": "green",
          "width": 1
         },
         "mode": "lines",
         "showlegend": false,
         "type": "scatter",
         "x": [
          "2023-03-14",
          "2023-03-15"
         ],
         "y": [
          207.87392019944616,
          208.19248738107547
         ]
        },
        {
         "line": {
          "color": "green",
          "width": 1
         },
         "mode": "lines",
         "showlegend": false,
         "type": "scatter",
         "x": [
          "2023-03-15",
          "2023-03-16"
         ],
         "y": [
          208.19248738107547,
          208.48546099103788
         ]
        },
        {
         "line": {
          "color": "green",
          "width": 1
         },
         "mode": "lines",
         "showlegend": false,
         "type": "scatter",
         "x": [
          "2023-03-16",
          "2023-03-17"
         ],
         "y": [
          208.48546099103788,
          208.74484776303714
         ]
        },
        {
         "line": {
          "color": "green",
          "width": 1
         },
         "mode": "lines",
         "showlegend": false,
         "type": "scatter",
         "x": [
          "2023-03-17",
          "2023-03-18"
         ],
         "y": [
          208.74484776303714,
          209.0140690152759
         ]
        },
        {
         "line": {
          "color": "green",
          "width": 1
         },
         "mode": "lines",
         "showlegend": false,
         "type": "scatter",
         "x": [
          "2023-03-18",
          "2023-03-19"
         ],
         "y": [
          209.0140690152759,
          209.3313360584969
         ]
        },
        {
         "line": {
          "color": "green",
          "width": 1
         },
         "mode": "lines",
         "showlegend": false,
         "type": "scatter",
         "x": [
          "2023-03-19",
          "2023-03-20"
         ],
         "y": [
          209.3313360584969,
          209.67943134685018
         ]
        },
        {
         "line": {
          "color": "green",
          "width": 1
         },
         "mode": "lines",
         "showlegend": false,
         "type": "scatter",
         "x": [
          "2023-03-20",
          "2023-03-21"
         ],
         "y": [
          209.67943134685018,
          210.0140774678745
         ]
        },
        {
         "line": {
          "color": "green",
          "width": 1
         },
         "mode": "lines",
         "showlegend": false,
         "type": "scatter",
         "x": [
          "2023-03-21",
          "2023-03-22"
         ],
         "y": [
          210.0140774678745,
          210.32229619472486
         ]
        },
        {
         "line": {
          "color": "green",
          "width": 1
         },
         "mode": "lines",
         "showlegend": false,
         "type": "scatter",
         "x": [
          "2023-03-22",
          "2023-03-23"
         ],
         "y": [
          210.32229619472486,
          210.62441949847786
         ]
        },
        {
         "line": {
          "color": "green",
          "width": 1
         },
         "mode": "lines",
         "showlegend": false,
         "type": "scatter",
         "x": [
          "2023-03-23",
          "2023-03-24"
         ],
         "y": [
          210.62441949847786,
          210.93027410718466
         ]
        },
        {
         "line": {
          "color": "green",
          "width": 1
         },
         "mode": "lines",
         "showlegend": false,
         "type": "scatter",
         "x": [
          "2023-03-24",
          "2023-03-25"
         ],
         "y": [
          210.93027410718466,
          211.22806758500272
         ]
        },
        {
         "line": {
          "color": "green",
          "width": 1
         },
         "mode": "lines",
         "showlegend": false,
         "type": "scatter",
         "x": [
          "2023-03-25",
          "2023-03-26"
         ],
         "y": [
          211.22806758500272,
          211.51692278503353
         ]
        },
        {
         "line": {
          "color": "green",
          "width": 1
         },
         "mode": "lines",
         "showlegend": false,
         "type": "scatter",
         "x": [
          "2023-03-26",
          "2023-03-27"
         ],
         "y": [
          211.51692278503353,
          211.8134839756296
         ]
        },
        {
         "line": {
          "color": "green",
          "width": 1
         },
         "mode": "lines",
         "showlegend": false,
         "type": "scatter",
         "x": [
          "2023-03-27",
          "2023-03-28"
         ],
         "y": [
          211.8134839756296,
          212.11205244622326
         ]
        },
        {
         "line": {
          "color": "green",
          "width": 1
         },
         "mode": "lines",
         "showlegend": false,
         "type": "scatter",
         "x": [
          "2023-03-28",
          "2023-03-29"
         ],
         "y": [
          212.11205244622326,
          212.37343167678262
         ]
        },
        {
         "line": {
          "color": "green",
          "width": 1
         },
         "mode": "lines",
         "showlegend": false,
         "type": "scatter",
         "x": [
          "2023-03-29",
          "2023-03-30"
         ],
         "y": [
          212.37343167678262,
          212.5846369600314
         ]
        },
        {
         "line": {
          "color": "green",
          "width": 1
         },
         "mode": "lines",
         "showlegend": false,
         "type": "scatter",
         "x": [
          "2023-03-30",
          "2023-03-31"
         ],
         "y": [
          212.5846369600314,
          212.80539143027747
         ]
        },
        {
         "line": {
          "color": "green",
          "width": 1
         },
         "mode": "lines",
         "showlegend": false,
         "type": "scatter",
         "x": [
          "2023-03-31",
          "2023-04-01"
         ],
         "y": [
          212.80539143027747,
          213.10972459494678
         ]
        },
        {
         "line": {
          "color": "green",
          "width": 1
         },
         "mode": "lines",
         "showlegend": false,
         "type": "scatter",
         "x": [
          "2023-04-01",
          "2023-04-02"
         ],
         "y": [
          213.10972459494678,
          213.48448150103272
         ]
        },
        {
         "line": {
          "color": "green",
          "width": 1
         },
         "mode": "lines",
         "showlegend": false,
         "type": "scatter",
         "x": [
          "2023-04-02",
          "2023-04-03"
         ],
         "y": [
          213.48448150103272,
          213.83345547690482
         ]
        },
        {
         "line": {
          "color": "green",
          "width": 1
         },
         "mode": "lines",
         "showlegend": false,
         "type": "scatter",
         "x": [
          "2023-04-03",
          "2023-04-04"
         ],
         "y": [
          213.83345547690482,
          214.09998007287635
         ]
        },
        {
         "line": {
          "color": "green",
          "width": 1
         },
         "mode": "lines",
         "showlegend": false,
         "type": "scatter",
         "x": [
          "2023-04-04",
          "2023-04-05"
         ],
         "y": [
          214.09998007287635,
          214.34396692794405
         ]
        },
        {
         "line": {
          "color": "green",
          "width": 1
         },
         "mode": "lines",
         "showlegend": false,
         "type": "scatter",
         "x": [
          "2023-04-05",
          "2023-04-06"
         ],
         "y": [
          214.34396692794405,
          214.6604511728274
         ]
        },
        {
         "line": {
          "color": "green",
          "width": 1
         },
         "mode": "lines",
         "showlegend": false,
         "type": "scatter",
         "x": [
          "2023-04-06",
          "2023-04-07"
         ],
         "y": [
          214.6604511728274,
          215.04859935744722
         ]
        },
        {
         "line": {
          "color": "green",
          "width": 1
         },
         "mode": "lines",
         "showlegend": false,
         "type": "scatter",
         "x": [
          "2023-04-07",
          "2023-04-08"
         ],
         "y": [
          215.04859935744722,
          215.41345847382155
         ]
        },
        {
         "line": {
          "color": "green",
          "width": 1
         },
         "mode": "lines",
         "showlegend": false,
         "type": "scatter",
         "x": [
          "2023-04-08",
          "2023-04-09"
         ],
         "y": [
          215.41345847382155,
          215.69565769568274
         ]
        },
        {
         "line": {
          "color": "green",
          "width": 1
         },
         "mode": "lines",
         "showlegend": false,
         "type": "scatter",
         "x": [
          "2023-04-09",
          "2023-04-10"
         ],
         "y": [
          215.69565769568274,
          215.94573029402693
         ]
        },
        {
         "line": {
          "color": "green",
          "width": 1
         },
         "mode": "lines",
         "showlegend": false,
         "type": "scatter",
         "x": [
          "2023-04-10",
          "2023-04-11"
         ],
         "y": [
          215.94573029402693,
          216.2457214090448
         ]
        },
        {
         "line": {
          "color": "green",
          "width": 1
         },
         "mode": "lines",
         "showlegend": false,
         "type": "scatter",
         "x": [
          "2023-04-11",
          "2023-04-12"
         ],
         "y": [
          216.2457214090448,
          216.59920579403138
         ]
        },
        {
         "line": {
          "color": "green",
          "width": 1
         },
         "mode": "lines",
         "showlegend": false,
         "type": "scatter",
         "x": [
          "2023-04-12",
          "2023-04-13"
         ],
         "y": [
          216.59920579403138,
          216.94373603819997
         ]
        },
        {
         "line": {
          "color": "green",
          "width": 1
         },
         "mode": "lines",
         "showlegend": false,
         "type": "scatter",
         "x": [
          "2023-04-13",
          "2023-04-14"
         ],
         "y": [
          216.94373603819997,
          217.25242806425587
         ]
        },
        {
         "line": {
          "color": "green",
          "width": 1
         },
         "mode": "lines",
         "showlegend": false,
         "type": "scatter",
         "x": [
          "2023-04-14",
          "2023-04-15"
         ],
         "y": [
          217.25242806425587,
          217.56845095894295
         ]
        },
        {
         "line": {
          "color": "green",
          "width": 1
         },
         "mode": "lines",
         "showlegend": false,
         "type": "scatter",
         "x": [
          "2023-04-15",
          "2023-04-16"
         ],
         "y": [
          217.56845095894295,
          217.92921483618633
         ]
        },
        {
         "line": {
          "color": "green",
          "width": 1
         },
         "mode": "lines",
         "showlegend": false,
         "type": "scatter",
         "x": [
          "2023-04-16",
          "2023-04-17"
         ],
         "y": [
          217.92921483618633,
          218.30299857484874
         ]
        },
        {
         "line": {
          "color": "green",
          "width": 1
         },
         "mode": "lines",
         "showlegend": false,
         "type": "scatter",
         "x": [
          "2023-04-17",
          "2023-04-18"
         ],
         "y": [
          218.30299857484874,
          218.63391316791402
         ]
        },
        {
         "line": {
          "color": "green",
          "width": 1
         },
         "mode": "lines",
         "showlegend": false,
         "type": "scatter",
         "x": [
          "2023-04-18",
          "2023-04-19"
         ],
         "y": [
          218.63391316791402,
          218.9253230463146
         ]
        },
        {
         "line": {
          "color": "green",
          "width": 1
         },
         "mode": "lines",
         "showlegend": false,
         "type": "scatter",
         "x": [
          "2023-04-19",
          "2023-04-20"
         ],
         "y": [
          218.9253230463146,
          219.23823508353962
         ]
        },
        {
         "line": {
          "color": "green",
          "width": 1
         },
         "mode": "lines",
         "showlegend": false,
         "type": "scatter",
         "x": [
          "2023-04-20",
          "2023-04-21"
         ],
         "y": [
          219.23823508353962,
          219.6081096055114
         ]
        },
        {
         "line": {
          "color": "green",
          "width": 1
         },
         "mode": "lines",
         "showlegend": false,
         "type": "scatter",
         "x": [
          "2023-04-21",
          "2023-04-22"
         ],
         "y": [
          219.6081096055114,
          219.9960553315581
         ]
        },
        {
         "line": {
          "color": "green",
          "width": 1
         },
         "mode": "lines",
         "showlegend": false,
         "type": "scatter",
         "x": [
          "2023-04-22",
          "2023-04-23"
         ],
         "y": [
          219.9960553315581,
          220.33485857054765
         ]
        },
        {
         "line": {
          "color": "green",
          "width": 1
         },
         "mode": "lines",
         "showlegend": false,
         "type": "scatter",
         "x": [
          "2023-04-23",
          "2023-04-24"
         ],
         "y": [
          220.33485857054765,
          220.60356595646857
         ]
        },
        {
         "line": {
          "color": "green",
          "width": 1
         },
         "mode": "lines",
         "showlegend": false,
         "type": "scatter",
         "x": [
          "2023-04-24",
          "2023-04-25"
         ],
         "y": [
          220.60356595646857,
          220.84237050773737
         ]
        }
       ],
       "layout": {
        "template": {
         "data": {
          "bar": [
           {
            "error_x": {
             "color": "#2a3f5f"
            },
            "error_y": {
             "color": "#2a3f5f"
            },
            "marker": {
             "line": {
              "color": "#E5ECF6",
              "width": 0.5
             },
             "pattern": {
              "fillmode": "overlay",
              "size": 10,
              "solidity": 0.2
             }
            },
            "type": "bar"
           }
          ],
          "barpolar": [
           {
            "marker": {
             "line": {
              "color": "#E5ECF6",
              "width": 0.5
             },
             "pattern": {
              "fillmode": "overlay",
              "size": 10,
              "solidity": 0.2
             }
            },
            "type": "barpolar"
           }
          ],
          "carpet": [
           {
            "aaxis": {
             "endlinecolor": "#2a3f5f",
             "gridcolor": "white",
             "linecolor": "white",
             "minorgridcolor": "white",
             "startlinecolor": "#2a3f5f"
            },
            "baxis": {
             "endlinecolor": "#2a3f5f",
             "gridcolor": "white",
             "linecolor": "white",
             "minorgridcolor": "white",
             "startlinecolor": "#2a3f5f"
            },
            "type": "carpet"
           }
          ],
          "choropleth": [
           {
            "colorbar": {
             "outlinewidth": 0,
             "ticks": ""
            },
            "type": "choropleth"
           }
          ],
          "contour": [
           {
            "colorbar": {
             "outlinewidth": 0,
             "ticks": ""
            },
            "colorscale": [
             [
              0,
              "#0d0887"
             ],
             [
              0.1111111111111111,
              "#46039f"
             ],
             [
              0.2222222222222222,
              "#7201a8"
             ],
             [
              0.3333333333333333,
              "#9c179e"
             ],
             [
              0.4444444444444444,
              "#bd3786"
             ],
             [
              0.5555555555555556,
              "#d8576b"
             ],
             [
              0.6666666666666666,
              "#ed7953"
             ],
             [
              0.7777777777777778,
              "#fb9f3a"
             ],
             [
              0.8888888888888888,
              "#fdca26"
             ],
             [
              1,
              "#f0f921"
             ]
            ],
            "type": "contour"
           }
          ],
          "contourcarpet": [
           {
            "colorbar": {
             "outlinewidth": 0,
             "ticks": ""
            },
            "type": "contourcarpet"
           }
          ],
          "heatmap": [
           {
            "colorbar": {
             "outlinewidth": 0,
             "ticks": ""
            },
            "colorscale": [
             [
              0,
              "#0d0887"
             ],
             [
              0.1111111111111111,
              "#46039f"
             ],
             [
              0.2222222222222222,
              "#7201a8"
             ],
             [
              0.3333333333333333,
              "#9c179e"
             ],
             [
              0.4444444444444444,
              "#bd3786"
             ],
             [
              0.5555555555555556,
              "#d8576b"
             ],
             [
              0.6666666666666666,
              "#ed7953"
             ],
             [
              0.7777777777777778,
              "#fb9f3a"
             ],
             [
              0.8888888888888888,
              "#fdca26"
             ],
             [
              1,
              "#f0f921"
             ]
            ],
            "type": "heatmap"
           }
          ],
          "heatmapgl": [
           {
            "colorbar": {
             "outlinewidth": 0,
             "ticks": ""
            },
            "colorscale": [
             [
              0,
              "#0d0887"
             ],
             [
              0.1111111111111111,
              "#46039f"
             ],
             [
              0.2222222222222222,
              "#7201a8"
             ],
             [
              0.3333333333333333,
              "#9c179e"
             ],
             [
              0.4444444444444444,
              "#bd3786"
             ],
             [
              0.5555555555555556,
              "#d8576b"
             ],
             [
              0.6666666666666666,
              "#ed7953"
             ],
             [
              0.7777777777777778,
              "#fb9f3a"
             ],
             [
              0.8888888888888888,
              "#fdca26"
             ],
             [
              1,
              "#f0f921"
             ]
            ],
            "type": "heatmapgl"
           }
          ],
          "histogram": [
           {
            "marker": {
             "pattern": {
              "fillmode": "overlay",
              "size": 10,
              "solidity": 0.2
             }
            },
            "type": "histogram"
           }
          ],
          "histogram2d": [
           {
            "colorbar": {
             "outlinewidth": 0,
             "ticks": ""
            },
            "colorscale": [
             [
              0,
              "#0d0887"
             ],
             [
              0.1111111111111111,
              "#46039f"
             ],
             [
              0.2222222222222222,
              "#7201a8"
             ],
             [
              0.3333333333333333,
              "#9c179e"
             ],
             [
              0.4444444444444444,
              "#bd3786"
             ],
             [
              0.5555555555555556,
              "#d8576b"
             ],
             [
              0.6666666666666666,
              "#ed7953"
             ],
             [
              0.7777777777777778,
              "#fb9f3a"
             ],
             [
              0.8888888888888888,
              "#fdca26"
             ],
             [
              1,
              "#f0f921"
             ]
            ],
            "type": "histogram2d"
           }
          ],
          "histogram2dcontour": [
           {
            "colorbar": {
             "outlinewidth": 0,
             "ticks": ""
            },
            "colorscale": [
             [
              0,
              "#0d0887"
             ],
             [
              0.1111111111111111,
              "#46039f"
             ],
             [
              0.2222222222222222,
              "#7201a8"
             ],
             [
              0.3333333333333333,
              "#9c179e"
             ],
             [
              0.4444444444444444,
              "#bd3786"
             ],
             [
              0.5555555555555556,
              "#d8576b"
             ],
             [
              0.6666666666666666,
              "#ed7953"
             ],
             [
              0.7777777777777778,
              "#fb9f3a"
             ],
             [
              0.8888888888888888,
              "#fdca26"
             ],
             [
              1,
              "#f0f921"
             ]
            ],
            "type": "histogram2dcontour"
           }
          ],
          "mesh3d": [
           {
            "colorbar": {
             "outlinewidth": 0,
             "ticks": ""
            },
            "type": "mesh3d"
           }
          ],
          "parcoords": [
           {
            "line": {
             "colorbar": {
              "outlinewidth": 0,
              "ticks": ""
             }
            },
            "type": "parcoords"
           }
          ],
          "pie": [
           {
            "automargin": true,
            "type": "pie"
           }
          ],
          "scatter": [
           {
            "marker": {
             "colorbar": {
              "outlinewidth": 0,
              "ticks": ""
             }
            },
            "type": "scatter"
           }
          ],
          "scatter3d": [
           {
            "line": {
             "colorbar": {
              "outlinewidth": 0,
              "ticks": ""
             }
            },
            "marker": {
             "colorbar": {
              "outlinewidth": 0,
              "ticks": ""
             }
            },
            "type": "scatter3d"
           }
          ],
          "scattercarpet": [
           {
            "marker": {
             "colorbar": {
              "outlinewidth": 0,
              "ticks": ""
             }
            },
            "type": "scattercarpet"
           }
          ],
          "scattergeo": [
           {
            "marker": {
             "colorbar": {
              "outlinewidth": 0,
              "ticks": ""
             }
            },
            "type": "scattergeo"
           }
          ],
          "scattergl": [
           {
            "marker": {
             "colorbar": {
              "outlinewidth": 0,
              "ticks": ""
             }
            },
            "type": "scattergl"
           }
          ],
          "scattermapbox": [
           {
            "marker": {
             "colorbar": {
              "outlinewidth": 0,
              "ticks": ""
             }
            },
            "type": "scattermapbox"
           }
          ],
          "scatterpolar": [
           {
            "marker": {
             "colorbar": {
              "outlinewidth": 0,
              "ticks": ""
             }
            },
            "type": "scatterpolar"
           }
          ],
          "scatterpolargl": [
           {
            "marker": {
             "colorbar": {
              "outlinewidth": 0,
              "ticks": ""
             }
            },
            "type": "scatterpolargl"
           }
          ],
          "scatterternary": [
           {
            "marker": {
             "colorbar": {
              "outlinewidth": 0,
              "ticks": ""
             }
            },
            "type": "scatterternary"
           }
          ],
          "surface": [
           {
            "colorbar": {
             "outlinewidth": 0,
             "ticks": ""
            },
            "colorscale": [
             [
              0,
              "#0d0887"
             ],
             [
              0.1111111111111111,
              "#46039f"
             ],
             [
              0.2222222222222222,
              "#7201a8"
             ],
             [
              0.3333333333333333,
              "#9c179e"
             ],
             [
              0.4444444444444444,
              "#bd3786"
             ],
             [
              0.5555555555555556,
              "#d8576b"
             ],
             [
              0.6666666666666666,
              "#ed7953"
             ],
             [
              0.7777777777777778,
              "#fb9f3a"
             ],
             [
              0.8888888888888888,
              "#fdca26"
             ],
             [
              1,
              "#f0f921"
             ]
            ],
            "type": "surface"
           }
          ],
          "table": [
           {
            "cells": {
             "fill": {
              "color": "#EBF0F8"
             },
             "line": {
              "color": "white"
             }
            },
            "header": {
             "fill": {
              "color": "#C8D4E3"
             },
             "line": {
              "color": "white"
             }
            },
            "type": "table"
           }
          ]
         },
         "layout": {
          "annotationdefaults": {
           "arrowcolor": "#2a3f5f",
           "arrowhead": 0,
           "arrowwidth": 1
          },
          "autotypenumbers": "strict",
          "coloraxis": {
           "colorbar": {
            "outlinewidth": 0,
            "ticks": ""
           }
          },
          "colorscale": {
           "diverging": [
            [
             0,
             "#8e0152"
            ],
            [
             0.1,
             "#c51b7d"
            ],
            [
             0.2,
             "#de77ae"
            ],
            [
             0.3,
             "#f1b6da"
            ],
            [
             0.4,
             "#fde0ef"
            ],
            [
             0.5,
             "#f7f7f7"
            ],
            [
             0.6,
             "#e6f5d0"
            ],
            [
             0.7,
             "#b8e186"
            ],
            [
             0.8,
             "#7fbc41"
            ],
            [
             0.9,
             "#4d9221"
            ],
            [
             1,
             "#276419"
            ]
           ],
           "sequential": [
            [
             0,
             "#0d0887"
            ],
            [
             0.1111111111111111,
             "#46039f"
            ],
            [
             0.2222222222222222,
             "#7201a8"
            ],
            [
             0.3333333333333333,
             "#9c179e"
            ],
            [
             0.4444444444444444,
             "#bd3786"
            ],
            [
             0.5555555555555556,
             "#d8576b"
            ],
            [
             0.6666666666666666,
             "#ed7953"
            ],
            [
             0.7777777777777778,
             "#fb9f3a"
            ],
            [
             0.8888888888888888,
             "#fdca26"
            ],
            [
             1,
             "#f0f921"
            ]
           ],
           "sequentialminus": [
            [
             0,
             "#0d0887"
            ],
            [
             0.1111111111111111,
             "#46039f"
            ],
            [
             0.2222222222222222,
             "#7201a8"
            ],
            [
             0.3333333333333333,
             "#9c179e"
            ],
            [
             0.4444444444444444,
             "#bd3786"
            ],
            [
             0.5555555555555556,
             "#d8576b"
            ],
            [
             0.6666666666666666,
             "#ed7953"
            ],
            [
             0.7777777777777778,
             "#fb9f3a"
            ],
            [
             0.8888888888888888,
             "#fdca26"
            ],
            [
             1,
             "#f0f921"
            ]
           ]
          },
          "colorway": [
           "#636efa",
           "#EF553B",
           "#00cc96",
           "#ab63fa",
           "#FFA15A",
           "#19d3f3",
           "#FF6692",
           "#B6E880",
           "#FF97FF",
           "#FECB52"
          ],
          "font": {
           "color": "#2a3f5f"
          },
          "geo": {
           "bgcolor": "white",
           "lakecolor": "white",
           "landcolor": "#E5ECF6",
           "showlakes": true,
           "showland": true,
           "subunitcolor": "white"
          },
          "hoverlabel": {
           "align": "left"
          },
          "hovermode": "closest",
          "mapbox": {
           "style": "light"
          },
          "paper_bgcolor": "white",
          "plot_bgcolor": "#E5ECF6",
          "polar": {
           "angularaxis": {
            "gridcolor": "white",
            "linecolor": "white",
            "ticks": ""
           },
           "bgcolor": "#E5ECF6",
           "radialaxis": {
            "gridcolor": "white",
            "linecolor": "white",
            "ticks": ""
           }
          },
          "scene": {
           "xaxis": {
            "backgroundcolor": "#E5ECF6",
            "gridcolor": "white",
            "gridwidth": 2,
            "linecolor": "white",
            "showbackground": true,
            "ticks": "",
            "zerolinecolor": "white"
           },
           "yaxis": {
            "backgroundcolor": "#E5ECF6",
            "gridcolor": "white",
            "gridwidth": 2,
            "linecolor": "white",
            "showbackground": true,
            "ticks": "",
            "zerolinecolor": "white"
           },
           "zaxis": {
            "backgroundcolor": "#E5ECF6",
            "gridcolor": "white",
            "gridwidth": 2,
            "linecolor": "white",
            "showbackground": true,
            "ticks": "",
            "zerolinecolor": "white"
           }
          },
          "shapedefaults": {
           "line": {
            "color": "#2a3f5f"
           }
          },
          "ternary": {
           "aaxis": {
            "gridcolor": "white",
            "linecolor": "white",
            "ticks": ""
           },
           "baxis": {
            "gridcolor": "white",
            "linecolor": "white",
            "ticks": ""
           },
           "bgcolor": "#E5ECF6",
           "caxis": {
            "gridcolor": "white",
            "linecolor": "white",
            "ticks": ""
           }
          },
          "title": {
           "x": 0.05
          },
          "xaxis": {
           "automargin": true,
           "gridcolor": "white",
           "linecolor": "white",
           "ticks": "",
           "title": {
            "standoff": 15
           },
           "zerolinecolor": "white",
           "zerolinewidth": 2
          },
          "yaxis": {
           "automargin": true,
           "gridcolor": "white",
           "linecolor": "white",
           "ticks": "",
           "title": {
            "standoff": 15
           },
           "zerolinecolor": "white",
           "zerolinewidth": 2
          }
         }
        },
        "title": {
         "text": "Prediccion Dolar Oficial"
        },
        "xaxis": {
         "title": {
          "text": "Fecha"
         }
        },
        "yaxis": {
         "title": {
          "text": "Valores"
         }
        }
       }
      }
     },
     "metadata": {},
     "output_type": "display_data"
    }
   ],
   "source": [
    "import plotly.graph_objs as go\n",
    "import plotly.offline as pyo\n",
    "\n",
    "data = []\n",
    "for i in range(1, len(values_new)):\n",
    "    if y[i] > y[i-1]:\n",
    "        color = 'green'\n",
    "    else:\n",
    "        color = 'red'\n",
    "    trace = go.Scatter(x=x[i-1:i+1], y=y[i-1:i+1], mode='lines', line=dict(color=color, width=1), showlegend=False)\n",
    "    data.append(trace)\n",
    "\n",
    "layout = go.Layout(title='Prediccion Dolar Oficial', xaxis=dict(title='Fecha'), yaxis=dict(title='Valores'))\n",
    "fig = go.Figure(data=data, layout=layout)\n",
    "pyo.iplot(fig)"
   ]
  },
  {
   "cell_type": "code",
   "execution_count": 36,
   "metadata": {
    "execution": {
     "iopub.execute_input": "2023-01-19T22:14:33.063073Z",
     "iopub.status.busy": "2023-01-19T22:14:33.062046Z",
     "iopub.status.idle": "2023-01-19T22:14:33.093367Z",
     "shell.execute_reply": "2023-01-19T22:14:33.091365Z"
    }
   },
   "outputs": [],
   "source": [
    "with open('data/html/Predicciones/Pred_DolarOF.html', 'w') as f:\n",
    "    f.write(fig.to_html(include_plotlyjs='cdn'))"
   ]
  }
 ],
 "metadata": {
  "kernelspec": {
   "display_name": "base",
   "language": "python",
   "name": "python3"
  },
  "language_info": {
   "codemirror_mode": {
    "name": "ipython",
    "version": 3
   },
   "file_extension": ".py",
   "mimetype": "text/x-python",
   "name": "python",
   "nbconvert_exporter": "python",
   "pygments_lexer": "ipython3",
   "version": "3.9.12"
  },
  "vscode": {
   "interpreter": {
    "hash": "f9ab598b9454a605c842d50279dc9b9787a69dd935282767b7751d6d2d6dcde1"
   }
  }
 },
 "nbformat": 4,
 "nbformat_minor": 2
}
