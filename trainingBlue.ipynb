{
 "cells": [
  {
   "cell_type": "code",
   "execution_count": 1,
   "metadata": {
    "execution": {
     "iopub.execute_input": "2023-01-19T22:12:22.724055Z",
     "iopub.status.busy": "2023-01-19T22:12:22.723058Z",
     "iopub.status.idle": "2023-01-19T22:12:23.869567Z",
     "shell.execute_reply": "2023-01-19T22:12:23.868546Z"
    }
   },
   "outputs": [
    {
     "data": {
      "text/html": [
       "<div>\n",
       "<style scoped>\n",
       "    .dataframe tbody tr th:only-of-type {\n",
       "        vertical-align: middle;\n",
       "    }\n",
       "\n",
       "    .dataframe tbody tr th {\n",
       "        vertical-align: top;\n",
       "    }\n",
       "\n",
       "    .dataframe thead th {\n",
       "        text-align: right;\n",
       "    }\n",
       "</style>\n",
       "<table border=\"1\" class=\"dataframe\">\n",
       "  <thead>\n",
       "    <tr style=\"text-align: right;\">\n",
       "      <th></th>\n",
       "      <th>Fecha</th>\n",
       "      <th>Compra</th>\n",
       "      <th>Venta</th>\n",
       "    </tr>\n",
       "  </thead>\n",
       "  <tbody>\n",
       "    <tr>\n",
       "      <th>0</th>\n",
       "      <td>2023-01-31</td>\n",
       "      <td>379.00</td>\n",
       "      <td>383.00</td>\n",
       "    </tr>\n",
       "    <tr>\n",
       "      <th>1</th>\n",
       "      <td>2023-01-30</td>\n",
       "      <td>382.00</td>\n",
       "      <td>386.00</td>\n",
       "    </tr>\n",
       "    <tr>\n",
       "      <th>2</th>\n",
       "      <td>2023-01-27</td>\n",
       "      <td>381.00</td>\n",
       "      <td>385.00</td>\n",
       "    </tr>\n",
       "    <tr>\n",
       "      <th>3</th>\n",
       "      <td>2023-01-26</td>\n",
       "      <td>379.00</td>\n",
       "      <td>383.00</td>\n",
       "    </tr>\n",
       "    <tr>\n",
       "      <th>4</th>\n",
       "      <td>2023-01-25</td>\n",
       "      <td>377.00</td>\n",
       "      <td>381.00</td>\n",
       "    </tr>\n",
       "    <tr>\n",
       "      <th>...</th>\n",
       "      <td>...</td>\n",
       "      <td>...</td>\n",
       "      <td>...</td>\n",
       "    </tr>\n",
       "    <tr>\n",
       "      <th>3216</th>\n",
       "      <td>2010-01-07</td>\n",
       "      <td>3.86</td>\n",
       "      <td>3.87</td>\n",
       "    </tr>\n",
       "    <tr>\n",
       "      <th>3217</th>\n",
       "      <td>2010-01-06</td>\n",
       "      <td>3.87</td>\n",
       "      <td>3.88</td>\n",
       "    </tr>\n",
       "    <tr>\n",
       "      <th>3218</th>\n",
       "      <td>2010-01-05</td>\n",
       "      <td>3.86</td>\n",
       "      <td>3.86</td>\n",
       "    </tr>\n",
       "    <tr>\n",
       "      <th>3219</th>\n",
       "      <td>2010-01-04</td>\n",
       "      <td>3.86</td>\n",
       "      <td>3.86</td>\n",
       "    </tr>\n",
       "    <tr>\n",
       "      <th>3220</th>\n",
       "      <td>2023-02-01</td>\n",
       "      <td>0.00</td>\n",
       "      <td>377.00</td>\n",
       "    </tr>\n",
       "  </tbody>\n",
       "</table>\n",
       "<p>3221 rows × 3 columns</p>\n",
       "</div>"
      ],
      "text/plain": [
       "          Fecha  Compra   Venta\n",
       "0    2023-01-31  379.00  383.00\n",
       "1    2023-01-30  382.00  386.00\n",
       "2    2023-01-27  381.00  385.00\n",
       "3    2023-01-26  379.00  383.00\n",
       "4    2023-01-25  377.00  381.00\n",
       "...         ...     ...     ...\n",
       "3216 2010-01-07    3.86    3.87\n",
       "3217 2010-01-06    3.87    3.88\n",
       "3218 2010-01-05    3.86    3.86\n",
       "3219 2010-01-04    3.86    3.86\n",
       "3220 2023-02-01    0.00  377.00\n",
       "\n",
       "[3221 rows x 3 columns]"
      ]
     },
     "execution_count": 1,
     "metadata": {},
     "output_type": "execute_result"
    }
   ],
   "source": [
    "import pandas as pd\n",
    "import matplotlib.pyplot as plt\n",
    "import time \n",
    "\n",
    "df = pd.read_pickle('data/pkl/PreciosBlue.xlsx.pkl')\n",
    "df"
   ]
  },
  {
   "cell_type": "code",
   "execution_count": 2,
   "metadata": {
    "execution": {
     "iopub.execute_input": "2023-01-19T22:12:23.895718Z",
     "iopub.status.busy": "2023-01-19T22:12:23.895718Z",
     "iopub.status.idle": "2023-01-19T22:12:23.918861Z",
     "shell.execute_reply": "2023-01-19T22:12:23.917856Z"
    }
   },
   "outputs": [
    {
     "data": {
      "text/html": [
       "<div>\n",
       "<style scoped>\n",
       "    .dataframe tbody tr th:only-of-type {\n",
       "        vertical-align: middle;\n",
       "    }\n",
       "\n",
       "    .dataframe tbody tr th {\n",
       "        vertical-align: top;\n",
       "    }\n",
       "\n",
       "    .dataframe thead th {\n",
       "        text-align: right;\n",
       "    }\n",
       "</style>\n",
       "<table border=\"1\" class=\"dataframe\">\n",
       "  <thead>\n",
       "    <tr style=\"text-align: right;\">\n",
       "      <th></th>\n",
       "      <th>index</th>\n",
       "      <th>ds</th>\n",
       "      <th>Compra</th>\n",
       "      <th>y</th>\n",
       "    </tr>\n",
       "  </thead>\n",
       "  <tbody>\n",
       "    <tr>\n",
       "      <th>0</th>\n",
       "      <td>0</td>\n",
       "      <td>2023-01-31</td>\n",
       "      <td>379.0</td>\n",
       "      <td>383.0</td>\n",
       "    </tr>\n",
       "    <tr>\n",
       "      <th>1</th>\n",
       "      <td>1</td>\n",
       "      <td>2023-01-30</td>\n",
       "      <td>382.0</td>\n",
       "      <td>386.0</td>\n",
       "    </tr>\n",
       "    <tr>\n",
       "      <th>2</th>\n",
       "      <td>2</td>\n",
       "      <td>2023-01-27</td>\n",
       "      <td>381.0</td>\n",
       "      <td>385.0</td>\n",
       "    </tr>\n",
       "    <tr>\n",
       "      <th>3</th>\n",
       "      <td>3</td>\n",
       "      <td>2023-01-26</td>\n",
       "      <td>379.0</td>\n",
       "      <td>383.0</td>\n",
       "    </tr>\n",
       "    <tr>\n",
       "      <th>4</th>\n",
       "      <td>4</td>\n",
       "      <td>2023-01-25</td>\n",
       "      <td>377.0</td>\n",
       "      <td>381.0</td>\n",
       "    </tr>\n",
       "  </tbody>\n",
       "</table>\n",
       "</div>"
      ],
      "text/plain": [
       "   index         ds  Compra      y\n",
       "0      0 2023-01-31   379.0  383.0\n",
       "1      1 2023-01-30   382.0  386.0\n",
       "2      2 2023-01-27   381.0  385.0\n",
       "3      3 2023-01-26   379.0  383.0\n",
       "4      4 2023-01-25   377.0  381.0"
      ]
     },
     "execution_count": 2,
     "metadata": {},
     "output_type": "execute_result"
    }
   ],
   "source": [
    "# renaming for fbprophet\n",
    "df.rename(columns={'Fecha':'ds'}, inplace=True)\n",
    "df.rename(columns={'Venta':'y'}, inplace=True)\n",
    "df.reset_index(inplace=True)\n",
    "df.head()"
   ]
  },
  {
   "cell_type": "code",
   "execution_count": 3,
   "metadata": {
    "execution": {
     "iopub.execute_input": "2023-01-19T22:12:23.921852Z",
     "iopub.status.busy": "2023-01-19T22:12:23.921852Z",
     "iopub.status.idle": "2023-01-19T22:12:23.935306Z",
     "shell.execute_reply": "2023-01-19T22:12:23.934305Z"
    }
   },
   "outputs": [],
   "source": [
    "df.rename(columns={'Fecha':'ds'}, inplace=True)"
   ]
  },
  {
   "cell_type": "code",
   "execution_count": 4,
   "metadata": {
    "execution": {
     "iopub.execute_input": "2023-01-19T22:12:23.938836Z",
     "iopub.status.busy": "2023-01-19T22:12:23.938836Z",
     "iopub.status.idle": "2023-01-19T22:12:23.965636Z",
     "shell.execute_reply": "2023-01-19T22:12:23.965636Z"
    }
   },
   "outputs": [
    {
     "data": {
      "text/html": [
       "<div>\n",
       "<style scoped>\n",
       "    .dataframe tbody tr th:only-of-type {\n",
       "        vertical-align: middle;\n",
       "    }\n",
       "\n",
       "    .dataframe tbody tr th {\n",
       "        vertical-align: top;\n",
       "    }\n",
       "\n",
       "    .dataframe thead th {\n",
       "        text-align: right;\n",
       "    }\n",
       "</style>\n",
       "<table border=\"1\" class=\"dataframe\">\n",
       "  <thead>\n",
       "    <tr style=\"text-align: right;\">\n",
       "      <th></th>\n",
       "      <th>index</th>\n",
       "      <th>ds</th>\n",
       "      <th>Compra</th>\n",
       "      <th>y</th>\n",
       "    </tr>\n",
       "  </thead>\n",
       "  <tbody>\n",
       "    <tr>\n",
       "      <th>0</th>\n",
       "      <td>0</td>\n",
       "      <td>2023-01-31</td>\n",
       "      <td>379.00</td>\n",
       "      <td>383.00</td>\n",
       "    </tr>\n",
       "    <tr>\n",
       "      <th>1</th>\n",
       "      <td>1</td>\n",
       "      <td>2023-01-30</td>\n",
       "      <td>382.00</td>\n",
       "      <td>386.00</td>\n",
       "    </tr>\n",
       "    <tr>\n",
       "      <th>2</th>\n",
       "      <td>2</td>\n",
       "      <td>2023-01-27</td>\n",
       "      <td>381.00</td>\n",
       "      <td>385.00</td>\n",
       "    </tr>\n",
       "    <tr>\n",
       "      <th>3</th>\n",
       "      <td>3</td>\n",
       "      <td>2023-01-26</td>\n",
       "      <td>379.00</td>\n",
       "      <td>383.00</td>\n",
       "    </tr>\n",
       "    <tr>\n",
       "      <th>4</th>\n",
       "      <td>4</td>\n",
       "      <td>2023-01-25</td>\n",
       "      <td>377.00</td>\n",
       "      <td>381.00</td>\n",
       "    </tr>\n",
       "    <tr>\n",
       "      <th>...</th>\n",
       "      <td>...</td>\n",
       "      <td>...</td>\n",
       "      <td>...</td>\n",
       "      <td>...</td>\n",
       "    </tr>\n",
       "    <tr>\n",
       "      <th>1270</th>\n",
       "      <td>1270</td>\n",
       "      <td>2018-01-05</td>\n",
       "      <td>19.05</td>\n",
       "      <td>19.45</td>\n",
       "    </tr>\n",
       "    <tr>\n",
       "      <th>1271</th>\n",
       "      <td>1271</td>\n",
       "      <td>2018-01-04</td>\n",
       "      <td>19.01</td>\n",
       "      <td>19.41</td>\n",
       "    </tr>\n",
       "    <tr>\n",
       "      <th>1272</th>\n",
       "      <td>1272</td>\n",
       "      <td>2018-01-03</td>\n",
       "      <td>18.89</td>\n",
       "      <td>19.29</td>\n",
       "    </tr>\n",
       "    <tr>\n",
       "      <th>1273</th>\n",
       "      <td>1273</td>\n",
       "      <td>2018-01-02</td>\n",
       "      <td>18.85</td>\n",
       "      <td>19.25</td>\n",
       "    </tr>\n",
       "    <tr>\n",
       "      <th>3220</th>\n",
       "      <td>3220</td>\n",
       "      <td>2023-02-01</td>\n",
       "      <td>0.00</td>\n",
       "      <td>377.00</td>\n",
       "    </tr>\n",
       "  </tbody>\n",
       "</table>\n",
       "<p>1275 rows × 4 columns</p>\n",
       "</div>"
      ],
      "text/plain": [
       "      index         ds  Compra       y\n",
       "0         0 2023-01-31  379.00  383.00\n",
       "1         1 2023-01-30  382.00  386.00\n",
       "2         2 2023-01-27  381.00  385.00\n",
       "3         3 2023-01-26  379.00  383.00\n",
       "4         4 2023-01-25  377.00  381.00\n",
       "...     ...        ...     ...     ...\n",
       "1270   1270 2018-01-05   19.05   19.45\n",
       "1271   1271 2018-01-04   19.01   19.41\n",
       "1272   1272 2018-01-03   18.89   19.29\n",
       "1273   1273 2018-01-02   18.85   19.25\n",
       "3220   3220 2023-02-01    0.00  377.00\n",
       "\n",
       "[1275 rows x 4 columns]"
      ]
     },
     "execution_count": 4,
     "metadata": {},
     "output_type": "execute_result"
    }
   ],
   "source": [
    "df = df[df['ds'] >= '2018-01-01']\n",
    "\n",
    "df"
   ]
  },
  {
   "cell_type": "code",
   "execution_count": 5,
   "metadata": {
    "execution": {
     "iopub.execute_input": "2023-01-19T22:12:23.970598Z",
     "iopub.status.busy": "2023-01-19T22:12:23.970598Z",
     "iopub.status.idle": "2023-01-19T22:12:23.996971Z",
     "shell.execute_reply": "2023-01-19T22:12:23.995958Z"
    }
   },
   "outputs": [
    {
     "data": {
      "text/html": [
       "<div>\n",
       "<style scoped>\n",
       "    .dataframe tbody tr th:only-of-type {\n",
       "        vertical-align: middle;\n",
       "    }\n",
       "\n",
       "    .dataframe tbody tr th {\n",
       "        vertical-align: top;\n",
       "    }\n",
       "\n",
       "    .dataframe thead th {\n",
       "        text-align: right;\n",
       "    }\n",
       "</style>\n",
       "<table border=\"1\" class=\"dataframe\">\n",
       "  <thead>\n",
       "    <tr style=\"text-align: right;\">\n",
       "      <th></th>\n",
       "      <th>index</th>\n",
       "      <th>ds</th>\n",
       "      <th>y</th>\n",
       "    </tr>\n",
       "  </thead>\n",
       "  <tbody>\n",
       "    <tr>\n",
       "      <th>0</th>\n",
       "      <td>0</td>\n",
       "      <td>2023-01-31</td>\n",
       "      <td>383.00</td>\n",
       "    </tr>\n",
       "    <tr>\n",
       "      <th>1</th>\n",
       "      <td>1</td>\n",
       "      <td>2023-01-30</td>\n",
       "      <td>386.00</td>\n",
       "    </tr>\n",
       "    <tr>\n",
       "      <th>2</th>\n",
       "      <td>2</td>\n",
       "      <td>2023-01-27</td>\n",
       "      <td>385.00</td>\n",
       "    </tr>\n",
       "    <tr>\n",
       "      <th>3</th>\n",
       "      <td>3</td>\n",
       "      <td>2023-01-26</td>\n",
       "      <td>383.00</td>\n",
       "    </tr>\n",
       "    <tr>\n",
       "      <th>4</th>\n",
       "      <td>4</td>\n",
       "      <td>2023-01-25</td>\n",
       "      <td>381.00</td>\n",
       "    </tr>\n",
       "    <tr>\n",
       "      <th>...</th>\n",
       "      <td>...</td>\n",
       "      <td>...</td>\n",
       "      <td>...</td>\n",
       "    </tr>\n",
       "    <tr>\n",
       "      <th>1270</th>\n",
       "      <td>1270</td>\n",
       "      <td>2018-01-05</td>\n",
       "      <td>19.45</td>\n",
       "    </tr>\n",
       "    <tr>\n",
       "      <th>1271</th>\n",
       "      <td>1271</td>\n",
       "      <td>2018-01-04</td>\n",
       "      <td>19.41</td>\n",
       "    </tr>\n",
       "    <tr>\n",
       "      <th>1272</th>\n",
       "      <td>1272</td>\n",
       "      <td>2018-01-03</td>\n",
       "      <td>19.29</td>\n",
       "    </tr>\n",
       "    <tr>\n",
       "      <th>1273</th>\n",
       "      <td>1273</td>\n",
       "      <td>2018-01-02</td>\n",
       "      <td>19.25</td>\n",
       "    </tr>\n",
       "    <tr>\n",
       "      <th>3220</th>\n",
       "      <td>3220</td>\n",
       "      <td>2023-02-01</td>\n",
       "      <td>377.00</td>\n",
       "    </tr>\n",
       "  </tbody>\n",
       "</table>\n",
       "<p>1275 rows × 3 columns</p>\n",
       "</div>"
      ],
      "text/plain": [
       "      index         ds       y\n",
       "0         0 2023-01-31  383.00\n",
       "1         1 2023-01-30  386.00\n",
       "2         2 2023-01-27  385.00\n",
       "3         3 2023-01-26  383.00\n",
       "4         4 2023-01-25  381.00\n",
       "...     ...        ...     ...\n",
       "1270   1270 2018-01-05   19.45\n",
       "1271   1271 2018-01-04   19.41\n",
       "1272   1272 2018-01-03   19.29\n",
       "1273   1273 2018-01-02   19.25\n",
       "3220   3220 2023-02-01  377.00\n",
       "\n",
       "[1275 rows x 3 columns]"
      ]
     },
     "execution_count": 5,
     "metadata": {},
     "output_type": "execute_result"
    }
   ],
   "source": [
    "df.drop(['Compra'], axis=1)"
   ]
  },
  {
   "cell_type": "code",
   "execution_count": 6,
   "metadata": {
    "execution": {
     "iopub.execute_input": "2023-01-19T22:12:24.001514Z",
     "iopub.status.busy": "2023-01-19T22:12:23.999041Z",
     "iopub.status.idle": "2023-01-19T22:12:24.013096Z",
     "shell.execute_reply": "2023-01-19T22:12:24.012093Z"
    }
   },
   "outputs": [],
   "source": [
    "df = df.sort_values(by='ds')"
   ]
  },
  {
   "cell_type": "code",
   "execution_count": 7,
   "metadata": {},
   "outputs": [
    {
     "data": {
      "text/html": [
       "<div>\n",
       "<style scoped>\n",
       "    .dataframe tbody tr th:only-of-type {\n",
       "        vertical-align: middle;\n",
       "    }\n",
       "\n",
       "    .dataframe tbody tr th {\n",
       "        vertical-align: top;\n",
       "    }\n",
       "\n",
       "    .dataframe thead th {\n",
       "        text-align: right;\n",
       "    }\n",
       "</style>\n",
       "<table border=\"1\" class=\"dataframe\">\n",
       "  <thead>\n",
       "    <tr style=\"text-align: right;\">\n",
       "      <th></th>\n",
       "      <th>index</th>\n",
       "      <th>ds</th>\n",
       "      <th>Compra</th>\n",
       "      <th>y</th>\n",
       "    </tr>\n",
       "  </thead>\n",
       "  <tbody>\n",
       "    <tr>\n",
       "      <th>1273</th>\n",
       "      <td>1273</td>\n",
       "      <td>2018-01-02</td>\n",
       "      <td>18.85</td>\n",
       "      <td>19.25</td>\n",
       "    </tr>\n",
       "    <tr>\n",
       "      <th>1272</th>\n",
       "      <td>1272</td>\n",
       "      <td>2018-01-03</td>\n",
       "      <td>18.89</td>\n",
       "      <td>19.29</td>\n",
       "    </tr>\n",
       "    <tr>\n",
       "      <th>1271</th>\n",
       "      <td>1271</td>\n",
       "      <td>2018-01-04</td>\n",
       "      <td>19.01</td>\n",
       "      <td>19.41</td>\n",
       "    </tr>\n",
       "    <tr>\n",
       "      <th>1270</th>\n",
       "      <td>1270</td>\n",
       "      <td>2018-01-05</td>\n",
       "      <td>19.05</td>\n",
       "      <td>19.45</td>\n",
       "    </tr>\n",
       "    <tr>\n",
       "      <th>1269</th>\n",
       "      <td>1269</td>\n",
       "      <td>2018-01-08</td>\n",
       "      <td>19.18</td>\n",
       "      <td>19.58</td>\n",
       "    </tr>\n",
       "    <tr>\n",
       "      <th>...</th>\n",
       "      <td>...</td>\n",
       "      <td>...</td>\n",
       "      <td>...</td>\n",
       "      <td>...</td>\n",
       "    </tr>\n",
       "    <tr>\n",
       "      <th>3</th>\n",
       "      <td>3</td>\n",
       "      <td>2023-01-26</td>\n",
       "      <td>379.00</td>\n",
       "      <td>383.00</td>\n",
       "    </tr>\n",
       "    <tr>\n",
       "      <th>2</th>\n",
       "      <td>2</td>\n",
       "      <td>2023-01-27</td>\n",
       "      <td>381.00</td>\n",
       "      <td>385.00</td>\n",
       "    </tr>\n",
       "    <tr>\n",
       "      <th>1</th>\n",
       "      <td>1</td>\n",
       "      <td>2023-01-30</td>\n",
       "      <td>382.00</td>\n",
       "      <td>386.00</td>\n",
       "    </tr>\n",
       "    <tr>\n",
       "      <th>0</th>\n",
       "      <td>0</td>\n",
       "      <td>2023-01-31</td>\n",
       "      <td>379.00</td>\n",
       "      <td>383.00</td>\n",
       "    </tr>\n",
       "    <tr>\n",
       "      <th>3220</th>\n",
       "      <td>3220</td>\n",
       "      <td>2023-02-01</td>\n",
       "      <td>0.00</td>\n",
       "      <td>377.00</td>\n",
       "    </tr>\n",
       "  </tbody>\n",
       "</table>\n",
       "<p>1275 rows × 4 columns</p>\n",
       "</div>"
      ],
      "text/plain": [
       "      index         ds  Compra       y\n",
       "1273   1273 2018-01-02   18.85   19.25\n",
       "1272   1272 2018-01-03   18.89   19.29\n",
       "1271   1271 2018-01-04   19.01   19.41\n",
       "1270   1270 2018-01-05   19.05   19.45\n",
       "1269   1269 2018-01-08   19.18   19.58\n",
       "...     ...        ...     ...     ...\n",
       "3         3 2023-01-26  379.00  383.00\n",
       "2         2 2023-01-27  381.00  385.00\n",
       "1         1 2023-01-30  382.00  386.00\n",
       "0         0 2023-01-31  379.00  383.00\n",
       "3220   3220 2023-02-01    0.00  377.00\n",
       "\n",
       "[1275 rows x 4 columns]"
      ]
     },
     "execution_count": 7,
     "metadata": {},
     "output_type": "execute_result"
    }
   ],
   "source": [
    "df"
   ]
  },
  {
   "cell_type": "code",
   "execution_count": 8,
   "metadata": {
    "execution": {
     "iopub.execute_input": "2023-01-19T22:12:24.016218Z",
     "iopub.status.busy": "2023-01-19T22:12:24.016218Z",
     "iopub.status.idle": "2023-01-19T22:12:24.043072Z",
     "shell.execute_reply": "2023-01-19T22:12:24.042084Z"
    }
   },
   "outputs": [
    {
     "data": {
      "text/plain": [
       "count    1275.000000\n",
       "mean      131.634439\n",
       "std        90.833488\n",
       "min        19.250000\n",
       "25%        43.875000\n",
       "50%       132.000000\n",
       "75%       195.000000\n",
       "max       386.000000\n",
       "Name: y, dtype: float64"
      ]
     },
     "execution_count": 8,
     "metadata": {},
     "output_type": "execute_result"
    }
   ],
   "source": [
    "df['y'].round(2).describe()"
   ]
  },
  {
   "cell_type": "code",
   "execution_count": 9,
   "metadata": {
    "execution": {
     "iopub.execute_input": "2023-01-19T22:12:24.047096Z",
     "iopub.status.busy": "2023-01-19T22:12:24.047096Z",
     "iopub.status.idle": "2023-01-19T22:12:25.965713Z",
     "shell.execute_reply": "2023-01-19T22:12:25.965713Z"
    }
   },
   "outputs": [
    {
     "name": "stderr",
     "output_type": "stream",
     "text": [
      "c:\\Users\\rodri\\anaconda3.1\\lib\\site-packages\\scipy\\__init__.py:146: UserWarning: A NumPy version >=1.16.5 and <1.23.0 is required for this version of SciPy (detected version 1.24.1\n",
      "  warnings.warn(f\"A NumPy version >={np_minversion} and <{np_maxversion}\"\n",
      "19:17:31 - cmdstanpy - INFO - Chain [1] start processing\n",
      "19:17:32 - cmdstanpy - INFO - Chain [1] done processing\n"
     ]
    },
    {
     "data": {
      "text/plain": [
       "<prophet.forecaster.Prophet at 0x1ed2d71dfa0>"
      ]
     },
     "execution_count": 9,
     "metadata": {},
     "output_type": "execute_result"
    }
   ],
   "source": [
    "from prophet import Prophet\n",
    "\n",
    "prophet_model = Prophet()\n",
    "prophet_model.fit(df)"
   ]
  },
  {
   "cell_type": "code",
   "execution_count": 10,
   "metadata": {
    "execution": {
     "iopub.execute_input": "2023-01-19T22:12:25.970123Z",
     "iopub.status.busy": "2023-01-19T22:12:25.970123Z",
     "iopub.status.idle": "2023-01-19T22:12:25.982309Z",
     "shell.execute_reply": "2023-01-19T22:12:25.981191Z"
    }
   },
   "outputs": [
    {
     "data": {
      "text/html": [
       "<div>\n",
       "<style scoped>\n",
       "    .dataframe tbody tr th:only-of-type {\n",
       "        vertical-align: middle;\n",
       "    }\n",
       "\n",
       "    .dataframe tbody tr th {\n",
       "        vertical-align: top;\n",
       "    }\n",
       "\n",
       "    .dataframe thead th {\n",
       "        text-align: right;\n",
       "    }\n",
       "</style>\n",
       "<table border=\"1\" class=\"dataframe\">\n",
       "  <thead>\n",
       "    <tr style=\"text-align: right;\">\n",
       "      <th></th>\n",
       "      <th>ds</th>\n",
       "    </tr>\n",
       "  </thead>\n",
       "  <tbody>\n",
       "    <tr>\n",
       "      <th>1237</th>\n",
       "      <td>2023-01-27</td>\n",
       "    </tr>\n",
       "    <tr>\n",
       "      <th>1238</th>\n",
       "      <td>2023-01-30</td>\n",
       "    </tr>\n",
       "    <tr>\n",
       "      <th>1239</th>\n",
       "      <td>2023-01-31</td>\n",
       "    </tr>\n",
       "    <tr>\n",
       "      <th>1240</th>\n",
       "      <td>2023-02-01</td>\n",
       "    </tr>\n",
       "    <tr>\n",
       "      <th>1241</th>\n",
       "      <td>2023-12-31</td>\n",
       "    </tr>\n",
       "  </tbody>\n",
       "</table>\n",
       "</div>"
      ],
      "text/plain": [
       "             ds\n",
       "1237 2023-01-27\n",
       "1238 2023-01-30\n",
       "1239 2023-01-31\n",
       "1240 2023-02-01\n",
       "1241 2023-12-31"
      ]
     },
     "execution_count": 10,
     "metadata": {},
     "output_type": "execute_result"
    }
   ],
   "source": [
    "future_dataset= prophet_model.make_future_dataframe(periods=1, freq='y') # Data para el proximo año\n",
    "future_dataset.tail()"
   ]
  },
  {
   "cell_type": "code",
   "execution_count": 11,
   "metadata": {
    "execution": {
     "iopub.execute_input": "2023-01-19T22:12:25.986053Z",
     "iopub.status.busy": "2023-01-19T22:12:25.986053Z",
     "iopub.status.idle": "2023-01-19T22:12:26.615712Z",
     "shell.execute_reply": "2023-01-19T22:12:26.614753Z"
    }
   },
   "outputs": [
    {
     "data": {
      "text/html": [
       "<div>\n",
       "<style scoped>\n",
       "    .dataframe tbody tr th:only-of-type {\n",
       "        vertical-align: middle;\n",
       "    }\n",
       "\n",
       "    .dataframe tbody tr th {\n",
       "        vertical-align: top;\n",
       "    }\n",
       "\n",
       "    .dataframe thead th {\n",
       "        text-align: right;\n",
       "    }\n",
       "</style>\n",
       "<table border=\"1\" class=\"dataframe\">\n",
       "  <thead>\n",
       "    <tr style=\"text-align: right;\">\n",
       "      <th></th>\n",
       "      <th>ds</th>\n",
       "      <th>yhat</th>\n",
       "      <th>yhat_lower</th>\n",
       "      <th>yhat_upper</th>\n",
       "    </tr>\n",
       "  </thead>\n",
       "  <tbody>\n",
       "    <tr>\n",
       "      <th>0</th>\n",
       "      <td>2018-01-02</td>\n",
       "      <td>26.465718</td>\n",
       "      <td>11.978429</td>\n",
       "      <td>39.966602</td>\n",
       "    </tr>\n",
       "    <tr>\n",
       "      <th>1</th>\n",
       "      <td>2018-01-03</td>\n",
       "      <td>27.442573</td>\n",
       "      <td>14.129773</td>\n",
       "      <td>41.631834</td>\n",
       "    </tr>\n",
       "    <tr>\n",
       "      <th>2</th>\n",
       "      <td>2018-01-04</td>\n",
       "      <td>27.577753</td>\n",
       "      <td>14.449620</td>\n",
       "      <td>41.876879</td>\n",
       "    </tr>\n",
       "    <tr>\n",
       "      <th>3</th>\n",
       "      <td>2018-01-05</td>\n",
       "      <td>27.867316</td>\n",
       "      <td>14.640714</td>\n",
       "      <td>41.411461</td>\n",
       "    </tr>\n",
       "    <tr>\n",
       "      <th>4</th>\n",
       "      <td>2018-01-08</td>\n",
       "      <td>28.020976</td>\n",
       "      <td>14.564763</td>\n",
       "      <td>41.825600</td>\n",
       "    </tr>\n",
       "  </tbody>\n",
       "</table>\n",
       "</div>"
      ],
      "text/plain": [
       "          ds       yhat  yhat_lower  yhat_upper\n",
       "0 2018-01-02  26.465718   11.978429   39.966602\n",
       "1 2018-01-03  27.442573   14.129773   41.631834\n",
       "2 2018-01-04  27.577753   14.449620   41.876879\n",
       "3 2018-01-05  27.867316   14.640714   41.411461\n",
       "4 2018-01-08  28.020976   14.564763   41.825600"
      ]
     },
     "execution_count": 11,
     "metadata": {},
     "output_type": "execute_result"
    }
   ],
   "source": [
    "pred = prophet_model.predict(future_dataset)\n",
    "pred[['ds','yhat', 'yhat_lower', 'yhat_upper']].head() # only useful columns"
   ]
  },
  {
   "cell_type": "code",
   "execution_count": 12,
   "metadata": {
    "execution": {
     "iopub.execute_input": "2023-01-19T22:12:26.620887Z",
     "iopub.status.busy": "2023-01-19T22:12:26.619892Z",
     "iopub.status.idle": "2023-01-19T22:12:27.054953Z",
     "shell.execute_reply": "2023-01-19T22:12:27.053950Z"
    }
   },
   "outputs": [
    {
     "data": {
      "image/png": "[encoded data removed]",
      "text/plain": [
       "<Figure size 1000x600 with 1 Axes>"
      ]
     },
     "execution_count": 12,
     "metadata": {},
     "output_type": "execute_result"
    },
    {
     "data": {
      "image/png": "[encoded data removed]",
      "text/plain": [
       "<Figure size 1000x600 with 1 Axes>"
      ]
     },
     "metadata": {},
     "output_type": "display_data"
    }
   ],
   "source": [
    "prophet_model.plot(pred)"
   ]
  },
  {
   "cell_type": "code",
   "execution_count": 13,
   "metadata": {
    "execution": {
     "iopub.execute_input": "2023-01-19T22:12:27.057945Z",
     "iopub.status.busy": "2023-01-19T22:12:27.057945Z",
     "iopub.status.idle": "2023-01-19T22:12:27.070553Z",
     "shell.execute_reply": "2023-01-19T22:12:27.069658Z"
    }
   },
   "outputs": [],
   "source": [
    "def fb_prophet_function(data, future_years, seasonality_name, seasonality_val,seasonality_fourier, **params):\n",
    "    \"\"\"\n",
    "    Trains a fb prophet model on given hyperparameters and custom\n",
    "    seasonality, predicts on future dataset, plot the results and\n",
    "    return the model.\n",
    "    \"\"\"\n",
    "    start= time.time()\n",
    "    prophet_model = Prophet(**params)\n",
    "    \n",
    "    prophet_model.add_seasonality(name=seasonality_name, period=seasonality_val, fourier_order=seasonality_fourier)\n",
    "        \n",
    "    prophet_model.fit(data)\n",
    "    \n",
    "    future_dataset = prophet_model.make_future_dataframe(periods=future_years, freq='y')\n",
    "    \n",
    "    pred = prophet_model.predict(future_dataset)\n",
    "    \n",
    "    prophet_model.plot(pred, figsize=(15,7));\n",
    "    plt.ylim(-500, 3000)\n",
    "    plt.title(f\"fourier order{seasonality_fourier}, seasonality time {seasonality_name}\")\n",
    "    plt.show()\n",
    "    \n",
    "    end = time.time()\n",
    "    print(f\"Total Execution Time {end-start} seconds\")\n",
    "    return prophet_model"
   ]
  },
  {
   "cell_type": "code",
   "execution_count": 14,
   "metadata": {
    "execution": {
     "iopub.execute_input": "2023-01-19T22:12:27.073542Z",
     "iopub.status.busy": "2023-01-19T22:12:27.073542Z",
     "iopub.status.idle": "2023-01-19T22:12:27.086913Z",
     "shell.execute_reply": "2023-01-19T22:12:27.085911Z"
    }
   },
   "outputs": [],
   "source": [
    "def plot_valid(validation_set, size, model):\n",
    "    pred = model.predict(validation_set)\n",
    "    temp = df[-size:].copy().reset_index()\n",
    "    temp['pred']=pred['yhat']\n",
    "    temp.set_index('ds')[['y', 'pred']].plot()\n",
    "    plt.tight_layout();"
   ]
  },
  {
   "cell_type": "code",
   "execution_count": 15,
   "metadata": {
    "execution": {
     "iopub.execute_input": "2023-01-19T22:12:27.089906Z",
     "iopub.status.busy": "2023-01-19T22:12:27.089906Z",
     "iopub.status.idle": "2023-01-19T22:13:08.311438Z",
     "shell.execute_reply": "2023-01-19T22:13:08.310365Z"
    }
   },
   "outputs": [
    {
     "name": "stderr",
     "output_type": "stream",
     "text": [
      "19:17:46 - cmdstanpy - INFO - Chain [1] start processing\n",
      "19:18:29 - cmdstanpy - INFO - Chain [1] done processing\n"
     ]
    },
    {
     "data": {
      "image/png": "[encoded data removed]",
      "text/plain": [
       "<Figure size 1500x700 with 1 Axes>"
      ]
     },
     "metadata": {},
     "output_type": "display_data"
    },
    {
     "name": "stdout",
     "output_type": "stream",
     "text": [
      "Total Execution Time 55.336973428726196 seconds\n"
     ]
    }
   ],
   "source": [
    "import time\n",
    "\n",
    "training_set = df\n",
    "validation_set = df \n",
    "\n",
    "ten_years = fb_prophet_function(data=training_set, future_years=10, seasonality_name='10_years', seasonality_val=365*10, seasonality_fourier=600,seasonality_mode='additive')"
   ]
  },
  {
   "cell_type": "code",
   "execution_count": 16,
   "metadata": {
    "execution": {
     "iopub.execute_input": "2023-01-19T22:13:08.316491Z",
     "iopub.status.busy": "2023-01-19T22:13:08.316491Z",
     "iopub.status.idle": "2023-01-19T22:13:09.376333Z",
     "shell.execute_reply": "2023-01-19T22:13:09.375193Z"
    }
   },
   "outputs": [
    {
     "data": {
      "image/png": "[encoded data removed]",
      "text/plain": [
       "<Figure size 640x480 with 1 Axes>"
      ]
     },
     "metadata": {},
     "output_type": "display_data"
    }
   ],
   "source": [
    "plot_valid(validation_set, 1000, ten_years)"
   ]
  },
  {
   "cell_type": "code",
   "execution_count": 17,
   "metadata": {
    "execution": {
     "iopub.execute_input": "2023-01-19T22:13:09.379363Z",
     "iopub.status.busy": "2023-01-19T22:13:09.379363Z",
     "iopub.status.idle": "2023-01-19T22:13:09.391836Z",
     "shell.execute_reply": "2023-01-19T22:13:09.390833Z"
    }
   },
   "outputs": [
    {
     "data": {
      "text/html": [
       "<div>\n",
       "<style scoped>\n",
       "    .dataframe tbody tr th:only-of-type {\n",
       "        vertical-align: middle;\n",
       "    }\n",
       "\n",
       "    .dataframe tbody tr th {\n",
       "        vertical-align: top;\n",
       "    }\n",
       "\n",
       "    .dataframe thead th {\n",
       "        text-align: right;\n",
       "    }\n",
       "</style>\n",
       "<table border=\"1\" class=\"dataframe\">\n",
       "  <thead>\n",
       "    <tr style=\"text-align: right;\">\n",
       "      <th></th>\n",
       "      <th>ds</th>\n",
       "      <th>yhat</th>\n",
       "    </tr>\n",
       "  </thead>\n",
       "  <tbody>\n",
       "    <tr>\n",
       "      <th>0</th>\n",
       "      <td>2018-01-02</td>\n",
       "      <td>26.465718</td>\n",
       "    </tr>\n",
       "    <tr>\n",
       "      <th>1</th>\n",
       "      <td>2018-01-03</td>\n",
       "      <td>27.442573</td>\n",
       "    </tr>\n",
       "    <tr>\n",
       "      <th>2</th>\n",
       "      <td>2018-01-04</td>\n",
       "      <td>27.577753</td>\n",
       "    </tr>\n",
       "    <tr>\n",
       "      <th>3</th>\n",
       "      <td>2018-01-05</td>\n",
       "      <td>27.867316</td>\n",
       "    </tr>\n",
       "    <tr>\n",
       "      <th>4</th>\n",
       "      <td>2018-01-08</td>\n",
       "      <td>28.020976</td>\n",
       "    </tr>\n",
       "    <tr>\n",
       "      <th>...</th>\n",
       "      <td>...</td>\n",
       "      <td>...</td>\n",
       "    </tr>\n",
       "    <tr>\n",
       "      <th>1237</th>\n",
       "      <td>2023-01-27</td>\n",
       "      <td>347.503453</td>\n",
       "    </tr>\n",
       "    <tr>\n",
       "      <th>1238</th>\n",
       "      <td>2023-01-30</td>\n",
       "      <td>346.811469</td>\n",
       "    </tr>\n",
       "    <tr>\n",
       "      <th>1239</th>\n",
       "      <td>2023-01-31</td>\n",
       "      <td>347.097258</td>\n",
       "    </tr>\n",
       "    <tr>\n",
       "      <th>1240</th>\n",
       "      <td>2023-02-01</td>\n",
       "      <td>347.613885</td>\n",
       "    </tr>\n",
       "    <tr>\n",
       "      <th>1241</th>\n",
       "      <td>2023-12-31</td>\n",
       "      <td>482.750035</td>\n",
       "    </tr>\n",
       "  </tbody>\n",
       "</table>\n",
       "<p>1242 rows × 2 columns</p>\n",
       "</div>"
      ],
      "text/plain": [
       "             ds        yhat\n",
       "0    2018-01-02   26.465718\n",
       "1    2018-01-03   27.442573\n",
       "2    2018-01-04   27.577753\n",
       "3    2018-01-05   27.867316\n",
       "4    2018-01-08   28.020976\n",
       "...         ...         ...\n",
       "1237 2023-01-27  347.503453\n",
       "1238 2023-01-30  346.811469\n",
       "1239 2023-01-31  347.097258\n",
       "1240 2023-02-01  347.613885\n",
       "1241 2023-12-31  482.750035\n",
       "\n",
       "[1242 rows x 2 columns]"
      ]
     },
     "execution_count": 17,
     "metadata": {},
     "output_type": "execute_result"
    }
   ],
   "source": [
    "pred = pred[['ds', 'yhat']]\n",
    "\n",
    "pred"
   ]
  },
  {
   "cell_type": "code",
   "execution_count": 18,
   "metadata": {
    "execution": {
     "iopub.execute_input": "2023-01-19T22:13:09.397859Z",
     "iopub.status.busy": "2023-01-19T22:13:09.396865Z",
     "iopub.status.idle": "2023-01-19T22:13:09.424760Z",
     "shell.execute_reply": "2023-01-19T22:13:09.422952Z"
    }
   },
   "outputs": [
    {
     "data": {
      "text/html": [
       "<div>\n",
       "<style scoped>\n",
       "    .dataframe tbody tr th:only-of-type {\n",
       "        vertical-align: middle;\n",
       "    }\n",
       "\n",
       "    .dataframe tbody tr th {\n",
       "        vertical-align: top;\n",
       "    }\n",
       "\n",
       "    .dataframe thead th {\n",
       "        text-align: right;\n",
       "    }\n",
       "</style>\n",
       "<table border=\"1\" class=\"dataframe\">\n",
       "  <thead>\n",
       "    <tr style=\"text-align: right;\">\n",
       "      <th></th>\n",
       "      <th>ds</th>\n",
       "      <th>y</th>\n",
       "    </tr>\n",
       "  </thead>\n",
       "  <tbody>\n",
       "    <tr>\n",
       "      <th>1273</th>\n",
       "      <td>2018-01-02</td>\n",
       "      <td>19.25</td>\n",
       "    </tr>\n",
       "    <tr>\n",
       "      <th>1272</th>\n",
       "      <td>2018-01-03</td>\n",
       "      <td>19.29</td>\n",
       "    </tr>\n",
       "    <tr>\n",
       "      <th>1271</th>\n",
       "      <td>2018-01-04</td>\n",
       "      <td>19.41</td>\n",
       "    </tr>\n",
       "    <tr>\n",
       "      <th>1270</th>\n",
       "      <td>2018-01-05</td>\n",
       "      <td>19.45</td>\n",
       "    </tr>\n",
       "    <tr>\n",
       "      <th>1269</th>\n",
       "      <td>2018-01-08</td>\n",
       "      <td>19.58</td>\n",
       "    </tr>\n",
       "    <tr>\n",
       "      <th>...</th>\n",
       "      <td>...</td>\n",
       "      <td>...</td>\n",
       "    </tr>\n",
       "    <tr>\n",
       "      <th>3</th>\n",
       "      <td>2023-01-26</td>\n",
       "      <td>383.00</td>\n",
       "    </tr>\n",
       "    <tr>\n",
       "      <th>2</th>\n",
       "      <td>2023-01-27</td>\n",
       "      <td>385.00</td>\n",
       "    </tr>\n",
       "    <tr>\n",
       "      <th>1</th>\n",
       "      <td>2023-01-30</td>\n",
       "      <td>386.00</td>\n",
       "    </tr>\n",
       "    <tr>\n",
       "      <th>0</th>\n",
       "      <td>2023-01-31</td>\n",
       "      <td>383.00</td>\n",
       "    </tr>\n",
       "    <tr>\n",
       "      <th>3220</th>\n",
       "      <td>2023-02-01</td>\n",
       "      <td>377.00</td>\n",
       "    </tr>\n",
       "  </tbody>\n",
       "</table>\n",
       "<p>1275 rows × 2 columns</p>\n",
       "</div>"
      ],
      "text/plain": [
       "             ds       y\n",
       "1273 2018-01-02   19.25\n",
       "1272 2018-01-03   19.29\n",
       "1271 2018-01-04   19.41\n",
       "1270 2018-01-05   19.45\n",
       "1269 2018-01-08   19.58\n",
       "...         ...     ...\n",
       "3    2023-01-26  383.00\n",
       "2    2023-01-27  385.00\n",
       "1    2023-01-30  386.00\n",
       "0    2023-01-31  383.00\n",
       "3220 2023-02-01  377.00\n",
       "\n",
       "[1275 rows x 2 columns]"
      ]
     },
     "execution_count": 18,
     "metadata": {},
     "output_type": "execute_result"
    }
   ],
   "source": [
    "validation_set = validation_set[['ds', 'y']]\n",
    "\n",
    "validation_set"
   ]
  },
  {
   "cell_type": "code",
   "execution_count": 19,
   "metadata": {
    "execution": {
     "iopub.execute_input": "2023-01-19T22:13:09.431770Z",
     "iopub.status.busy": "2023-01-19T22:13:09.430794Z",
     "iopub.status.idle": "2023-01-19T22:13:09.471229Z",
     "shell.execute_reply": "2023-01-19T22:13:09.470226Z"
    }
   },
   "outputs": [
    {
     "data": {
      "text/html": [
       "<div>\n",
       "<style scoped>\n",
       "    .dataframe tbody tr th:only-of-type {\n",
       "        vertical-align: middle;\n",
       "    }\n",
       "\n",
       "    .dataframe tbody tr th {\n",
       "        vertical-align: top;\n",
       "    }\n",
       "\n",
       "    .dataframe thead th {\n",
       "        text-align: right;\n",
       "    }\n",
       "</style>\n",
       "<table border=\"1\" class=\"dataframe\">\n",
       "  <thead>\n",
       "    <tr style=\"text-align: right;\">\n",
       "      <th></th>\n",
       "      <th>ds</th>\n",
       "      <th>yhat</th>\n",
       "    </tr>\n",
       "  </thead>\n",
       "  <tbody>\n",
       "    <tr>\n",
       "      <th>0</th>\n",
       "      <td>2018-01-02</td>\n",
       "      <td>26.465718</td>\n",
       "    </tr>\n",
       "    <tr>\n",
       "      <th>1</th>\n",
       "      <td>2018-01-03</td>\n",
       "      <td>27.442573</td>\n",
       "    </tr>\n",
       "    <tr>\n",
       "      <th>2</th>\n",
       "      <td>2018-01-04</td>\n",
       "      <td>27.577753</td>\n",
       "    </tr>\n",
       "    <tr>\n",
       "      <th>3</th>\n",
       "      <td>2018-01-05</td>\n",
       "      <td>27.867316</td>\n",
       "    </tr>\n",
       "    <tr>\n",
       "      <th>4</th>\n",
       "      <td>2018-01-08</td>\n",
       "      <td>28.020976</td>\n",
       "    </tr>\n",
       "    <tr>\n",
       "      <th>...</th>\n",
       "      <td>...</td>\n",
       "      <td>...</td>\n",
       "    </tr>\n",
       "    <tr>\n",
       "      <th>1236</th>\n",
       "      <td>2023-01-26</td>\n",
       "      <td>347.526433</td>\n",
       "    </tr>\n",
       "    <tr>\n",
       "      <th>1237</th>\n",
       "      <td>2023-01-27</td>\n",
       "      <td>347.503453</td>\n",
       "    </tr>\n",
       "    <tr>\n",
       "      <th>1238</th>\n",
       "      <td>2023-01-30</td>\n",
       "      <td>346.811469</td>\n",
       "    </tr>\n",
       "    <tr>\n",
       "      <th>1239</th>\n",
       "      <td>2023-01-31</td>\n",
       "      <td>347.097258</td>\n",
       "    </tr>\n",
       "    <tr>\n",
       "      <th>1240</th>\n",
       "      <td>2023-02-01</td>\n",
       "      <td>347.613885</td>\n",
       "    </tr>\n",
       "  </tbody>\n",
       "</table>\n",
       "<p>1241 rows × 2 columns</p>\n",
       "</div>"
      ],
      "text/plain": [
       "             ds        yhat\n",
       "0    2018-01-02   26.465718\n",
       "1    2018-01-03   27.442573\n",
       "2    2018-01-04   27.577753\n",
       "3    2018-01-05   27.867316\n",
       "4    2018-01-08   28.020976\n",
       "...         ...         ...\n",
       "1236 2023-01-26  347.526433\n",
       "1237 2023-01-27  347.503453\n",
       "1238 2023-01-30  346.811469\n",
       "1239 2023-01-31  347.097258\n",
       "1240 2023-02-01  347.613885\n",
       "\n",
       "[1241 rows x 2 columns]"
      ]
     },
     "execution_count": 19,
     "metadata": {},
     "output_type": "execute_result"
    }
   ],
   "source": [
    "pred = pred[pred['ds'].isin(validation_set['ds'])]\n",
    "\n",
    "pred"
   ]
  },
  {
   "cell_type": "code",
   "execution_count": 20,
   "metadata": {
    "execution": {
     "iopub.execute_input": "2023-01-19T22:13:09.476247Z",
     "iopub.status.busy": "2023-01-19T22:13:09.475220Z",
     "iopub.status.idle": "2023-01-19T22:13:09.503898Z",
     "shell.execute_reply": "2023-01-19T22:13:09.502340Z"
    }
   },
   "outputs": [],
   "source": [
    "merged1 = pd.merge(pred, validation_set, on='ds', how='inner')\n",
    "\n",
    "validation_ds_y = merged1[['ds', 'y']]\n",
    "pred_ds_yhat = merged1[['ds', 'yhat']]\n"
   ]
  },
  {
   "cell_type": "code",
   "execution_count": 21,
   "metadata": {
    "execution": {
     "iopub.execute_input": "2023-01-19T22:13:09.507928Z",
     "iopub.status.busy": "2023-01-19T22:13:09.507928Z",
     "iopub.status.idle": "2023-01-19T22:13:09.536828Z",
     "shell.execute_reply": "2023-01-19T22:13:09.535825Z"
    }
   },
   "outputs": [
    {
     "name": "stderr",
     "output_type": "stream",
     "text": [
      "C:\\Users\\rodri\\AppData\\Local\\Temp\\ipykernel_20052\\2616818827.py:1: SettingWithCopyWarning: \n",
      "A value is trying to be set on a copy of a slice from a DataFrame.\n",
      "Try using .loc[row_indexer,col_indexer] = value instead\n",
      "\n",
      "See the caveats in the documentation: https://pandas.pydata.org/pandas-docs/stable/user_guide/indexing.html#returning-a-view-versus-a-copy\n",
      "  validation_ds_y['ds'] = validation_ds_y['ds'].apply(lambda x: x.timestamp())\n",
      "C:\\Users\\rodri\\AppData\\Local\\Temp\\ipykernel_20052\\2616818827.py:2: SettingWithCopyWarning: \n",
      "A value is trying to be set on a copy of a slice from a DataFrame.\n",
      "Try using .loc[row_indexer,col_indexer] = value instead\n",
      "\n",
      "See the caveats in the documentation: https://pandas.pydata.org/pandas-docs/stable/user_guide/indexing.html#returning-a-view-versus-a-copy\n",
      "  pred_ds_yhat['ds'] = pred_ds_yhat['ds'].apply(lambda x: x.timestamp())\n"
     ]
    }
   ],
   "source": [
    "validation_ds_y['ds'] = validation_ds_y['ds'].apply(lambda x: x.timestamp())\n",
    "pred_ds_yhat['ds'] = pred_ds_yhat['ds'].apply(lambda x: x.timestamp())"
   ]
  },
  {
   "cell_type": "code",
   "execution_count": 22,
   "metadata": {
    "execution": {
     "iopub.execute_input": "2023-01-19T22:13:09.541846Z",
     "iopub.status.busy": "2023-01-19T22:13:09.541846Z",
     "iopub.status.idle": "2023-01-19T22:13:09.554130Z",
     "shell.execute_reply": "2023-01-19T22:13:09.552122Z"
    }
   },
   "outputs": [
    {
     "name": "stderr",
     "output_type": "stream",
     "text": [
      "C:\\Users\\rodri\\AppData\\Local\\Temp\\ipykernel_20052\\476390056.py:1: SettingWithCopyWarning: \n",
      "A value is trying to be set on a copy of a slice from a DataFrame.\n",
      "Try using .loc[row_indexer,col_indexer] = value instead\n",
      "\n",
      "See the caveats in the documentation: https://pandas.pydata.org/pandas-docs/stable/user_guide/indexing.html#returning-a-view-versus-a-copy\n",
      "  validation_ds_y['ds'] = validation_ds_y['ds'].astype(float)\n",
      "C:\\Users\\rodri\\AppData\\Local\\Temp\\ipykernel_20052\\476390056.py:2: SettingWithCopyWarning: \n",
      "A value is trying to be set on a copy of a slice from a DataFrame.\n",
      "Try using .loc[row_indexer,col_indexer] = value instead\n",
      "\n",
      "See the caveats in the documentation: https://pandas.pydata.org/pandas-docs/stable/user_guide/indexing.html#returning-a-view-versus-a-copy\n",
      "  pred_ds_yhat['ds'] = pred_ds_yhat['ds'].astype(float)\n"
     ]
    }
   ],
   "source": [
    "validation_ds_y['ds'] = validation_ds_y['ds'].astype(float)\n",
    "pred_ds_yhat['ds'] = pred_ds_yhat['ds'].astype(float)"
   ]
  },
  {
   "cell_type": "code",
   "execution_count": 23,
   "metadata": {
    "execution": {
     "iopub.execute_input": "2023-01-19T22:13:09.559146Z",
     "iopub.status.busy": "2023-01-19T22:13:09.559146Z",
     "iopub.status.idle": "2023-01-19T22:13:10.153943Z",
     "shell.execute_reply": "2023-01-19T22:13:10.152934Z"
    }
   },
   "outputs": [
    {
     "name": "stdout",
     "output_type": "stream",
     "text": [
      "Mean Absolute Error:  3.857502072976289\n",
      "Mean Squared Error:  56.091018850294255\n",
      "Root Mean Squared Error:  7.489393757193853\n"
     ]
    }
   ],
   "source": [
    "import math\n",
    "from sklearn.metrics import mean_squared_error\n",
    "from sklearn.metrics import mean_absolute_error\n",
    "\n",
    "mae1 = mean_absolute_error(validation_ds_y, pred_ds_yhat)\n",
    "mse1 = mean_squared_error(validation_ds_y, pred_ds_yhat)\n",
    "rmse1 = math.sqrt(mean_squared_error(validation_ds_y, pred_ds_yhat))\n",
    "\n",
    "print(\"Mean Absolute Error: \", mae1)\n",
    "print(\"Mean Squared Error: \", mse1)\n",
    "print(\"Root Mean Squared Error: \", rmse1)\n"
   ]
  },
  {
   "cell_type": "code",
   "execution_count": 24,
   "metadata": {
    "execution": {
     "iopub.execute_input": "2023-01-19T22:13:10.159965Z",
     "iopub.status.busy": "2023-01-19T22:13:10.159965Z",
     "iopub.status.idle": "2023-01-19T22:13:10.187239Z",
     "shell.execute_reply": "2023-01-19T22:13:10.185232Z"
    }
   },
   "outputs": [
    {
     "data": {
      "text/html": [
       "<div>\n",
       "<style scoped>\n",
       "    .dataframe tbody tr th:only-of-type {\n",
       "        vertical-align: middle;\n",
       "    }\n",
       "\n",
       "    .dataframe tbody tr th {\n",
       "        vertical-align: top;\n",
       "    }\n",
       "\n",
       "    .dataframe thead th {\n",
       "        text-align: right;\n",
       "    }\n",
       "</style>\n",
       "<table border=\"1\" class=\"dataframe\">\n",
       "  <thead>\n",
       "    <tr style=\"text-align: right;\">\n",
       "      <th></th>\n",
       "      <th>index</th>\n",
       "      <th>ds</th>\n",
       "      <th>Compra</th>\n",
       "      <th>y</th>\n",
       "    </tr>\n",
       "  </thead>\n",
       "  <tbody>\n",
       "    <tr>\n",
       "      <th>538</th>\n",
       "      <td>538</td>\n",
       "      <td>2021-01-04</td>\n",
       "      <td>159.0</td>\n",
       "      <td>165.0</td>\n",
       "    </tr>\n",
       "    <tr>\n",
       "      <th>537</th>\n",
       "      <td>537</td>\n",
       "      <td>2021-01-05</td>\n",
       "      <td>154.0</td>\n",
       "      <td>160.0</td>\n",
       "    </tr>\n",
       "    <tr>\n",
       "      <th>536</th>\n",
       "      <td>536</td>\n",
       "      <td>2021-01-06</td>\n",
       "      <td>154.0</td>\n",
       "      <td>160.0</td>\n",
       "    </tr>\n",
       "    <tr>\n",
       "      <th>535</th>\n",
       "      <td>535</td>\n",
       "      <td>2021-01-07</td>\n",
       "      <td>156.0</td>\n",
       "      <td>162.0</td>\n",
       "    </tr>\n",
       "    <tr>\n",
       "      <th>534</th>\n",
       "      <td>534</td>\n",
       "      <td>2021-01-08</td>\n",
       "      <td>155.0</td>\n",
       "      <td>161.0</td>\n",
       "    </tr>\n",
       "    <tr>\n",
       "      <th>...</th>\n",
       "      <td>...</td>\n",
       "      <td>...</td>\n",
       "      <td>...</td>\n",
       "      <td>...</td>\n",
       "    </tr>\n",
       "    <tr>\n",
       "      <th>3</th>\n",
       "      <td>3</td>\n",
       "      <td>2023-01-26</td>\n",
       "      <td>379.0</td>\n",
       "      <td>383.0</td>\n",
       "    </tr>\n",
       "    <tr>\n",
       "      <th>2</th>\n",
       "      <td>2</td>\n",
       "      <td>2023-01-27</td>\n",
       "      <td>381.0</td>\n",
       "      <td>385.0</td>\n",
       "    </tr>\n",
       "    <tr>\n",
       "      <th>1</th>\n",
       "      <td>1</td>\n",
       "      <td>2023-01-30</td>\n",
       "      <td>382.0</td>\n",
       "      <td>386.0</td>\n",
       "    </tr>\n",
       "    <tr>\n",
       "      <th>0</th>\n",
       "      <td>0</td>\n",
       "      <td>2023-01-31</td>\n",
       "      <td>379.0</td>\n",
       "      <td>383.0</td>\n",
       "    </tr>\n",
       "    <tr>\n",
       "      <th>3220</th>\n",
       "      <td>3220</td>\n",
       "      <td>2023-02-01</td>\n",
       "      <td>0.0</td>\n",
       "      <td>377.0</td>\n",
       "    </tr>\n",
       "  </tbody>\n",
       "</table>\n",
       "<p>540 rows × 4 columns</p>\n",
       "</div>"
      ],
      "text/plain": [
       "      index         ds  Compra      y\n",
       "538     538 2021-01-04   159.0  165.0\n",
       "537     537 2021-01-05   154.0  160.0\n",
       "536     536 2021-01-06   154.0  160.0\n",
       "535     535 2021-01-07   156.0  162.0\n",
       "534     534 2021-01-08   155.0  161.0\n",
       "...     ...        ...     ...    ...\n",
       "3         3 2023-01-26   379.0  383.0\n",
       "2         2 2023-01-27   381.0  385.0\n",
       "1         1 2023-01-30   382.0  386.0\n",
       "0         0 2023-01-31   379.0  383.0\n",
       "3220   3220 2023-02-01     0.0  377.0\n",
       "\n",
       "[540 rows x 4 columns]"
      ]
     },
     "execution_count": 24,
     "metadata": {},
     "output_type": "execute_result"
    }
   ],
   "source": [
    "df = df[df['ds'] >= '2021-01-01']\n",
    "\n",
    "df"
   ]
  },
  {
   "cell_type": "code",
   "execution_count": 25,
   "metadata": {
    "execution": {
     "iopub.execute_input": "2023-01-19T22:13:10.195215Z",
     "iopub.status.busy": "2023-01-19T22:13:10.194218Z",
     "iopub.status.idle": "2023-01-19T22:13:18.957153Z",
     "shell.execute_reply": "2023-01-19T22:13:18.955632Z"
    }
   },
   "outputs": [
    {
     "name": "stderr",
     "output_type": "stream",
     "text": [
      "19:18:39 - cmdstanpy - INFO - Chain [1] start processing\n",
      "19:18:54 - cmdstanpy - INFO - Chain [1] done processing\n"
     ]
    },
    {
     "data": {
      "image/png": "[encoded data removed]",
      "text/plain": [
       "<Figure size 1500x700 with 1 Axes>"
      ]
     },
     "metadata": {},
     "output_type": "display_data"
    },
    {
     "name": "stdout",
     "output_type": "stream",
     "text": [
      "Total Execution Time 17.878544807434082 seconds\n"
     ]
    }
   ],
   "source": [
    "training_set = df\n",
    "validation_set = df\n",
    "\n",
    "five_years_model = fb_prophet_function(data=training_set, future_years=5, seasonality_name='5_years', seasonality_val=365*5, seasonality_fourier=500,seasonality_mode='additive')"
   ]
  },
  {
   "cell_type": "code",
   "execution_count": 26,
   "metadata": {
    "execution": {
     "iopub.execute_input": "2023-01-19T22:13:18.960181Z",
     "iopub.status.busy": "2023-01-19T22:13:18.959188Z",
     "iopub.status.idle": "2023-01-19T22:13:19.719788Z",
     "shell.execute_reply": "2023-01-19T22:13:19.718748Z"
    }
   },
   "outputs": [
    {
     "data": {
      "image/png": "[encoded data removed]",
      "text/plain": [
       "<Figure size 640x480 with 1 Axes>"
      ]
     },
     "metadata": {},
     "output_type": "display_data"
    }
   ],
   "source": [
    "plot_valid(validation_set, 1000, five_years_model)"
   ]
  },
  {
   "cell_type": "code",
   "execution_count": 27,
   "metadata": {},
   "outputs": [
    {
     "name": "stderr",
     "output_type": "stream",
     "text": [
      "19:18:56 - cmdstanpy - INFO - Chain [1] start processing\n",
      "19:18:57 - cmdstanpy - INFO - Chain [1] done processing\n",
      "Seasonality has period of 365.25 days which is larger than initial window. Consider increasing initial.\n"
     ]
    },
    {
     "data": {
      "application/vnd.jupyter.widget-view+json": {
       "model_id": "fe2d8dc912404d49b9516f42708c9dce",
       "version_major": 2,
       "version_minor": 0
      },
      "text/plain": [
       "  0%|          | 0/1 [00:00<?, ?it/s]"
      ]
     },
     "metadata": {},
     "output_type": "display_data"
    },
    {
     "name": "stderr",
     "output_type": "stream",
     "text": [
      "19:18:57 - cmdstanpy - INFO - Chain [1] start processing\n",
      "19:18:57 - cmdstanpy - INFO - Chain [1] done processing\n"
     ]
    },
    {
     "data": {
      "text/html": [
       "<div>\n",
       "<style scoped>\n",
       "    .dataframe tbody tr th:only-of-type {\n",
       "        vertical-align: middle;\n",
       "    }\n",
       "\n",
       "    .dataframe tbody tr th {\n",
       "        vertical-align: top;\n",
       "    }\n",
       "\n",
       "    .dataframe thead th {\n",
       "        text-align: right;\n",
       "    }\n",
       "</style>\n",
       "<table border=\"1\" class=\"dataframe\">\n",
       "  <thead>\n",
       "    <tr style=\"text-align: right;\">\n",
       "      <th></th>\n",
       "      <th>horizon</th>\n",
       "      <th>mse</th>\n",
       "      <th>rmse</th>\n",
       "      <th>mae</th>\n",
       "      <th>mape</th>\n",
       "      <th>mdape</th>\n",
       "      <th>smape</th>\n",
       "      <th>coverage</th>\n",
       "    </tr>\n",
       "  </thead>\n",
       "  <tbody>\n",
       "    <tr>\n",
       "      <th>0</th>\n",
       "      <td>34 days</td>\n",
       "      <td>188.679814</td>\n",
       "      <td>13.736077</td>\n",
       "      <td>10.694656</td>\n",
       "      <td>0.051966</td>\n",
       "      <td>0.042839</td>\n",
       "      <td>0.049800</td>\n",
       "      <td>0.12</td>\n",
       "    </tr>\n",
       "    <tr>\n",
       "      <th>1</th>\n",
       "      <td>35 days</td>\n",
       "      <td>213.372958</td>\n",
       "      <td>14.607291</td>\n",
       "      <td>11.661144</td>\n",
       "      <td>0.056760</td>\n",
       "      <td>0.043699</td>\n",
       "      <td>0.054309</td>\n",
       "      <td>0.08</td>\n",
       "    </tr>\n",
       "    <tr>\n",
       "      <th>2</th>\n",
       "      <td>36 days</td>\n",
       "      <td>234.964939</td>\n",
       "      <td>15.328566</td>\n",
       "      <td>12.537451</td>\n",
       "      <td>0.061060</td>\n",
       "      <td>0.051105</td>\n",
       "      <td>0.058364</td>\n",
       "      <td>0.04</td>\n",
       "    </tr>\n",
       "    <tr>\n",
       "      <th>3</th>\n",
       "      <td>37 days</td>\n",
       "      <td>259.950283</td>\n",
       "      <td>16.122974</td>\n",
       "      <td>13.400467</td>\n",
       "      <td>0.065348</td>\n",
       "      <td>0.052153</td>\n",
       "      <td>0.062367</td>\n",
       "      <td>0.04</td>\n",
       "    </tr>\n",
       "    <tr>\n",
       "      <th>4</th>\n",
       "      <td>38 days</td>\n",
       "      <td>288.253373</td>\n",
       "      <td>16.978026</td>\n",
       "      <td>14.315185</td>\n",
       "      <td>0.069921</td>\n",
       "      <td>0.052686</td>\n",
       "      <td>0.066614</td>\n",
       "      <td>0.04</td>\n",
       "    </tr>\n",
       "  </tbody>\n",
       "</table>\n",
       "</div>"
      ],
      "text/plain": [
       "  horizon         mse       rmse        mae      mape     mdape     smape  \\\n",
       "0 34 days  188.679814  13.736077  10.694656  0.051966  0.042839  0.049800   \n",
       "1 35 days  213.372958  14.607291  11.661144  0.056760  0.043699  0.054309   \n",
       "2 36 days  234.964939  15.328566  12.537451  0.061060  0.051105  0.058364   \n",
       "3 37 days  259.950283  16.122974  13.400467  0.065348  0.052153  0.062367   \n",
       "4 38 days  288.253373  16.978026  14.315185  0.069921  0.052686  0.066614   \n",
       "\n",
       "   coverage  \n",
       "0      0.12  \n",
       "1      0.08  \n",
       "2      0.04  \n",
       "3      0.04  \n",
       "4      0.04  "
      ]
     },
     "execution_count": 27,
     "metadata": {},
     "output_type": "execute_result"
    }
   ],
   "source": [
    "from prophet.diagnostics import cross_validation, performance_metrics\n",
    "\n",
    "model = Prophet()\n",
    "model.fit(df)\n",
    "\n",
    "df_cv = cross_validation(model, initial='360 days', period='180 days', horizon = '365 days')\n",
    "df_p = performance_metrics(df_cv, rolling_window=0.1) \n",
    " \n",
    "df_p.head()"
   ]
  },
  {
   "cell_type": "code",
   "execution_count": 28,
   "metadata": {
    "execution": {
     "iopub.execute_input": "2023-01-19T22:13:19.723778Z",
     "iopub.status.busy": "2023-01-19T22:13:19.723778Z",
     "iopub.status.idle": "2023-01-19T22:13:19.750798Z",
     "shell.execute_reply": "2023-01-19T22:13:19.749671Z"
    }
   },
   "outputs": [
    {
     "name": "stdout",
     "output_type": "stream",
     "text": [
      "Mean Absolute Error:  4.726598487331099\n",
      "Mean Squared Error:  89.06833982425593\n",
      "Root Mean Squared Error:  9.437602440464206\n"
     ]
    },
    {
     "name": "stderr",
     "output_type": "stream",
     "text": [
      "C:\\Users\\rodri\\AppData\\Local\\Temp\\ipykernel_20052\\4273972159.py:16: SettingWithCopyWarning: \n",
      "A value is trying to be set on a copy of a slice from a DataFrame.\n",
      "Try using .loc[row_indexer,col_indexer] = value instead\n",
      "\n",
      "See the caveats in the documentation: https://pandas.pydata.org/pandas-docs/stable/user_guide/indexing.html#returning-a-view-versus-a-copy\n",
      "  validation_ds_y['ds'] = validation_ds_y['ds'].apply(lambda x: x.timestamp())\n",
      "C:\\Users\\rodri\\AppData\\Local\\Temp\\ipykernel_20052\\4273972159.py:17: SettingWithCopyWarning: \n",
      "A value is trying to be set on a copy of a slice from a DataFrame.\n",
      "Try using .loc[row_indexer,col_indexer] = value instead\n",
      "\n",
      "See the caveats in the documentation: https://pandas.pydata.org/pandas-docs/stable/user_guide/indexing.html#returning-a-view-versus-a-copy\n",
      "  pred_ds_yhat['ds'] = pred_ds_yhat['ds'].apply(lambda x: x.timestamp())\n",
      "C:\\Users\\rodri\\AppData\\Local\\Temp\\ipykernel_20052\\4273972159.py:18: SettingWithCopyWarning: \n",
      "A value is trying to be set on a copy of a slice from a DataFrame.\n",
      "Try using .loc[row_indexer,col_indexer] = value instead\n",
      "\n",
      "See the caveats in the documentation: https://pandas.pydata.org/pandas-docs/stable/user_guide/indexing.html#returning-a-view-versus-a-copy\n",
      "  validation_ds_y['ds'] = validation_ds_y['ds'].astype(float)\n",
      "C:\\Users\\rodri\\AppData\\Local\\Temp\\ipykernel_20052\\4273972159.py:19: SettingWithCopyWarning: \n",
      "A value is trying to be set on a copy of a slice from a DataFrame.\n",
      "Try using .loc[row_indexer,col_indexer] = value instead\n",
      "\n",
      "See the caveats in the documentation: https://pandas.pydata.org/pandas-docs/stable/user_guide/indexing.html#returning-a-view-versus-a-copy\n",
      "  pred_ds_yhat['ds'] = pred_ds_yhat['ds'].astype(float)\n"
     ]
    }
   ],
   "source": [
    "from sklearn.metrics import mean_squared_error\n",
    "pred = pred[['ds', 'yhat']]\n",
    "\n",
    "pred\n",
    "validation_set = validation_set[['ds', 'y']]\n",
    "\n",
    "validation_set\n",
    "pred = pred[pred['ds'].isin(validation_set['ds'])]\n",
    "\n",
    "pred\n",
    "merged2 = pd.merge(pred, validation_set, on='ds', how='inner')\n",
    "\n",
    "validation_ds_y = merged2[['ds', 'y']]\n",
    "pred_ds_yhat = merged2[['ds', 'yhat']]\n",
    "\n",
    "validation_ds_y['ds'] = validation_ds_y['ds'].apply(lambda x: x.timestamp())\n",
    "pred_ds_yhat['ds'] = pred_ds_yhat['ds'].apply(lambda x: x.timestamp())\n",
    "validation_ds_y['ds'] = validation_ds_y['ds'].astype(float)\n",
    "pred_ds_yhat['ds'] = pred_ds_yhat['ds'].astype(float)\n",
    "import math\n",
    "\n",
    "mae2 = mean_absolute_error(validation_ds_y, pred_ds_yhat)\n",
    "mse2 = mean_squared_error(validation_ds_y, pred_ds_yhat)\n",
    "rmse2 = math.sqrt(mean_squared_error(validation_ds_y, pred_ds_yhat))\n",
    "\n",
    "print(\"Mean Absolute Error: \", mae2)\n",
    "print(\"Mean Squared Error: \", mse2)\n",
    "print(\"Root Mean Squared Error: \", rmse2)\n"
   ]
  },
  {
   "cell_type": "code",
   "execution_count": 29,
   "metadata": {
    "execution": {
     "iopub.execute_input": "2023-01-19T22:13:19.755351Z",
     "iopub.status.busy": "2023-01-19T22:13:19.754320Z",
     "iopub.status.idle": "2023-01-19T22:13:19.828878Z",
     "shell.execute_reply": "2023-01-19T22:13:19.827875Z"
    }
   },
   "outputs": [],
   "source": [
    "from prophet import Prophet\n",
    "\n",
    "five_years_model = Prophet(seasonality_mode='additive', seasonality_prior_scale=1, \n",
    "                         yearly_seasonality=True, weekly_seasonality=False, \n",
    "                         daily_seasonality=False)\n"
   ]
  },
  {
   "cell_type": "code",
   "execution_count": 30,
   "metadata": {
    "execution": {
     "iopub.execute_input": "2023-01-19T22:13:19.831868Z",
     "iopub.status.busy": "2023-01-19T22:13:19.831868Z",
     "iopub.status.idle": "2023-01-19T22:13:19.843931Z",
     "shell.execute_reply": "2023-01-19T22:13:19.843115Z"
    }
   },
   "outputs": [
    {
     "data": {
      "text/plain": [
       "<prophet.forecaster.Prophet at 0x1ed4537f760>"
      ]
     },
     "execution_count": 30,
     "metadata": {},
     "output_type": "execute_result"
    }
   ],
   "source": [
    "five_years_model.add_seasonality(name='1_years', period=365*1, fourier_order=90)"
   ]
  },
  {
   "cell_type": "code",
   "execution_count": 31,
   "metadata": {
    "execution": {
     "iopub.execute_input": "2023-01-19T22:13:19.846927Z",
     "iopub.status.busy": "2023-01-19T22:13:19.846927Z",
     "iopub.status.idle": "2023-01-19T22:13:19.859797Z",
     "shell.execute_reply": "2023-01-19T22:13:19.858891Z"
    }
   },
   "outputs": [],
   "source": [
    "import datetime\n",
    "\n",
    "today = datetime.datetime.now()\n",
    "next_month = today + datetime.timedelta(days=90)\n",
    "start_date = today.strftime(\"%Y-%m-%d\")\n",
    "end_date = next_month.strftime(\"%Y-%m-%d\")\n",
    "date_range = pd.date_range(start_date, end_date)\n",
    "next_month = pd.DataFrame({\"ds\": date_range})\n"
   ]
  },
  {
   "cell_type": "code",
   "execution_count": 32,
   "metadata": {
    "execution": {
     "iopub.execute_input": "2023-01-19T22:13:19.862793Z",
     "iopub.status.busy": "2023-01-19T22:13:19.862793Z",
     "iopub.status.idle": "2023-01-19T22:13:24.687294Z",
     "shell.execute_reply": "2023-01-19T22:13:24.686336Z"
    }
   },
   "outputs": [
    {
     "name": "stderr",
     "output_type": "stream",
     "text": [
      "19:19:00 - cmdstanpy - INFO - Chain [1] start processing\n",
      "19:19:05 - cmdstanpy - INFO - Chain [1] done processing\n"
     ]
    }
   ],
   "source": [
    "five_years_model.fit(training_set)\n",
    "\n",
    "prediction = five_years_model.predict(next_month)"
   ]
  },
  {
   "cell_type": "code",
   "execution_count": 33,
   "metadata": {
    "execution": {
     "iopub.execute_input": "2023-01-19T22:13:24.690317Z",
     "iopub.status.busy": "2023-01-19T22:13:24.690317Z",
     "iopub.status.idle": "2023-01-19T22:13:24.703905Z",
     "shell.execute_reply": "2023-01-19T22:13:24.702948Z"
    }
   },
   "outputs": [
    {
     "data": {
      "text/html": [
       "<div>\n",
       "<style scoped>\n",
       "    .dataframe tbody tr th:only-of-type {\n",
       "        vertical-align: middle;\n",
       "    }\n",
       "\n",
       "    .dataframe tbody tr th {\n",
       "        vertical-align: top;\n",
       "    }\n",
       "\n",
       "    .dataframe thead th {\n",
       "        text-align: right;\n",
       "    }\n",
       "</style>\n",
       "<table border=\"1\" class=\"dataframe\">\n",
       "  <thead>\n",
       "    <tr style=\"text-align: right;\">\n",
       "      <th></th>\n",
       "      <th>Values</th>\n",
       "    </tr>\n",
       "  </thead>\n",
       "  <tbody>\n",
       "    <tr>\n",
       "      <th>0</th>\n",
       "      <td>380.835679</td>\n",
       "    </tr>\n",
       "    <tr>\n",
       "      <th>1</th>\n",
       "      <td>381.188679</td>\n",
       "    </tr>\n",
       "    <tr>\n",
       "      <th>2</th>\n",
       "      <td>382.550073</td>\n",
       "    </tr>\n",
       "    <tr>\n",
       "      <th>3</th>\n",
       "      <td>382.493264</td>\n",
       "    </tr>\n",
       "    <tr>\n",
       "      <th>4</th>\n",
       "      <td>380.543065</td>\n",
       "    </tr>\n",
       "    <tr>\n",
       "      <th>...</th>\n",
       "      <td>...</td>\n",
       "    </tr>\n",
       "    <tr>\n",
       "      <th>86</th>\n",
       "      <td>384.119166</td>\n",
       "    </tr>\n",
       "    <tr>\n",
       "      <th>87</th>\n",
       "      <td>379.853896</td>\n",
       "    </tr>\n",
       "    <tr>\n",
       "      <th>88</th>\n",
       "      <td>376.856444</td>\n",
       "    </tr>\n",
       "    <tr>\n",
       "      <th>89</th>\n",
       "      <td>377.097786</td>\n",
       "    </tr>\n",
       "    <tr>\n",
       "      <th>90</th>\n",
       "      <td>379.289052</td>\n",
       "    </tr>\n",
       "  </tbody>\n",
       "</table>\n",
       "<p>91 rows × 1 columns</p>\n",
       "</div>"
      ],
      "text/plain": [
       "        Values\n",
       "0   380.835679\n",
       "1   381.188679\n",
       "2   382.550073\n",
       "3   382.493264\n",
       "4   380.543065\n",
       "..         ...\n",
       "86  384.119166\n",
       "87  379.853896\n",
       "88  376.856444\n",
       "89  377.097786\n",
       "90  379.289052\n",
       "\n",
       "[91 rows x 1 columns]"
      ]
     },
     "execution_count": 33,
     "metadata": {},
     "output_type": "execute_result"
    }
   ],
   "source": [
    "values = prediction['yhat']\n",
    "\n",
    "values_new = pd.DataFrame(values)\n",
    "\n",
    "values_new = values_new.rename(columns={'yhat':'Values'})\n",
    "\n",
    "values_new"
   ]
  },
  {
   "cell_type": "code",
   "execution_count": 34,
   "metadata": {
    "execution": {
     "iopub.execute_input": "2023-01-19T22:13:24.706902Z",
     "iopub.status.busy": "2023-01-19T22:13:24.706902Z",
     "iopub.status.idle": "2023-01-19T22:13:24.720638Z",
     "shell.execute_reply": "2023-01-19T22:13:24.719360Z"
    }
   },
   "outputs": [
    {
     "data": {
      "text/html": [
       "<div>\n",
       "<style scoped>\n",
       "    .dataframe tbody tr th:only-of-type {\n",
       "        vertical-align: middle;\n",
       "    }\n",
       "\n",
       "    .dataframe tbody tr th {\n",
       "        vertical-align: top;\n",
       "    }\n",
       "\n",
       "    .dataframe thead th {\n",
       "        text-align: right;\n",
       "    }\n",
       "</style>\n",
       "<table border=\"1\" class=\"dataframe\">\n",
       "  <thead>\n",
       "    <tr style=\"text-align: right;\">\n",
       "      <th></th>\n",
       "      <th>Values</th>\n",
       "    </tr>\n",
       "  </thead>\n",
       "  <tbody>\n",
       "    <tr>\n",
       "      <th>2023-02-02</th>\n",
       "      <td>380.835679</td>\n",
       "    </tr>\n",
       "    <tr>\n",
       "      <th>2023-02-03</th>\n",
       "      <td>381.188679</td>\n",
       "    </tr>\n",
       "    <tr>\n",
       "      <th>2023-02-04</th>\n",
       "      <td>382.550073</td>\n",
       "    </tr>\n",
       "    <tr>\n",
       "      <th>2023-02-05</th>\n",
       "      <td>382.493264</td>\n",
       "    </tr>\n",
       "    <tr>\n",
       "      <th>2023-02-06</th>\n",
       "      <td>380.543065</td>\n",
       "    </tr>\n",
       "    <tr>\n",
       "      <th>...</th>\n",
       "      <td>...</td>\n",
       "    </tr>\n",
       "    <tr>\n",
       "      <th>2023-04-29</th>\n",
       "      <td>384.119166</td>\n",
       "    </tr>\n",
       "    <tr>\n",
       "      <th>2023-04-30</th>\n",
       "      <td>379.853896</td>\n",
       "    </tr>\n",
       "    <tr>\n",
       "      <th>2023-05-01</th>\n",
       "      <td>376.856444</td>\n",
       "    </tr>\n",
       "    <tr>\n",
       "      <th>2023-05-02</th>\n",
       "      <td>377.097786</td>\n",
       "    </tr>\n",
       "    <tr>\n",
       "      <th>2023-05-03</th>\n",
       "      <td>379.289052</td>\n",
       "    </tr>\n",
       "  </tbody>\n",
       "</table>\n",
       "<p>91 rows × 1 columns</p>\n",
       "</div>"
      ],
      "text/plain": [
       "                Values\n",
       "2023-02-02  380.835679\n",
       "2023-02-03  381.188679\n",
       "2023-02-04  382.550073\n",
       "2023-02-05  382.493264\n",
       "2023-02-06  380.543065\n",
       "...                ...\n",
       "2023-04-29  384.119166\n",
       "2023-04-30  379.853896\n",
       "2023-05-01  376.856444\n",
       "2023-05-02  377.097786\n",
       "2023-05-03  379.289052\n",
       "\n",
       "[91 rows x 1 columns]"
      ]
     },
     "execution_count": 34,
     "metadata": {},
     "output_type": "execute_result"
    }
   ],
   "source": [
    "# import the datetime library\n",
    "import datetime\n",
    "\n",
    "# define the start date (today + 1) and the number of days in the range\n",
    "start_date = datetime.datetime.today() + datetime.timedelta(days=1)\n",
    "num_days = len(values_new.index)\n",
    "\n",
    "# create the date range\n",
    "date_range = [start_date.date() + datetime.timedelta(days=i) for i in range(num_days)]\n",
    "\n",
    "# set the index of the dataframe to the date range\n",
    "values_new.index = date_range\n",
    "\n",
    "values_new\n"
   ]
  },
  {
   "cell_type": "code",
   "execution_count": 35,
   "metadata": {
    "execution": {
     "iopub.execute_input": "2023-01-19T22:13:24.723634Z",
     "iopub.status.busy": "2023-01-19T22:13:24.723634Z",
     "iopub.status.idle": "2023-01-19T22:13:24.820142Z",
     "shell.execute_reply": "2023-01-19T22:13:24.819140Z"
    }
   },
   "outputs": [],
   "source": [
    "values_new.to_excel(\"data/xlsx/values_newBlue.xlsx\")"
   ]
  },
  {
   "cell_type": "code",
   "execution_count": 36,
   "metadata": {
    "execution": {
     "iopub.execute_input": "2023-01-19T22:13:24.823135Z",
     "iopub.status.busy": "2023-01-19T22:13:24.823135Z",
     "iopub.status.idle": "2023-01-19T22:13:25.088469Z",
     "shell.execute_reply": "2023-01-19T22:13:25.088469Z"
    }
   },
   "outputs": [
    {
     "data": {
      "image/png": "[encoded data removed]",
      "text/plain": [
       "<Figure size 640x480 with 1 Axes>"
      ]
     },
     "metadata": {},
     "output_type": "display_data"
    }
   ],
   "source": [
    "x = values_new.index\n",
    "y = values_new['Values']\n",
    "for i in range(1, len(values_new)):\n",
    "    if y[i] > y[i-1]:\n",
    "        color = 'g'\n",
    "    else:\n",
    "        color = 'r'\n",
    "    plt.plot(x[i-1:i+1], y[i-1:i+1], color=color)\n",
    "plt.xlabel(\"Dates\")\n",
    "plt.ylabel(\"Values\")\n",
    "plt.title(\"Prediction Plot\")\n",
    "plt.grid()\n",
    "plt.gcf().autofmt_xdate()\n",
    "plt.show()\n"
   ]
  },
  {
   "cell_type": "code",
   "execution_count": 37,
   "metadata": {
    "execution": {
     "iopub.execute_input": "2023-01-19T22:13:25.091432Z",
     "iopub.status.busy": "2023-01-19T22:13:25.091432Z",
     "iopub.status.idle": "2023-01-19T22:13:25.941143Z",
     "shell.execute_reply": "2023-01-19T22:13:25.941143Z"
    }
   },
   "outputs": [
    {
     "data": {
      "application/vnd.plotly.v1+json": {
       "config": {
        "linkText": "Export to plot.ly",
        "plotlyServerURL": "https://plot.ly",
        "showLink": false
       },
       "data": [
        {
         "line": {
          "color": "green",
          "width": 1
         },
         "mode": "lines",
         "showlegend": false,
         "type": "scatter",
         "x": [
          "2023-02-02",
          "2023-02-03"
         ],
         "y": [
          380.83567935333997,
          381.18867911840914
         ]
        },
        {
         "line": {
          "color": "green",
          "width": 1
         },
         "mode": "lines",
         "showlegend": false,
         "type": "scatter",
         "x": [
          "2023-02-03",
          "2023-02-04"
         ],
         "y": [
          381.18867911840914,
          382.55007333292633
         ]
        },
        {
         "line": {
          "color": "red",
          "width": 1
         },
         "mode": "lines",
         "showlegend": false,
         "type": "scatter",
         "x": [
          "2023-02-04",
          "2023-02-05"
         ],
         "y": [
          382.55007333292633,
          382.49326393964606
         ]
        },
        {
         "line": {
          "color": "red",
          "width": 1
         },
         "mode": "lines",
         "showlegend": false,
         "type": "scatter",
         "x": [
          "2023-02-05",
          "2023-02-06"
         ],
         "y": [
          382.49326393964606,
          380.54306536320905
         ]
        },
        {
         "line": {
          "color": "red",
          "width": 1
         },
         "mode": "lines",
         "showlegend": false,
         "type": "scatter",
         "x": [
          "2023-02-06",
          "2023-02-07"
         ],
         "y": [
          380.54306536320905,
          379.4665932693531
         ]
        },
        {
         "line": {
          "color": "green",
          "width": 1
         },
         "mode": "lines",
         "showlegend": false,
         "type": "scatter",
         "x": [
          "2023-02-07",
          "2023-02-08"
         ],
         "y": [
          379.4665932693531,
          381.1459449408237
         ]
        },
        {
         "line": {
          "color": "green",
          "width": 1
         },
         "mode": "lines",
         "showlegend": false,
         "type": "scatter",
         "x": [
          "2023-02-08",
          "2023-02-09"
         ],
         "y": [
          381.1459449408237,
          383.7351933539824
         ]
        },
        {
         "line": {
          "color": "green",
          "width": 1
         },
         "mode": "lines",
         "showlegend": false,
         "type": "scatter",
         "x": [
          "2023-02-09",
          "2023-02-10"
         ],
         "y": [
          383.7351933539824,
          384.60713196806796
         ]
        },
        {
         "line": {
          "color": "red",
          "width": 1
         },
         "mode": "lines",
         "showlegend": false,
         "type": "scatter",
         "x": [
          "2023-02-10",
          "2023-02-11"
         ],
         "y": [
          384.60713196806796,
          383.96535213533394
         ]
        },
        {
         "line": {
          "color": "red",
          "width": 1
         },
         "mode": "lines",
         "showlegend": false,
         "type": "scatter",
         "x": [
          "2023-02-11",
          "2023-02-12"
         ],
         "y": [
          383.96535213533394,
          383.58705871218604
         ]
        },
        {
         "line": {
          "color": "green",
          "width": 1
         },
         "mode": "lines",
         "showlegend": false,
         "type": "scatter",
         "x": [
          "2023-02-12",
          "2023-02-13"
         ],
         "y": [
          383.58705871218604,
          383.7974666789088
         ]
        },
        {
         "line": {
          "color": "green",
          "width": 1
         },
         "mode": "lines",
         "showlegend": false,
         "type": "scatter",
         "x": [
          "2023-02-13",
          "2023-02-14"
         ],
         "y": [
          383.7974666789088,
          383.8631590147268
         ]
        },
        {
         "line": {
          "color": "green",
          "width": 1
         },
         "mode": "lines",
         "showlegend": false,
         "type": "scatter",
         "x": [
          "2023-02-14",
          "2023-02-15"
         ],
         "y": [
          383.8631590147268,
          383.97327446931956
         ]
        },
        {
         "line": {
          "color": "green",
          "width": 1
         },
         "mode": "lines",
         "showlegend": false,
         "type": "scatter",
         "x": [
          "2023-02-15",
          "2023-02-16"
         ],
         "y": [
          383.97327446931956,
          384.56402101761205
         ]
        },
        {
         "line": {
          "color": "green",
          "width": 1
         },
         "mode": "lines",
         "showlegend": false,
         "type": "scatter",
         "x": [
          "2023-02-16",
          "2023-02-17"
         ],
         "y": [
          384.56402101761205,
          384.7044893185957
         ]
        },
        {
         "line": {
          "color": "red",
          "width": 1
         },
         "mode": "lines",
         "showlegend": false,
         "type": "scatter",
         "x": [
          "2023-02-17",
          "2023-02-18"
         ],
         "y": [
          384.7044893185957,
          383.3724710993423
         ]
        },
        {
         "line": {
          "color": "red",
          "width": 1
         },
         "mode": "lines",
         "showlegend": false,
         "type": "scatter",
         "x": [
          "2023-02-18",
          "2023-02-19"
         ],
         "y": [
          383.3724710993423,
          381.571039930242
         ]
        },
        {
         "line": {
          "color": "red",
          "width": 1
         },
         "mode": "lines",
         "showlegend": false,
         "type": "scatter",
         "x": [
          "2023-02-19",
          "2023-02-20"
         ],
         "y": [
          381.571039930242,
          381.0380405675065
         ]
        },
        {
         "line": {
          "color": "green",
          "width": 1
         },
         "mode": "lines",
         "showlegend": false,
         "type": "scatter",
         "x": [
          "2023-02-20",
          "2023-02-21"
         ],
         "y": [
          381.0380405675065,
          381.46789712328524
         ]
        },
        {
         "line": {
          "color": "red",
          "width": 1
         },
         "mode": "lines",
         "showlegend": false,
         "type": "scatter",
         "x": [
          "2023-02-21",
          "2023-02-22"
         ],
         "y": [
          381.46789712328524,
          381.14303634684694
         ]
        },
        {
         "line": {
          "color": "red",
          "width": 1
         },
         "mode": "lines",
         "showlegend": false,
         "type": "scatter",
         "x": [
          "2023-02-22",
          "2023-02-23"
         ],
         "y": [
          381.14303634684694,
          379.8251014114413
         ]
        },
        {
         "line": {
          "color": "red",
          "width": 1
         },
         "mode": "lines",
         "showlegend": false,
         "type": "scatter",
         "x": [
          "2023-02-23",
          "2023-02-24"
         ],
         "y": [
          379.8251014114413,
          378.8088210859366
         ]
        },
        {
         "line": {
          "color": "red",
          "width": 1
         },
         "mode": "lines",
         "showlegend": false,
         "type": "scatter",
         "x": [
          "2023-02-24",
          "2023-02-25"
         ],
         "y": [
          378.8088210859366,
          378.3994661186146
         ]
        },
        {
         "line": {
          "color": "red",
          "width": 1
         },
         "mode": "lines",
         "showlegend": false,
         "type": "scatter",
         "x": [
          "2023-02-25",
          "2023-02-26"
         ],
         "y": [
          378.3994661186146,
          377.6160065297584
         ]
        },
        {
         "line": {
          "color": "red",
          "width": 1
         },
         "mode": "lines",
         "showlegend": false,
         "type": "scatter",
         "x": [
          "2023-02-26",
          "2023-02-27"
         ],
         "y": [
          377.6160065297584,
          376.396117164945
         ]
        },
        {
         "line": {
          "color": "red",
          "width": 1
         },
         "mode": "lines",
         "showlegend": false,
         "type": "scatter",
         "x": [
          "2023-02-27",
          "2023-02-28"
         ],
         "y": [
          376.396117164945,
          375.8522606341811
         ]
        },
        {
         "line": {
          "color": "green",
          "width": 1
         },
         "mode": "lines",
         "showlegend": false,
         "type": "scatter",
         "x": [
          "2023-02-28",
          "2023-03-01"
         ],
         "y": [
          375.8522606341811,
          376.044818018306
         ]
        },
        {
         "line": {
          "color": "red",
          "width": 1
         },
         "mode": "lines",
         "showlegend": false,
         "type": "scatter",
         "x": [
          "2023-03-01",
          "2023-03-02"
         ],
         "y": [
          376.044818018306,
          375.5850873051425
         ]
        },
        {
         "line": {
          "color": "red",
          "width": 1
         },
         "mode": "lines",
         "showlegend": false,
         "type": "scatter",
         "x": [
          "2023-03-02",
          "2023-03-03"
         ],
         "y": [
          375.5850873051425,
          373.9320216767912
         ]
        },
        {
         "line": {
          "color": "red",
          "width": 1
         },
         "mode": "lines",
         "showlegend": false,
         "type": "scatter",
         "x": [
          "2023-03-03",
          "2023-03-04"
         ],
         "y": [
          373.9320216767912,
          372.1891858999242
         ]
        },
        {
         "line": {
          "color": "red",
          "width": 1
         },
         "mode": "lines",
         "showlegend": false,
         "type": "scatter",
         "x": [
          "2023-03-04",
          "2023-03-05"
         ],
         "y": [
          372.1891858999242,
          371.0987424930701
         ]
        },
        {
         "line": {
          "color": "red",
          "width": 1
         },
         "mode": "lines",
         "showlegend": false,
         "type": "scatter",
         "x": [
          "2023-03-05",
          "2023-03-06"
         ],
         "y": [
          371.0987424930701,
          370.11038769488727
         ]
        },
        {
         "line": {
          "color": "red",
          "width": 1
         },
         "mode": "lines",
         "showlegend": false,
         "type": "scatter",
         "x": [
          "2023-03-06",
          "2023-03-07"
         ],
         "y": [
          370.11038769488727,
          369.08887176315034
         ]
        },
        {
         "line": {
          "color": "red",
          "width": 1
         },
         "mode": "lines",
         "showlegend": false,
         "type": "scatter",
         "x": [
          "2023-03-07",
          "2023-03-08"
         ],
         "y": [
          369.08887176315034,
          369.04992964779825
         ]
        },
        {
         "line": {
          "color": "green",
          "width": 1
         },
         "mode": "lines",
         "showlegend": false,
         "type": "scatter",
         "x": [
          "2023-03-08",
          "2023-03-09"
         ],
         "y": [
          369.04992964779825,
          370.20997773835416
         ]
        },
        {
         "line": {
          "color": "green",
          "width": 1
         },
         "mode": "lines",
         "showlegend": false,
         "type": "scatter",
         "x": [
          "2023-03-09",
          "2023-03-10"
         ],
         "y": [
          370.20997773835416,
          370.95615075984375
         ]
        },
        {
         "line": {
          "color": "red",
          "width": 1
         },
         "mode": "lines",
         "showlegend": false,
         "type": "scatter",
         "x": [
          "2023-03-10",
          "2023-03-11"
         ],
         "y": [
          370.95615075984375,
          369.97912262943674
         ]
        },
        {
         "line": {
          "color": "red",
          "width": 1
         },
         "mode": "lines",
         "showlegend": false,
         "type": "scatter",
         "x": [
          "2023-03-11",
          "2023-03-12"
         ],
         "y": [
          369.97912262943674,
          368.20159881591115
         ]
        },
        {
         "line": {
          "color": "red",
          "width": 1
         },
         "mode": "lines",
         "showlegend": false,
         "type": "scatter",
         "x": [
          "2023-03-12",
          "2023-03-13"
         ],
         "y": [
          368.20159881591115,
          367.4436097603444
         ]
        },
        {
         "line": {
          "color": "green",
          "width": 1
         },
         "mode": "lines",
         "showlegend": false,
         "type": "scatter",
         "x": [
          "2023-03-13",
          "2023-03-14"
         ],
         "y": [
          367.4436097603444,
          368.15335954093507
         ]
        },
        {
         "line": {
          "color": "green",
          "width": 1
         },
         "mode": "lines",
         "showlegend": false,
         "type": "scatter",
         "x": [
          "2023-03-14",
          "2023-03-15"
         ],
         "y": [
          368.15335954093507,
          369.4704103414135
         ]
        },
        {
         "line": {
          "color": "green",
          "width": 1
         },
         "mode": "lines",
         "showlegend": false,
         "type": "scatter",
         "x": [
          "2023-03-15",
          "2023-03-16"
         ],
         "y": [
          369.4704103414135,
          370.65706113822745
         ]
        },
        {
         "line": {
          "color": "green",
          "width": 1
         },
         "mode": "lines",
         "showlegend": false,
         "type": "scatter",
         "x": [
          "2023-03-16",
          "2023-03-17"
         ],
         "y": [
          370.65706113822745,
          371.4919398116495
         ]
        },
        {
         "line": {
          "color": "green",
          "width": 1
         },
         "mode": "lines",
         "showlegend": false,
         "type": "scatter",
         "x": [
          "2023-03-17",
          "2023-03-18"
         ],
         "y": [
          371.4919398116495,
          371.9438733317597
         ]
        },
        {
         "line": {
          "color": "green",
          "width": 1
         },
         "mode": "lines",
         "showlegend": false,
         "type": "scatter",
         "x": [
          "2023-03-18",
          "2023-03-19"
         ],
         "y": [
          371.9438733317597,
          372.27802179005505
         ]
        },
        {
         "line": {
          "color": "green",
          "width": 1
         },
         "mode": "lines",
         "showlegend": false,
         "type": "scatter",
         "x": [
          "2023-03-19",
          "2023-03-20"
         ],
         "y": [
          372.27802179005505,
          372.9162090781227
         ]
        },
        {
         "line": {
          "color": "green",
          "width": 1
         },
         "mode": "lines",
         "showlegend": false,
         "type": "scatter",
         "x": [
          "2023-03-20",
          "2023-03-21"
         ],
         "y": [
          372.9162090781227,
          373.6805559894985
         ]
        },
        {
         "line": {
          "color": "green",
          "width": 1
         },
         "mode": "lines",
         "showlegend": false,
         "type": "scatter",
         "x": [
          "2023-03-21",
          "2023-03-22"
         ],
         "y": [
          373.6805559894985,
          373.9157799095397
         ]
        },
        {
         "line": {
          "color": "red",
          "width": 1
         },
         "mode": "lines",
         "showlegend": false,
         "type": "scatter",
         "x": [
          "2023-03-22",
          "2023-03-23"
         ],
         "y": [
          373.9157799095397,
          373.7302535788137
         ]
        },
        {
         "line": {
          "color": "green",
          "width": 1
         },
         "mode": "lines",
         "showlegend": false,
         "type": "scatter",
         "x": [
          "2023-03-23",
          "2023-03-24"
         ],
         "y": [
          373.7302535788137,
          374.07125277662084
         ]
        },
        {
         "line": {
          "color": "green",
          "width": 1
         },
         "mode": "lines",
         "showlegend": false,
         "type": "scatter",
         "x": [
          "2023-03-24",
          "2023-03-25"
         ],
         "y": [
          374.07125277662084,
          375.0687236096473
         ]
        },
        {
         "line": {
          "color": "green",
          "width": 1
         },
         "mode": "lines",
         "showlegend": false,
         "type": "scatter",
         "x": [
          "2023-03-25",
          "2023-03-26"
         ],
         "y": [
          375.0687236096473,
          375.5403851228732
         ]
        },
        {
         "line": {
          "color": "red",
          "width": 1
         },
         "mode": "lines",
         "showlegend": false,
         "type": "scatter",
         "x": [
          "2023-03-26",
          "2023-03-27"
         ],
         "y": [
          375.5403851228732,
          374.9009346076844
         ]
        },
        {
         "line": {
          "color": "red",
          "width": 1
         },
         "mode": "lines",
         "showlegend": false,
         "type": "scatter",
         "x": [
          "2023-03-27",
          "2023-03-28"
         ],
         "y": [
          374.9009346076844,
          374.2925191915004
         ]
        },
        {
         "line": {
          "color": "green",
          "width": 1
         },
         "mode": "lines",
         "showlegend": false,
         "type": "scatter",
         "x": [
          "2023-03-28",
          "2023-03-29"
         ],
         "y": [
          374.2925191915004,
          374.7878484360147
         ]
        },
        {
         "line": {
          "color": "green",
          "width": 1
         },
         "mode": "lines",
         "showlegend": false,
         "type": "scatter",
         "x": [
          "2023-03-29",
          "2023-03-30"
         ],
         "y": [
          374.7878484360147,
          375.6640853095051
         ]
        },
        {
         "line": {
          "color": "green",
          "width": 1
         },
         "mode": "lines",
         "showlegend": false,
         "type": "scatter",
         "x": [
          "2023-03-30",
          "2023-03-31"
         ],
         "y": [
          375.6640853095051,
          375.7484977753265
         ]
        },
        {
         "line": {
          "color": "red",
          "width": 1
         },
         "mode": "lines",
         "showlegend": false,
         "type": "scatter",
         "x": [
          "2023-03-31",
          "2023-04-01"
         ],
         "y": [
          375.7484977753265,
          375.4456518807576
         ]
        },
        {
         "line": {
          "color": "green",
          "width": 1
         },
         "mode": "lines",
         "showlegend": false,
         "type": "scatter",
         "x": [
          "2023-04-01",
          "2023-04-02"
         ],
         "y": [
          375.4456518807576,
          375.87561738880123
         ]
        },
        {
         "line": {
          "color": "green",
          "width": 1
         },
         "mode": "lines",
         "showlegend": false,
         "type": "scatter",
         "x": [
          "2023-04-02",
          "2023-04-03"
         ],
         "y": [
          375.87561738880123,
          376.6906194497795
         ]
        },
        {
         "line": {
          "color": "red",
          "width": 1
         },
         "mode": "lines",
         "showlegend": false,
         "type": "scatter",
         "x": [
          "2023-04-03",
          "2023-04-04"
         ],
         "y": [
          376.6906194497795,
          376.4189782004555
         ]
        },
        {
         "line": {
          "color": "red",
          "width": 1
         },
         "mode": "lines",
         "showlegend": false,
         "type": "scatter",
         "x": [
          "2023-04-04",
          "2023-04-05"
         ],
         "y": [
          376.4189782004555,
          374.7435823430666
         ]
        },
        {
         "line": {
          "color": "red",
          "width": 1
         },
         "mode": "lines",
         "showlegend": false,
         "type": "scatter",
         "x": [
          "2023-04-05",
          "2023-04-06"
         ],
         "y": [
          374.7435823430666,
          372.95552179637303
         ]
        },
        {
         "line": {
          "color": "red",
          "width": 1
         },
         "mode": "lines",
         "showlegend": false,
         "type": "scatter",
         "x": [
          "2023-04-06",
          "2023-04-07"
         ],
         "y": [
          372.95552179637303,
          372.11470322111353
         ]
        },
        {
         "line": {
          "color": "red",
          "width": 1
         },
         "mode": "lines",
         "showlegend": false,
         "type": "scatter",
         "x": [
          "2023-04-07",
          "2023-04-08"
         ],
         "y": [
          372.11470322111353,
          371.9804588524603
         ]
        },
        {
         "line": {
          "color": "red",
          "width": 1
         },
         "mode": "lines",
         "showlegend": false,
         "type": "scatter",
         "x": [
          "2023-04-08",
          "2023-04-09"
         ],
         "y": [
          371.9804588524603,
          371.8731532738513
         ]
        },
        {
         "line": {
          "color": "red",
          "width": 1
         },
         "mode": "lines",
         "showlegend": false,
         "type": "scatter",
         "x": [
          "2023-04-09",
          "2023-04-10"
         ],
         "y": [
          371.8731532738513,
          371.55009112188657
         ]
        },
        {
         "line": {
          "color": "red",
          "width": 1
         },
         "mode": "lines",
         "showlegend": false,
         "type": "scatter",
         "x": [
          "2023-04-10",
          "2023-04-11"
         ],
         "y": [
          371.55009112188657,
          371.06082344041556
         ]
        },
        {
         "line": {
          "color": "red",
          "width": 1
         },
         "mode": "lines",
         "showlegend": false,
         "type": "scatter",
         "x": [
          "2023-04-11",
          "2023-04-12"
         ],
         "y": [
          371.06082344041556,
          370.5787247742938
         ]
        },
        {
         "line": {
          "color": "red",
          "width": 1
         },
         "mode": "lines",
         "showlegend": false,
         "type": "scatter",
         "x": [
          "2023-04-12",
          "2023-04-13"
         ],
         "y": [
          370.5787247742938,
          370.48951873317634
         ]
        },
        {
         "line": {
          "color": "green",
          "width": 1
         },
         "mode": "lines",
         "showlegend": false,
         "type": "scatter",
         "x": [
          "2023-04-13",
          "2023-04-14"
         ],
         "y": [
          370.48951873317634,
          370.9327339210197
         ]
        },
        {
         "line": {
          "color": "green",
          "width": 1
         },
         "mode": "lines",
         "showlegend": false,
         "type": "scatter",
         "x": [
          "2023-04-14",
          "2023-04-15"
         ],
         "y": [
          370.9327339210197,
          371.27305042859285
         ]
        },
        {
         "line": {
          "color": "red",
          "width": 1
         },
         "mode": "lines",
         "showlegend": false,
         "type": "scatter",
         "x": [
          "2023-04-15",
          "2023-04-16"
         ],
         "y": [
          371.27305042859285,
          370.7759553999818
         ]
        },
        {
         "line": {
          "color": "red",
          "width": 1
         },
         "mode": "lines",
         "showlegend": false,
         "type": "scatter",
         "x": [
          "2023-04-16",
          "2023-04-17"
         ],
         "y": [
          370.7759553999818,
          369.76565213667584
         ]
        },
        {
         "line": {
          "color": "red",
          "width": 1
         },
         "mode": "lines",
         "showlegend": false,
         "type": "scatter",
         "x": [
          "2023-04-17",
          "2023-04-18"
         ],
         "y": [
          369.76565213667584,
          369.3228909714297
         ]
        },
        {
         "line": {
          "color": "green",
          "width": 1
         },
         "mode": "lines",
         "showlegend": false,
         "type": "scatter",
         "x": [
          "2023-04-18",
          "2023-04-19"
         ],
         "y": [
          369.3228909714297,
          369.86571977176413
         ]
        },
        {
         "line": {
          "color": "green",
          "width": 1
         },
         "mode": "lines",
         "showlegend": false,
         "type": "scatter",
         "x": [
          "2023-04-19",
          "2023-04-20"
         ],
         "y": [
          369.86571977176413,
          370.8739175867875
         ]
        },
        {
         "line": {
          "color": "green",
          "width": 1
         },
         "mode": "lines",
         "showlegend": false,
         "type": "scatter",
         "x": [
          "2023-04-20",
          "2023-04-21"
         ],
         "y": [
          370.8739175867875,
          372.02063210075585
         ]
        },
        {
         "line": {
          "color": "green",
          "width": 1
         },
         "mode": "lines",
         "showlegend": false,
         "type": "scatter",
         "x": [
          "2023-04-21",
          "2023-04-22"
         ],
         "y": [
          372.02063210075585,
          373.6093169630763
         ]
        },
        {
         "line": {
          "color": "green",
          "width": 1
         },
         "mode": "lines",
         "showlegend": false,
         "type": "scatter",
         "x": [
          "2023-04-22",
          "2023-04-23"
         ],
         "y": [
          373.6093169630763,
          375.7086421659256
         ]
        },
        {
         "line": {
          "color": "green",
          "width": 1
         },
         "mode": "lines",
         "showlegend": false,
         "type": "scatter",
         "x": [
          "2023-04-23",
          "2023-04-24"
         ],
         "y": [
          375.7086421659256,
          377.84927533854716
         ]
        },
        {
         "line": {
          "color": "green",
          "width": 1
         },
         "mode": "lines",
         "showlegend": false,
         "type": "scatter",
         "x": [
          "2023-04-24",
          "2023-04-25"
         ],
         "y": [
          377.84927533854716,
          379.95408427931903
         ]
        },
        {
         "line": {
          "color": "green",
          "width": 1
         },
         "mode": "lines",
         "showlegend": false,
         "type": "scatter",
         "x": [
          "2023-04-25",
          "2023-04-26"
         ],
         "y": [
          379.95408427931903,
          382.54457235737044
         ]
        },
        {
         "line": {
          "color": "green",
          "width": 1
         },
         "mode": "lines",
         "showlegend": false,
         "type": "scatter",
         "x": [
          "2023-04-26",
          "2023-04-27"
         ],
         "y": [
          382.54457235737044,
          385.30483352745875
         ]
        },
        {
         "line": {
          "color": "green",
          "width": 1
         },
         "mode": "lines",
         "showlegend": false,
         "type": "scatter",
         "x": [
          "2023-04-27",
          "2023-04-28"
         ],
         "y": [
          385.30483352745875,
          386.34429726448764
         ]
        },
        {
         "line": {
          "color": "red",
          "width": 1
         },
         "mode": "lines",
         "showlegend": false,
         "type": "scatter",
         "x": [
          "2023-04-28",
          "2023-04-29"
         ],
         "y": [
          386.34429726448764,
          384.1191658854416
         ]
        },
        {
         "line": {
          "color": "red",
          "width": 1
         },
         "mode": "lines",
         "showlegend": false,
         "type": "scatter",
         "x": [
          "2023-04-29",
          "2023-04-30"
         ],
         "y": [
          384.1191658854416,
          379.85389618915474
         ]
        },
        {
         "line": {
          "color": "red",
          "width": 1
         },
         "mode": "lines",
         "showlegend": false,
         "type": "scatter",
         "x": [
          "2023-04-30",
          "2023-05-01"
         ],
         "y": [
          379.85389618915474,
          376.8564436861491
         ]
        },
        {
         "line": {
          "color": "green",
          "width": 1
         },
         "mode": "lines",
         "showlegend": false,
         "type": "scatter",
         "x": [
          "2023-05-01",
          "2023-05-02"
         ],
         "y": [
          376.8564436861491,
          377.0977863315983
         ]
        },
        {
         "line": {
          "color": "green",
          "width": 1
         },
         "mode": "lines",
         "showlegend": false,
         "type": "scatter",
         "x": [
          "2023-05-02",
          "2023-05-03"
         ],
         "y": [
          377.0977863315983,
          379.28905216528995
         ]
        }
       ],
       "layout": {
        "template": {
         "data": {
          "bar": [
           {
            "error_x": {
             "color": "#2a3f5f"
            },
            "error_y": {
             "color": "#2a3f5f"
            },
            "marker": {
             "line": {
              "color": "#E5ECF6",
              "width": 0.5
             },
             "pattern": {
              "fillmode": "overlay",
              "size": 10,
              "solidity": 0.2
             }
            },
            "type": "bar"
           }
          ],
          "barpolar": [
           {
            "marker": {
             "line": {
              "color": "#E5ECF6",
              "width": 0.5
             },
             "pattern": {
              "fillmode": "overlay",
              "size": 10,
              "solidity": 0.2
             }
            },
            "type": "barpolar"
           }
          ],
          "carpet": [
           {
            "aaxis": {
             "endlinecolor": "#2a3f5f",
             "gridcolor": "white",
             "linecolor": "white",
             "minorgridcolor": "white",
             "startlinecolor": "#2a3f5f"
            },
            "baxis": {
             "endlinecolor": "#2a3f5f",
             "gridcolor": "white",
             "linecolor": "white",
             "minorgridcolor": "white",
             "startlinecolor": "#2a3f5f"
            },
            "type": "carpet"
           }
          ],
          "choropleth": [
           {
            "colorbar": {
             "outlinewidth": 0,
             "ticks": ""
            },
            "type": "choropleth"
           }
          ],
          "contour": [
           {
            "colorbar": {
             "outlinewidth": 0,
             "ticks": ""
            },
            "colorscale": [
             [
              0,
              "#0d0887"
             ],
             [
              0.1111111111111111,
              "#46039f"
             ],
             [
              0.2222222222222222,
              "#7201a8"
             ],
             [
              0.3333333333333333,
              "#9c179e"
             ],
             [
              0.4444444444444444,
              "#bd3786"
             ],
             [
              0.5555555555555556,
              "#d8576b"
             ],
             [
              0.6666666666666666,
              "#ed7953"
             ],
             [
              0.7777777777777778,
              "#fb9f3a"
             ],
             [
              0.8888888888888888,
              "#fdca26"
             ],
             [
              1,
              "#f0f921"
             ]
            ],
            "type": "contour"
           }
          ],
          "contourcarpet": [
           {
            "colorbar": {
             "outlinewidth": 0,
             "ticks": ""
            },
            "type": "contourcarpet"
           }
          ],
          "heatmap": [
           {
            "colorbar": {
             "outlinewidth": 0,
             "ticks": ""
            },
            "colorscale": [
             [
              0,
              "#0d0887"
             ],
             [
              0.1111111111111111,
              "#46039f"
             ],
             [
              0.2222222222222222,
              "#7201a8"
             ],
             [
              0.3333333333333333,
              "#9c179e"
             ],
             [
              0.4444444444444444,
              "#bd3786"
             ],
             [
              0.5555555555555556,
              "#d8576b"
             ],
             [
              0.6666666666666666,
              "#ed7953"
             ],
             [
              0.7777777777777778,
              "#fb9f3a"
             ],
             [
              0.8888888888888888,
              "#fdca26"
             ],
             [
              1,
              "#f0f921"
             ]
            ],
            "type": "heatmap"
           }
          ],
          "heatmapgl": [
           {
            "colorbar": {
             "outlinewidth": 0,
             "ticks": ""
            },
            "colorscale": [
             [
              0,
              "#0d0887"
             ],
             [
              0.1111111111111111,
              "#46039f"
             ],
             [
              0.2222222222222222,
              "#7201a8"
             ],
             [
              0.3333333333333333,
              "#9c179e"
             ],
             [
              0.4444444444444444,
              "#bd3786"
             ],
             [
              0.5555555555555556,
              "#d8576b"
             ],
             [
              0.6666666666666666,
              "#ed7953"
             ],
             [
              0.7777777777777778,
              "#fb9f3a"
             ],
             [
              0.8888888888888888,
              "#fdca26"
             ],
             [
              1,
              "#f0f921"
             ]
            ],
            "type": "heatmapgl"
           }
          ],
          "histogram": [
           {
            "marker": {
             "pattern": {
              "fillmode": "overlay",
              "size": 10,
              "solidity": 0.2
             }
            },
            "type": "histogram"
           }
          ],
          "histogram2d": [
           {
            "colorbar": {
             "outlinewidth": 0,
             "ticks": ""
            },
            "colorscale": [
             [
              0,
              "#0d0887"
             ],
             [
              0.1111111111111111,
              "#46039f"
             ],
             [
              0.2222222222222222,
              "#7201a8"
             ],
             [
              0.3333333333333333,
              "#9c179e"
             ],
             [
              0.4444444444444444,
              "#bd3786"
             ],
             [
              0.5555555555555556,
              "#d8576b"
             ],
             [
              0.6666666666666666,
              "#ed7953"
             ],
             [
              0.7777777777777778,
              "#fb9f3a"
             ],
             [
              0.8888888888888888,
              "#fdca26"
             ],
             [
              1,
              "#f0f921"
             ]
            ],
            "type": "histogram2d"
           }
          ],
          "histogram2dcontour": [
           {
            "colorbar": {
             "outlinewidth": 0,
             "ticks": ""
            },
            "colorscale": [
             [
              0,
              "#0d0887"
             ],
             [
              0.1111111111111111,
              "#46039f"
             ],
             [
              0.2222222222222222,
              "#7201a8"
             ],
             [
              0.3333333333333333,
              "#9c179e"
             ],
             [
              0.4444444444444444,
              "#bd3786"
             ],
             [
              0.5555555555555556,
              "#d8576b"
             ],
             [
              0.6666666666666666,
              "#ed7953"
             ],
             [
              0.7777777777777778,
              "#fb9f3a"
             ],
             [
              0.8888888888888888,
              "#fdca26"
             ],
             [
              1,
              "#f0f921"
             ]
            ],
            "type": "histogram2dcontour"
           }
          ],
          "mesh3d": [
           {
            "colorbar": {
             "outlinewidth": 0,
             "ticks": ""
            },
            "type": "mesh3d"
           }
          ],
          "parcoords": [
           {
            "line": {
             "colorbar": {
              "outlinewidth": 0,
              "ticks": ""
             }
            },
            "type": "parcoords"
           }
          ],
          "pie": [
           {
            "automargin": true,
            "type": "pie"
           }
          ],
          "scatter": [
           {
            "marker": {
             "colorbar": {
              "outlinewidth": 0,
              "ticks": ""
             }
            },
            "type": "scatter"
           }
          ],
          "scatter3d": [
           {
            "line": {
             "colorbar": {
              "outlinewidth": 0,
              "ticks": ""
             }
            },
            "marker": {
             "colorbar": {
              "outlinewidth": 0,
              "ticks": ""
             }
            },
            "type": "scatter3d"
           }
          ],
          "scattercarpet": [
           {
            "marker": {
             "colorbar": {
              "outlinewidth": 0,
              "ticks": ""
             }
            },
            "type": "scattercarpet"
           }
          ],
          "scattergeo": [
           {
            "marker": {
             "colorbar": {
              "outlinewidth": 0,
              "ticks": ""
             }
            },
            "type": "scattergeo"
           }
          ],
          "scattergl": [
           {
            "marker": {
             "colorbar": {
              "outlinewidth": 0,
              "ticks": ""
             }
            },
            "type": "scattergl"
           }
          ],
          "scattermapbox": [
           {
            "marker": {
             "colorbar": {
              "outlinewidth": 0,
              "ticks": ""
             }
            },
            "type": "scattermapbox"
           }
          ],
          "scatterpolar": [
           {
            "marker": {
             "colorbar": {
              "outlinewidth": 0,
              "ticks": ""
             }
            },
            "type": "scatterpolar"
           }
          ],
          "scatterpolargl": [
           {
            "marker": {
             "colorbar": {
              "outlinewidth": 0,
              "ticks": ""
             }
            },
            "type": "scatterpolargl"
           }
          ],
          "scatterternary": [
           {
            "marker": {
             "colorbar": {
              "outlinewidth": 0,
              "ticks": ""
             }
            },
            "type": "scatterternary"
           }
          ],
          "surface": [
           {
            "colorbar": {
             "outlinewidth": 0,
             "ticks": ""
            },
            "colorscale": [
             [
              0,
              "#0d0887"
             ],
             [
              0.1111111111111111,
              "#46039f"
             ],
             [
              0.2222222222222222,
              "#7201a8"
             ],
             [
              0.3333333333333333,
              "#9c179e"
             ],
             [
              0.4444444444444444,
              "#bd3786"
             ],
             [
              0.5555555555555556,
              "#d8576b"
             ],
             [
              0.6666666666666666,
              "#ed7953"
             ],
             [
              0.7777777777777778,
              "#fb9f3a"
             ],
             [
              0.8888888888888888,
              "#fdca26"
             ],
             [
              1,
              "#f0f921"
             ]
            ],
            "type": "surface"
           }
          ],
          "table": [
           {
            "cells": {
             "fill": {
              "color": "#EBF0F8"
             },
             "line": {
              "color": "white"
             }
            },
            "header": {
             "fill": {
              "color": "#C8D4E3"
             },
             "line": {
              "color": "white"
             }
            },
            "type": "table"
           }
          ]
         },
         "layout": {
          "annotationdefaults": {
           "arrowcolor": "#2a3f5f",
           "arrowhead": 0,
           "arrowwidth": 1
          },
          "autotypenumbers": "strict",
          "coloraxis": {
           "colorbar": {
            "outlinewidth": 0,
            "ticks": ""
           }
          },
          "colorscale": {
           "diverging": [
            [
             0,
             "#8e0152"
            ],
            [
             0.1,
             "#c51b7d"
            ],
            [
             0.2,
             "#de77ae"
            ],
            [
             0.3,
             "#f1b6da"
            ],
            [
             0.4,
             "#fde0ef"
            ],
            [
             0.5,
             "#f7f7f7"
            ],
            [
             0.6,
             "#e6f5d0"
            ],
            [
             0.7,
             "#b8e186"
            ],
            [
             0.8,
             "#7fbc41"
            ],
            [
             0.9,
             "#4d9221"
            ],
            [
             1,
             "#276419"
            ]
           ],
           "sequential": [
            [
             0,
             "#0d0887"
            ],
            [
             0.1111111111111111,
             "#46039f"
            ],
            [
             0.2222222222222222,
             "#7201a8"
            ],
            [
             0.3333333333333333,
             "#9c179e"
            ],
            [
             0.4444444444444444,
             "#bd3786"
            ],
            [
             0.5555555555555556,
             "#d8576b"
            ],
            [
             0.6666666666666666,
             "#ed7953"
            ],
            [
             0.7777777777777778,
             "#fb9f3a"
            ],
            [
             0.8888888888888888,
             "#fdca26"
            ],
            [
             1,
             "#f0f921"
            ]
           ],
           "sequentialminus": [
            [
             0,
             "#0d0887"
            ],
            [
             0.1111111111111111,
             "#46039f"
            ],
            [
             0.2222222222222222,
             "#7201a8"
            ],
            [
             0.3333333333333333,
             "#9c179e"
            ],
            [
             0.4444444444444444,
             "#bd3786"
            ],
            [
             0.5555555555555556,
             "#d8576b"
            ],
            [
             0.6666666666666666,
             "#ed7953"
            ],
            [
             0.7777777777777778,
             "#fb9f3a"
            ],
            [
             0.8888888888888888,
             "#fdca26"
            ],
            [
             1,
             "#f0f921"
            ]
           ]
          },
          "colorway": [
           "#636efa",
           "#EF553B",
           "#00cc96",
           "#ab63fa",
           "#FFA15A",
           "#19d3f3",
           "#FF6692",
           "#B6E880",
           "#FF97FF",
           "#FECB52"
          ],
          "font": {
           "color": "#2a3f5f"
          },
          "geo": {
           "bgcolor": "white",
           "lakecolor": "white",
           "landcolor": "#E5ECF6",
           "showlakes": true,
           "showland": true,
           "subunitcolor": "white"
          },
          "hoverlabel": {
           "align": "left"
          },
          "hovermode": "closest",
          "mapbox": {
           "style": "light"
          },
          "paper_bgcolor": "white",
          "plot_bgcolor": "#E5ECF6",
          "polar": {
           "angularaxis": {
            "gridcolor": "white",
            "linecolor": "white",
            "ticks": ""
           },
           "bgcolor": "#E5ECF6",
           "radialaxis": {
            "gridcolor": "white",
            "linecolor": "white",
            "ticks": ""
           }
          },
          "scene": {
           "xaxis": {
            "backgroundcolor": "#E5ECF6",
            "gridcolor": "white",
            "gridwidth": 2,
            "linecolor": "white",
            "showbackground": true,
            "ticks": "",
            "zerolinecolor": "white"
           },
           "yaxis": {
            "backgroundcolor": "#E5ECF6",
            "gridcolor": "white",
            "gridwidth": 2,
            "linecolor": "white",
            "showbackground": true,
            "ticks": "",
            "zerolinecolor": "white"
           },
           "zaxis": {
            "backgroundcolor": "#E5ECF6",
            "gridcolor": "white",
            "gridwidth": 2,
            "linecolor": "white",
            "showbackground": true,
            "ticks": "",
            "zerolinecolor": "white"
           }
          },
          "shapedefaults": {
           "line": {
            "color": "#2a3f5f"
           }
          },
          "ternary": {
           "aaxis": {
            "gridcolor": "white",
            "linecolor": "white",
            "ticks": ""
           },
           "baxis": {
            "gridcolor": "white",
            "linecolor": "white",
            "ticks": ""
           },
           "bgcolor": "#E5ECF6",
           "caxis": {
            "gridcolor": "white",
            "linecolor": "white",
            "ticks": ""
           }
          },
          "title": {
           "x": 0.05
          },
          "xaxis": {
           "automargin": true,
           "gridcolor": "white",
           "linecolor": "white",
           "ticks": "",
           "title": {
            "standoff": 15
           },
           "zerolinecolor": "white",
           "zerolinewidth": 2
          },
          "yaxis": {
           "automargin": true,
           "gridcolor": "white",
           "linecolor": "white",
           "ticks": "",
           "title": {
            "standoff": 15
           },
           "zerolinecolor": "white",
           "zerolinewidth": 2
          }
         }
        },
        "title": {
         "text": "Prediccion Dolar Blue"
        },
        "xaxis": {
         "title": {
          "text": "Fecha"
         }
        },
        "yaxis": {
         "title": {
          "text": "Valores"
         }
        }
       }
      }
     },
     "metadata": {},
     "output_type": "display_data"
    }
   ],
   "source": [
    "import plotly.graph_objs as go\n",
    "import plotly.offline as pyo\n",
    "\n",
    "data = []\n",
    "for i in range(1, len(values_new)):\n",
    "    if y[i] > y[i-1]:\n",
    "        color = 'green'\n",
    "    else:\n",
    "        color = 'red'\n",
    "    trace = go.Scatter(x=x[i-1:i+1], y=y[i-1:i+1], mode='lines', line=dict(color=color, width=1), showlegend=False)\n",
    "    data.append(trace)\n",
    "\n",
    "layout = go.Layout(title='Prediccion Dolar Blue', xaxis=dict(title='Fecha'), yaxis=dict(title='Valores'))\n",
    "fig = go.Figure(data=data, layout=layout)\n",
    "pyo.iplot(fig)"
   ]
  },
  {
   "cell_type": "code",
   "execution_count": 38,
   "metadata": {
    "execution": {
     "iopub.execute_input": "2023-01-19T22:13:25.978073Z",
     "iopub.status.busy": "2023-01-19T22:13:25.977047Z",
     "iopub.status.idle": "2023-01-19T22:13:26.005057Z",
     "shell.execute_reply": "2023-01-19T22:13:26.003755Z"
    }
   },
   "outputs": [],
   "source": [
    "with open('data/html/Predicciones/Pred_DolarBlue.html', 'w') as f:\n",
    "    f.write(fig.to_html(include_plotlyjs='cdn'))"
   ]
  }
 ],
 "metadata": {
  "kernelspec": {
   "display_name": "base",
   "language": "python",
   "name": "python3"
  },
  "language_info": {
   "codemirror_mode": {
    "name": "ipython",
    "version": 3
   },
   "file_extension": ".py",
   "mimetype": "text/x-python",
   "name": "python",
   "nbconvert_exporter": "python",
   "pygments_lexer": "ipython3",
   "version": "3.9.12"
  },
  "vscode": {
   "interpreter": {
    "hash": "f9ab598b9454a605c842d50279dc9b9787a69dd935282767b7751d6d2d6dcde1"
   }
  }
 },
 "nbformat": 4,
 "nbformat_minor": 2
}
