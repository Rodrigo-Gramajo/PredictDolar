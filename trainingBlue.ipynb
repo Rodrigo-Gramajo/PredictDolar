{
 "cells": [
  {
   "cell_type": "code",
   "execution_count": 1,
   "metadata": {
    "execution": {
     "iopub.execute_input": "2023-01-19T22:12:22.724055Z",
     "iopub.status.busy": "2023-01-19T22:12:22.723058Z",
     "iopub.status.idle": "2023-01-19T22:12:23.869567Z",
     "shell.execute_reply": "2023-01-19T22:12:23.868546Z"
    }
   },
   "outputs": [
    {
     "data": {
      "text/html": [
       "<div>\n",
       "<style scoped>\n",
       "    .dataframe tbody tr th:only-of-type {\n",
       "        vertical-align: middle;\n",
       "    }\n",
       "\n",
       "    .dataframe tbody tr th {\n",
       "        vertical-align: top;\n",
       "    }\n",
       "\n",
       "    .dataframe thead th {\n",
       "        text-align: right;\n",
       "    }\n",
       "</style>\n",
       "<table border=\"1\" class=\"dataframe\">\n",
       "  <thead>\n",
       "    <tr style=\"text-align: right;\">\n",
       "      <th></th>\n",
       "      <th>Fecha</th>\n",
       "      <th>Compra</th>\n",
       "      <th>Venta</th>\n",
       "    </tr>\n",
       "  </thead>\n",
       "  <tbody>\n",
       "    <tr>\n",
       "      <th>0</th>\n",
       "      <td>2023-01-26</td>\n",
       "      <td>379.00</td>\n",
       "      <td>383.00</td>\n",
       "    </tr>\n",
       "    <tr>\n",
       "      <th>1</th>\n",
       "      <td>2023-01-25</td>\n",
       "      <td>377.00</td>\n",
       "      <td>381.00</td>\n",
       "    </tr>\n",
       "    <tr>\n",
       "      <th>2</th>\n",
       "      <td>2023-01-24</td>\n",
       "      <td>372.00</td>\n",
       "      <td>376.00</td>\n",
       "    </tr>\n",
       "    <tr>\n",
       "      <th>3</th>\n",
       "      <td>2023-01-23</td>\n",
       "      <td>372.00</td>\n",
       "      <td>376.00</td>\n",
       "    </tr>\n",
       "    <tr>\n",
       "      <th>4</th>\n",
       "      <td>2023-01-20</td>\n",
       "      <td>370.00</td>\n",
       "      <td>374.00</td>\n",
       "    </tr>\n",
       "    <tr>\n",
       "      <th>...</th>\n",
       "      <td>...</td>\n",
       "      <td>...</td>\n",
       "      <td>...</td>\n",
       "    </tr>\n",
       "    <tr>\n",
       "      <th>3212</th>\n",
       "      <td>2010-01-08</td>\n",
       "      <td>3.87</td>\n",
       "      <td>3.87</td>\n",
       "    </tr>\n",
       "    <tr>\n",
       "      <th>3213</th>\n",
       "      <td>2010-01-07</td>\n",
       "      <td>3.86</td>\n",
       "      <td>3.87</td>\n",
       "    </tr>\n",
       "    <tr>\n",
       "      <th>3214</th>\n",
       "      <td>2010-01-06</td>\n",
       "      <td>3.87</td>\n",
       "      <td>3.88</td>\n",
       "    </tr>\n",
       "    <tr>\n",
       "      <th>3215</th>\n",
       "      <td>2010-01-05</td>\n",
       "      <td>3.86</td>\n",
       "      <td>3.86</td>\n",
       "    </tr>\n",
       "    <tr>\n",
       "      <th>3216</th>\n",
       "      <td>2010-01-04</td>\n",
       "      <td>3.86</td>\n",
       "      <td>3.86</td>\n",
       "    </tr>\n",
       "  </tbody>\n",
       "</table>\n",
       "<p>3217 rows × 3 columns</p>\n",
       "</div>"
      ],
      "text/plain": [
       "          Fecha  Compra   Venta\n",
       "0    2023-01-26  379.00  383.00\n",
       "1    2023-01-25  377.00  381.00\n",
       "2    2023-01-24  372.00  376.00\n",
       "3    2023-01-23  372.00  376.00\n",
       "4    2023-01-20  370.00  374.00\n",
       "...         ...     ...     ...\n",
       "3212 2010-01-08    3.87    3.87\n",
       "3213 2010-01-07    3.86    3.87\n",
       "3214 2010-01-06    3.87    3.88\n",
       "3215 2010-01-05    3.86    3.86\n",
       "3216 2010-01-04    3.86    3.86\n",
       "\n",
       "[3217 rows x 3 columns]"
      ]
     },
     "execution_count": 1,
     "metadata": {},
     "output_type": "execute_result"
    }
   ],
   "source": [
    "import pandas as pd\n",
    "import matplotlib.pyplot as plt\n",
    "import time \n",
    "\n",
    "df = pd.read_pickle('data/pkl/PreciosBlue.xlsx.pkl')\n",
    "df"
   ]
  },
  {
   "cell_type": "code",
   "execution_count": 2,
   "metadata": {
    "execution": {
     "iopub.execute_input": "2023-01-19T22:12:23.895718Z",
     "iopub.status.busy": "2023-01-19T22:12:23.895718Z",
     "iopub.status.idle": "2023-01-19T22:12:23.918861Z",
     "shell.execute_reply": "2023-01-19T22:12:23.917856Z"
    }
   },
   "outputs": [
    {
     "data": {
      "text/html": [
       "<div>\n",
       "<style scoped>\n",
       "    .dataframe tbody tr th:only-of-type {\n",
       "        vertical-align: middle;\n",
       "    }\n",
       "\n",
       "    .dataframe tbody tr th {\n",
       "        vertical-align: top;\n",
       "    }\n",
       "\n",
       "    .dataframe thead th {\n",
       "        text-align: right;\n",
       "    }\n",
       "</style>\n",
       "<table border=\"1\" class=\"dataframe\">\n",
       "  <thead>\n",
       "    <tr style=\"text-align: right;\">\n",
       "      <th></th>\n",
       "      <th>index</th>\n",
       "      <th>ds</th>\n",
       "      <th>Compra</th>\n",
       "      <th>y</th>\n",
       "    </tr>\n",
       "  </thead>\n",
       "  <tbody>\n",
       "    <tr>\n",
       "      <th>0</th>\n",
       "      <td>0</td>\n",
       "      <td>2023-01-26</td>\n",
       "      <td>379.0</td>\n",
       "      <td>383.0</td>\n",
       "    </tr>\n",
       "    <tr>\n",
       "      <th>1</th>\n",
       "      <td>1</td>\n",
       "      <td>2023-01-25</td>\n",
       "      <td>377.0</td>\n",
       "      <td>381.0</td>\n",
       "    </tr>\n",
       "    <tr>\n",
       "      <th>2</th>\n",
       "      <td>2</td>\n",
       "      <td>2023-01-24</td>\n",
       "      <td>372.0</td>\n",
       "      <td>376.0</td>\n",
       "    </tr>\n",
       "    <tr>\n",
       "      <th>3</th>\n",
       "      <td>3</td>\n",
       "      <td>2023-01-23</td>\n",
       "      <td>372.0</td>\n",
       "      <td>376.0</td>\n",
       "    </tr>\n",
       "    <tr>\n",
       "      <th>4</th>\n",
       "      <td>4</td>\n",
       "      <td>2023-01-20</td>\n",
       "      <td>370.0</td>\n",
       "      <td>374.0</td>\n",
       "    </tr>\n",
       "  </tbody>\n",
       "</table>\n",
       "</div>"
      ],
      "text/plain": [
       "   index         ds  Compra      y\n",
       "0      0 2023-01-26   379.0  383.0\n",
       "1      1 2023-01-25   377.0  381.0\n",
       "2      2 2023-01-24   372.0  376.0\n",
       "3      3 2023-01-23   372.0  376.0\n",
       "4      4 2023-01-20   370.0  374.0"
      ]
     },
     "execution_count": 2,
     "metadata": {},
     "output_type": "execute_result"
    }
   ],
   "source": [
    "# renaming for fbprophet\n",
    "df.rename(columns={'Fecha':'ds'}, inplace=True)\n",
    "df.rename(columns={'Venta':'y'}, inplace=True)\n",
    "df.reset_index(inplace=True)\n",
    "df.head()"
   ]
  },
  {
   "cell_type": "code",
   "execution_count": 3,
   "metadata": {
    "execution": {
     "iopub.execute_input": "2023-01-19T22:12:23.921852Z",
     "iopub.status.busy": "2023-01-19T22:12:23.921852Z",
     "iopub.status.idle": "2023-01-19T22:12:23.935306Z",
     "shell.execute_reply": "2023-01-19T22:12:23.934305Z"
    }
   },
   "outputs": [],
   "source": [
    "df.rename(columns={'Fecha':'ds'}, inplace=True)"
   ]
  },
  {
   "cell_type": "code",
   "execution_count": 4,
   "metadata": {
    "execution": {
     "iopub.execute_input": "2023-01-19T22:12:23.938836Z",
     "iopub.status.busy": "2023-01-19T22:12:23.938836Z",
     "iopub.status.idle": "2023-01-19T22:12:23.965636Z",
     "shell.execute_reply": "2023-01-19T22:12:23.965636Z"
    }
   },
   "outputs": [
    {
     "data": {
      "text/html": [
       "<div>\n",
       "<style scoped>\n",
       "    .dataframe tbody tr th:only-of-type {\n",
       "        vertical-align: middle;\n",
       "    }\n",
       "\n",
       "    .dataframe tbody tr th {\n",
       "        vertical-align: top;\n",
       "    }\n",
       "\n",
       "    .dataframe thead th {\n",
       "        text-align: right;\n",
       "    }\n",
       "</style>\n",
       "<table border=\"1\" class=\"dataframe\">\n",
       "  <thead>\n",
       "    <tr style=\"text-align: right;\">\n",
       "      <th></th>\n",
       "      <th>index</th>\n",
       "      <th>ds</th>\n",
       "      <th>Compra</th>\n",
       "      <th>y</th>\n",
       "    </tr>\n",
       "  </thead>\n",
       "  <tbody>\n",
       "    <tr>\n",
       "      <th>0</th>\n",
       "      <td>0</td>\n",
       "      <td>2023-01-26</td>\n",
       "      <td>379.00</td>\n",
       "      <td>383.00</td>\n",
       "    </tr>\n",
       "    <tr>\n",
       "      <th>1</th>\n",
       "      <td>1</td>\n",
       "      <td>2023-01-25</td>\n",
       "      <td>377.00</td>\n",
       "      <td>381.00</td>\n",
       "    </tr>\n",
       "    <tr>\n",
       "      <th>2</th>\n",
       "      <td>2</td>\n",
       "      <td>2023-01-24</td>\n",
       "      <td>372.00</td>\n",
       "      <td>376.00</td>\n",
       "    </tr>\n",
       "    <tr>\n",
       "      <th>3</th>\n",
       "      <td>3</td>\n",
       "      <td>2023-01-23</td>\n",
       "      <td>372.00</td>\n",
       "      <td>376.00</td>\n",
       "    </tr>\n",
       "    <tr>\n",
       "      <th>4</th>\n",
       "      <td>4</td>\n",
       "      <td>2023-01-20</td>\n",
       "      <td>370.00</td>\n",
       "      <td>374.00</td>\n",
       "    </tr>\n",
       "    <tr>\n",
       "      <th>...</th>\n",
       "      <td>...</td>\n",
       "      <td>...</td>\n",
       "      <td>...</td>\n",
       "      <td>...</td>\n",
       "    </tr>\n",
       "    <tr>\n",
       "      <th>1266</th>\n",
       "      <td>1266</td>\n",
       "      <td>2018-01-08</td>\n",
       "      <td>19.18</td>\n",
       "      <td>19.58</td>\n",
       "    </tr>\n",
       "    <tr>\n",
       "      <th>1267</th>\n",
       "      <td>1267</td>\n",
       "      <td>2018-01-05</td>\n",
       "      <td>19.05</td>\n",
       "      <td>19.45</td>\n",
       "    </tr>\n",
       "    <tr>\n",
       "      <th>1268</th>\n",
       "      <td>1268</td>\n",
       "      <td>2018-01-04</td>\n",
       "      <td>19.01</td>\n",
       "      <td>19.41</td>\n",
       "    </tr>\n",
       "    <tr>\n",
       "      <th>1269</th>\n",
       "      <td>1269</td>\n",
       "      <td>2018-01-03</td>\n",
       "      <td>18.89</td>\n",
       "      <td>19.29</td>\n",
       "    </tr>\n",
       "    <tr>\n",
       "      <th>1270</th>\n",
       "      <td>1270</td>\n",
       "      <td>2018-01-02</td>\n",
       "      <td>18.85</td>\n",
       "      <td>19.25</td>\n",
       "    </tr>\n",
       "  </tbody>\n",
       "</table>\n",
       "<p>1271 rows × 4 columns</p>\n",
       "</div>"
      ],
      "text/plain": [
       "      index         ds  Compra       y\n",
       "0         0 2023-01-26  379.00  383.00\n",
       "1         1 2023-01-25  377.00  381.00\n",
       "2         2 2023-01-24  372.00  376.00\n",
       "3         3 2023-01-23  372.00  376.00\n",
       "4         4 2023-01-20  370.00  374.00\n",
       "...     ...        ...     ...     ...\n",
       "1266   1266 2018-01-08   19.18   19.58\n",
       "1267   1267 2018-01-05   19.05   19.45\n",
       "1268   1268 2018-01-04   19.01   19.41\n",
       "1269   1269 2018-01-03   18.89   19.29\n",
       "1270   1270 2018-01-02   18.85   19.25\n",
       "\n",
       "[1271 rows x 4 columns]"
      ]
     },
     "execution_count": 4,
     "metadata": {},
     "output_type": "execute_result"
    }
   ],
   "source": [
    "df = df[df['ds'] >= '2018-01-01']\n",
    "\n",
    "df"
   ]
  },
  {
   "cell_type": "code",
   "execution_count": 5,
   "metadata": {
    "execution": {
     "iopub.execute_input": "2023-01-19T22:12:23.970598Z",
     "iopub.status.busy": "2023-01-19T22:12:23.970598Z",
     "iopub.status.idle": "2023-01-19T22:12:23.996971Z",
     "shell.execute_reply": "2023-01-19T22:12:23.995958Z"
    }
   },
   "outputs": [
    {
     "data": {
      "text/html": [
       "<div>\n",
       "<style scoped>\n",
       "    .dataframe tbody tr th:only-of-type {\n",
       "        vertical-align: middle;\n",
       "    }\n",
       "\n",
       "    .dataframe tbody tr th {\n",
       "        vertical-align: top;\n",
       "    }\n",
       "\n",
       "    .dataframe thead th {\n",
       "        text-align: right;\n",
       "    }\n",
       "</style>\n",
       "<table border=\"1\" class=\"dataframe\">\n",
       "  <thead>\n",
       "    <tr style=\"text-align: right;\">\n",
       "      <th></th>\n",
       "      <th>index</th>\n",
       "      <th>ds</th>\n",
       "      <th>y</th>\n",
       "    </tr>\n",
       "  </thead>\n",
       "  <tbody>\n",
       "    <tr>\n",
       "      <th>0</th>\n",
       "      <td>0</td>\n",
       "      <td>2023-01-26</td>\n",
       "      <td>383.00</td>\n",
       "    </tr>\n",
       "    <tr>\n",
       "      <th>1</th>\n",
       "      <td>1</td>\n",
       "      <td>2023-01-25</td>\n",
       "      <td>381.00</td>\n",
       "    </tr>\n",
       "    <tr>\n",
       "      <th>2</th>\n",
       "      <td>2</td>\n",
       "      <td>2023-01-24</td>\n",
       "      <td>376.00</td>\n",
       "    </tr>\n",
       "    <tr>\n",
       "      <th>3</th>\n",
       "      <td>3</td>\n",
       "      <td>2023-01-23</td>\n",
       "      <td>376.00</td>\n",
       "    </tr>\n",
       "    <tr>\n",
       "      <th>4</th>\n",
       "      <td>4</td>\n",
       "      <td>2023-01-20</td>\n",
       "      <td>374.00</td>\n",
       "    </tr>\n",
       "    <tr>\n",
       "      <th>...</th>\n",
       "      <td>...</td>\n",
       "      <td>...</td>\n",
       "      <td>...</td>\n",
       "    </tr>\n",
       "    <tr>\n",
       "      <th>1266</th>\n",
       "      <td>1266</td>\n",
       "      <td>2018-01-08</td>\n",
       "      <td>19.58</td>\n",
       "    </tr>\n",
       "    <tr>\n",
       "      <th>1267</th>\n",
       "      <td>1267</td>\n",
       "      <td>2018-01-05</td>\n",
       "      <td>19.45</td>\n",
       "    </tr>\n",
       "    <tr>\n",
       "      <th>1268</th>\n",
       "      <td>1268</td>\n",
       "      <td>2018-01-04</td>\n",
       "      <td>19.41</td>\n",
       "    </tr>\n",
       "    <tr>\n",
       "      <th>1269</th>\n",
       "      <td>1269</td>\n",
       "      <td>2018-01-03</td>\n",
       "      <td>19.29</td>\n",
       "    </tr>\n",
       "    <tr>\n",
       "      <th>1270</th>\n",
       "      <td>1270</td>\n",
       "      <td>2018-01-02</td>\n",
       "      <td>19.25</td>\n",
       "    </tr>\n",
       "  </tbody>\n",
       "</table>\n",
       "<p>1271 rows × 3 columns</p>\n",
       "</div>"
      ],
      "text/plain": [
       "      index         ds       y\n",
       "0         0 2023-01-26  383.00\n",
       "1         1 2023-01-25  381.00\n",
       "2         2 2023-01-24  376.00\n",
       "3         3 2023-01-23  376.00\n",
       "4         4 2023-01-20  374.00\n",
       "...     ...        ...     ...\n",
       "1266   1266 2018-01-08   19.58\n",
       "1267   1267 2018-01-05   19.45\n",
       "1268   1268 2018-01-04   19.41\n",
       "1269   1269 2018-01-03   19.29\n",
       "1270   1270 2018-01-02   19.25\n",
       "\n",
       "[1271 rows x 3 columns]"
      ]
     },
     "execution_count": 5,
     "metadata": {},
     "output_type": "execute_result"
    }
   ],
   "source": [
    "df.drop(['Compra'], axis=1)"
   ]
  },
  {
   "cell_type": "code",
   "execution_count": 6,
   "metadata": {
    "execution": {
     "iopub.execute_input": "2023-01-19T22:12:24.001514Z",
     "iopub.status.busy": "2023-01-19T22:12:23.999041Z",
     "iopub.status.idle": "2023-01-19T22:12:24.013096Z",
     "shell.execute_reply": "2023-01-19T22:12:24.012093Z"
    }
   },
   "outputs": [],
   "source": [
    "df = df.sort_values(by='ds')"
   ]
  },
  {
   "cell_type": "code",
   "execution_count": 7,
   "metadata": {
    "execution": {
     "iopub.execute_input": "2023-01-19T22:12:24.016218Z",
     "iopub.status.busy": "2023-01-19T22:12:24.016218Z",
     "iopub.status.idle": "2023-01-19T22:12:24.043072Z",
     "shell.execute_reply": "2023-01-19T22:12:24.042084Z"
    }
   },
   "outputs": [
    {
     "data": {
      "text/plain": [
       "count    1271.000000\n",
       "mean      130.844146\n",
       "std        89.874549\n",
       "min        19.250000\n",
       "25%        43.800000\n",
       "50%       132.000000\n",
       "75%       192.500000\n",
       "max       383.000000\n",
       "Name: y, dtype: float64"
      ]
     },
     "execution_count": 7,
     "metadata": {},
     "output_type": "execute_result"
    }
   ],
   "source": [
    "df['y'].round(2).describe()"
   ]
  },
  {
   "cell_type": "code",
   "execution_count": 8,
   "metadata": {
    "execution": {
     "iopub.execute_input": "2023-01-19T22:12:24.047096Z",
     "iopub.status.busy": "2023-01-19T22:12:24.047096Z",
     "iopub.status.idle": "2023-01-19T22:12:25.965713Z",
     "shell.execute_reply": "2023-01-19T22:12:25.965713Z"
    }
   },
   "outputs": [
    {
     "name": "stderr",
     "output_type": "stream",
     "text": [
      "c:\\Users\\rodri\\anaconda3.1\\lib\\site-packages\\scipy\\__init__.py:146: UserWarning: A NumPy version >=1.16.5 and <1.23.0 is required for this version of SciPy (detected version 1.24.1\n",
      "  warnings.warn(f\"A NumPy version >={np_minversion} and <{np_maxversion}\"\n",
      "16:58:46 - cmdstanpy - INFO - Chain [1] start processing\n",
      "16:58:49 - cmdstanpy - INFO - Chain [1] done processing\n"
     ]
    },
    {
     "data": {
      "text/plain": [
       "<prophet.forecaster.Prophet at 0x1e9be706fd0>"
      ]
     },
     "execution_count": 8,
     "metadata": {},
     "output_type": "execute_result"
    }
   ],
   "source": [
    "from prophet import Prophet\n",
    "\n",
    "prophet_model = Prophet()\n",
    "prophet_model.fit(df)"
   ]
  },
  {
   "cell_type": "code",
   "execution_count": 9,
   "metadata": {
    "execution": {
     "iopub.execute_input": "2023-01-19T22:12:25.970123Z",
     "iopub.status.busy": "2023-01-19T22:12:25.970123Z",
     "iopub.status.idle": "2023-01-19T22:12:25.982309Z",
     "shell.execute_reply": "2023-01-19T22:12:25.981191Z"
    }
   },
   "outputs": [
    {
     "data": {
      "text/html": [
       "<div>\n",
       "<style scoped>\n",
       "    .dataframe tbody tr th:only-of-type {\n",
       "        vertical-align: middle;\n",
       "    }\n",
       "\n",
       "    .dataframe tbody tr th {\n",
       "        vertical-align: top;\n",
       "    }\n",
       "\n",
       "    .dataframe thead th {\n",
       "        text-align: right;\n",
       "    }\n",
       "</style>\n",
       "<table border=\"1\" class=\"dataframe\">\n",
       "  <thead>\n",
       "    <tr style=\"text-align: right;\">\n",
       "      <th></th>\n",
       "      <th>ds</th>\n",
       "    </tr>\n",
       "  </thead>\n",
       "  <tbody>\n",
       "    <tr>\n",
       "      <th>1233</th>\n",
       "      <td>2023-01-23</td>\n",
       "    </tr>\n",
       "    <tr>\n",
       "      <th>1234</th>\n",
       "      <td>2023-01-24</td>\n",
       "    </tr>\n",
       "    <tr>\n",
       "      <th>1235</th>\n",
       "      <td>2023-01-25</td>\n",
       "    </tr>\n",
       "    <tr>\n",
       "      <th>1236</th>\n",
       "      <td>2023-01-26</td>\n",
       "    </tr>\n",
       "    <tr>\n",
       "      <th>1237</th>\n",
       "      <td>2023-12-31</td>\n",
       "    </tr>\n",
       "  </tbody>\n",
       "</table>\n",
       "</div>"
      ],
      "text/plain": [
       "             ds\n",
       "1233 2023-01-23\n",
       "1234 2023-01-24\n",
       "1235 2023-01-25\n",
       "1236 2023-01-26\n",
       "1237 2023-12-31"
      ]
     },
     "execution_count": 9,
     "metadata": {},
     "output_type": "execute_result"
    }
   ],
   "source": [
    "future_dataset= prophet_model.make_future_dataframe(periods=1, freq='y') # Data para el proximo año\n",
    "future_dataset.tail()"
   ]
  },
  {
   "cell_type": "code",
   "execution_count": 10,
   "metadata": {
    "execution": {
     "iopub.execute_input": "2023-01-19T22:12:25.986053Z",
     "iopub.status.busy": "2023-01-19T22:12:25.986053Z",
     "iopub.status.idle": "2023-01-19T22:12:26.615712Z",
     "shell.execute_reply": "2023-01-19T22:12:26.614753Z"
    }
   },
   "outputs": [
    {
     "data": {
      "text/html": [
       "<div>\n",
       "<style scoped>\n",
       "    .dataframe tbody tr th:only-of-type {\n",
       "        vertical-align: middle;\n",
       "    }\n",
       "\n",
       "    .dataframe tbody tr th {\n",
       "        vertical-align: top;\n",
       "    }\n",
       "\n",
       "    .dataframe thead th {\n",
       "        text-align: right;\n",
       "    }\n",
       "</style>\n",
       "<table border=\"1\" class=\"dataframe\">\n",
       "  <thead>\n",
       "    <tr style=\"text-align: right;\">\n",
       "      <th></th>\n",
       "      <th>ds</th>\n",
       "      <th>yhat</th>\n",
       "      <th>yhat_lower</th>\n",
       "      <th>yhat_upper</th>\n",
       "    </tr>\n",
       "  </thead>\n",
       "  <tbody>\n",
       "    <tr>\n",
       "      <th>0</th>\n",
       "      <td>2018-01-02</td>\n",
       "      <td>28.122241</td>\n",
       "      <td>14.740901</td>\n",
       "      <td>43.014353</td>\n",
       "    </tr>\n",
       "    <tr>\n",
       "      <th>1</th>\n",
       "      <td>2018-01-03</td>\n",
       "      <td>29.139253</td>\n",
       "      <td>15.776895</td>\n",
       "      <td>42.449986</td>\n",
       "    </tr>\n",
       "    <tr>\n",
       "      <th>2</th>\n",
       "      <td>2018-01-04</td>\n",
       "      <td>29.376075</td>\n",
       "      <td>16.129431</td>\n",
       "      <td>43.868245</td>\n",
       "    </tr>\n",
       "    <tr>\n",
       "      <th>3</th>\n",
       "      <td>2018-01-05</td>\n",
       "      <td>29.490252</td>\n",
       "      <td>16.109093</td>\n",
       "      <td>42.945371</td>\n",
       "    </tr>\n",
       "    <tr>\n",
       "      <th>4</th>\n",
       "      <td>2018-01-08</td>\n",
       "      <td>29.485410</td>\n",
       "      <td>15.520700</td>\n",
       "      <td>44.114347</td>\n",
       "    </tr>\n",
       "  </tbody>\n",
       "</table>\n",
       "</div>"
      ],
      "text/plain": [
       "          ds       yhat  yhat_lower  yhat_upper\n",
       "0 2018-01-02  28.122241   14.740901   43.014353\n",
       "1 2018-01-03  29.139253   15.776895   42.449986\n",
       "2 2018-01-04  29.376075   16.129431   43.868245\n",
       "3 2018-01-05  29.490252   16.109093   42.945371\n",
       "4 2018-01-08  29.485410   15.520700   44.114347"
      ]
     },
     "execution_count": 10,
     "metadata": {},
     "output_type": "execute_result"
    }
   ],
   "source": [
    "pred = prophet_model.predict(future_dataset)\n",
    "pred[['ds','yhat', 'yhat_lower', 'yhat_upper']].head() # only useful columns"
   ]
  },
  {
   "cell_type": "code",
   "execution_count": 11,
   "metadata": {
    "execution": {
     "iopub.execute_input": "2023-01-19T22:12:26.620887Z",
     "iopub.status.busy": "2023-01-19T22:12:26.619892Z",
     "iopub.status.idle": "2023-01-19T22:12:27.054953Z",
     "shell.execute_reply": "2023-01-19T22:12:27.053950Z"
    }
   },
   "outputs": [
    {
     "data": {
      "image/png": "[encoded data removed]",
      "text/plain": [
       "<Figure size 1000x600 with 1 Axes>"
      ]
     },
     "execution_count": 11,
     "metadata": {},
     "output_type": "execute_result"
    },
    {
     "data": {
      "image/png": "[encoded data removed]",
      "text/plain": [
       "<Figure size 1000x600 with 1 Axes>"
      ]
     },
     "metadata": {},
     "output_type": "display_data"
    }
   ],
   "source": [
    "prophet_model.plot(pred)"
   ]
  },
  {
   "cell_type": "code",
   "execution_count": 12,
   "metadata": {
    "execution": {
     "iopub.execute_input": "2023-01-19T22:12:27.057945Z",
     "iopub.status.busy": "2023-01-19T22:12:27.057945Z",
     "iopub.status.idle": "2023-01-19T22:12:27.070553Z",
     "shell.execute_reply": "2023-01-19T22:12:27.069658Z"
    }
   },
   "outputs": [],
   "source": [
    "def fb_prophet_function(data, future_years, seasonality_name, seasonality_val,seasonality_fourier, **params):\n",
    "    \"\"\"\n",
    "    Trains a fb prophet model on given hyperparameters and custom\n",
    "    seasonality, predicts on future dataset, plot the results and\n",
    "    return the model.\n",
    "    \"\"\"\n",
    "    start= time.time()\n",
    "    prophet_model = Prophet(**params)\n",
    "    \n",
    "    prophet_model.add_seasonality(name=seasonality_name, period=seasonality_val, fourier_order=seasonality_fourier)\n",
    "        \n",
    "    prophet_model.fit(data)\n",
    "    \n",
    "    future_dataset = prophet_model.make_future_dataframe(periods=future_years, freq='y')\n",
    "    \n",
    "    pred = prophet_model.predict(future_dataset)\n",
    "    \n",
    "    prophet_model.plot(pred, figsize=(15,7));\n",
    "    plt.ylim(-500, 3000)\n",
    "    plt.title(f\"fourier order{seasonality_fourier}, seasonality time {seasonality_name}\")\n",
    "    plt.show()\n",
    "    \n",
    "    end = time.time()\n",
    "    print(f\"Total Execution Time {end-start} seconds\")\n",
    "    return prophet_model"
   ]
  },
  {
   "cell_type": "code",
   "execution_count": 13,
   "metadata": {
    "execution": {
     "iopub.execute_input": "2023-01-19T22:12:27.073542Z",
     "iopub.status.busy": "2023-01-19T22:12:27.073542Z",
     "iopub.status.idle": "2023-01-19T22:12:27.086913Z",
     "shell.execute_reply": "2023-01-19T22:12:27.085911Z"
    }
   },
   "outputs": [],
   "source": [
    "def plot_valid(validation_set, size, model):\n",
    "    pred = model.predict(validation_set)\n",
    "    temp = df[-size:].copy().reset_index()\n",
    "    temp['pred']=pred['yhat']\n",
    "    temp.set_index('ds')[['y', 'pred']].plot()\n",
    "    plt.tight_layout();"
   ]
  },
  {
   "cell_type": "code",
   "execution_count": 14,
   "metadata": {
    "execution": {
     "iopub.execute_input": "2023-01-19T22:12:27.089906Z",
     "iopub.status.busy": "2023-01-19T22:12:27.089906Z",
     "iopub.status.idle": "2023-01-19T22:13:08.311438Z",
     "shell.execute_reply": "2023-01-19T22:13:08.310365Z"
    }
   },
   "outputs": [
    {
     "name": "stderr",
     "output_type": "stream",
     "text": [
      "16:58:59 - cmdstanpy - INFO - Chain [1] start processing\n",
      "17:00:41 - cmdstanpy - INFO - Chain [1] done processing\n"
     ]
    },
    {
     "data": {
      "image/png": "[encoded data removed]",
      "text/plain": [
       "<Figure size 1500x700 with 1 Axes>"
      ]
     },
     "metadata": {},
     "output_type": "display_data"
    },
    {
     "name": "stdout",
     "output_type": "stream",
     "text": [
      "Total Execution Time 109.38705229759216 seconds\n"
     ]
    }
   ],
   "source": [
    "import time\n",
    "\n",
    "training_set = df\n",
    "validation_set = df \n",
    "\n",
    "ten_years = fb_prophet_function(data=training_set, future_years=10, seasonality_name='10_years', seasonality_val=365*10, seasonality_fourier=600,seasonality_mode='additive')"
   ]
  },
  {
   "cell_type": "code",
   "execution_count": 15,
   "metadata": {
    "execution": {
     "iopub.execute_input": "2023-01-19T22:13:08.316491Z",
     "iopub.status.busy": "2023-01-19T22:13:08.316491Z",
     "iopub.status.idle": "2023-01-19T22:13:09.376333Z",
     "shell.execute_reply": "2023-01-19T22:13:09.375193Z"
    }
   },
   "outputs": [
    {
     "data": {
      "image/png": "[encoded data removed]",
      "text/plain": [
       "<Figure size 640x480 with 1 Axes>"
      ]
     },
     "metadata": {},
     "output_type": "display_data"
    }
   ],
   "source": [
    "plot_valid(validation_set, 1000, ten_years)"
   ]
  },
  {
   "cell_type": "code",
   "execution_count": 16,
   "metadata": {
    "execution": {
     "iopub.execute_input": "2023-01-19T22:13:09.379363Z",
     "iopub.status.busy": "2023-01-19T22:13:09.379363Z",
     "iopub.status.idle": "2023-01-19T22:13:09.391836Z",
     "shell.execute_reply": "2023-01-19T22:13:09.390833Z"
    }
   },
   "outputs": [
    {
     "data": {
      "text/html": [
       "<div>\n",
       "<style scoped>\n",
       "    .dataframe tbody tr th:only-of-type {\n",
       "        vertical-align: middle;\n",
       "    }\n",
       "\n",
       "    .dataframe tbody tr th {\n",
       "        vertical-align: top;\n",
       "    }\n",
       "\n",
       "    .dataframe thead th {\n",
       "        text-align: right;\n",
       "    }\n",
       "</style>\n",
       "<table border=\"1\" class=\"dataframe\">\n",
       "  <thead>\n",
       "    <tr style=\"text-align: right;\">\n",
       "      <th></th>\n",
       "      <th>ds</th>\n",
       "      <th>yhat</th>\n",
       "    </tr>\n",
       "  </thead>\n",
       "  <tbody>\n",
       "    <tr>\n",
       "      <th>0</th>\n",
       "      <td>2018-01-02</td>\n",
       "      <td>28.122241</td>\n",
       "    </tr>\n",
       "    <tr>\n",
       "      <th>1</th>\n",
       "      <td>2018-01-03</td>\n",
       "      <td>29.139253</td>\n",
       "    </tr>\n",
       "    <tr>\n",
       "      <th>2</th>\n",
       "      <td>2018-01-04</td>\n",
       "      <td>29.376075</td>\n",
       "    </tr>\n",
       "    <tr>\n",
       "      <th>3</th>\n",
       "      <td>2018-01-05</td>\n",
       "      <td>29.490252</td>\n",
       "    </tr>\n",
       "    <tr>\n",
       "      <th>4</th>\n",
       "      <td>2018-01-08</td>\n",
       "      <td>29.485410</td>\n",
       "    </tr>\n",
       "    <tr>\n",
       "      <th>...</th>\n",
       "      <td>...</td>\n",
       "      <td>...</td>\n",
       "    </tr>\n",
       "    <tr>\n",
       "      <th>1233</th>\n",
       "      <td>2023-01-23</td>\n",
       "      <td>341.914082</td>\n",
       "    </tr>\n",
       "    <tr>\n",
       "      <th>1234</th>\n",
       "      <td>2023-01-24</td>\n",
       "      <td>342.175989</td>\n",
       "    </tr>\n",
       "    <tr>\n",
       "      <th>1235</th>\n",
       "      <td>2023-01-25</td>\n",
       "      <td>342.684680</td>\n",
       "    </tr>\n",
       "    <tr>\n",
       "      <th>1236</th>\n",
       "      <td>2023-01-26</td>\n",
       "      <td>342.453040</td>\n",
       "    </tr>\n",
       "    <tr>\n",
       "      <th>1237</th>\n",
       "      <td>2023-12-31</td>\n",
       "      <td>475.909747</td>\n",
       "    </tr>\n",
       "  </tbody>\n",
       "</table>\n",
       "<p>1238 rows × 2 columns</p>\n",
       "</div>"
      ],
      "text/plain": [
       "             ds        yhat\n",
       "0    2018-01-02   28.122241\n",
       "1    2018-01-03   29.139253\n",
       "2    2018-01-04   29.376075\n",
       "3    2018-01-05   29.490252\n",
       "4    2018-01-08   29.485410\n",
       "...         ...         ...\n",
       "1233 2023-01-23  341.914082\n",
       "1234 2023-01-24  342.175989\n",
       "1235 2023-01-25  342.684680\n",
       "1236 2023-01-26  342.453040\n",
       "1237 2023-12-31  475.909747\n",
       "\n",
       "[1238 rows x 2 columns]"
      ]
     },
     "execution_count": 16,
     "metadata": {},
     "output_type": "execute_result"
    }
   ],
   "source": [
    "pred = pred[['ds', 'yhat']]\n",
    "\n",
    "pred"
   ]
  },
  {
   "cell_type": "code",
   "execution_count": 17,
   "metadata": {
    "execution": {
     "iopub.execute_input": "2023-01-19T22:13:09.397859Z",
     "iopub.status.busy": "2023-01-19T22:13:09.396865Z",
     "iopub.status.idle": "2023-01-19T22:13:09.424760Z",
     "shell.execute_reply": "2023-01-19T22:13:09.422952Z"
    }
   },
   "outputs": [
    {
     "data": {
      "text/html": [
       "<div>\n",
       "<style scoped>\n",
       "    .dataframe tbody tr th:only-of-type {\n",
       "        vertical-align: middle;\n",
       "    }\n",
       "\n",
       "    .dataframe tbody tr th {\n",
       "        vertical-align: top;\n",
       "    }\n",
       "\n",
       "    .dataframe thead th {\n",
       "        text-align: right;\n",
       "    }\n",
       "</style>\n",
       "<table border=\"1\" class=\"dataframe\">\n",
       "  <thead>\n",
       "    <tr style=\"text-align: right;\">\n",
       "      <th></th>\n",
       "      <th>ds</th>\n",
       "      <th>y</th>\n",
       "    </tr>\n",
       "  </thead>\n",
       "  <tbody>\n",
       "    <tr>\n",
       "      <th>1270</th>\n",
       "      <td>2018-01-02</td>\n",
       "      <td>19.25</td>\n",
       "    </tr>\n",
       "    <tr>\n",
       "      <th>1269</th>\n",
       "      <td>2018-01-03</td>\n",
       "      <td>19.29</td>\n",
       "    </tr>\n",
       "    <tr>\n",
       "      <th>1268</th>\n",
       "      <td>2018-01-04</td>\n",
       "      <td>19.41</td>\n",
       "    </tr>\n",
       "    <tr>\n",
       "      <th>1267</th>\n",
       "      <td>2018-01-05</td>\n",
       "      <td>19.45</td>\n",
       "    </tr>\n",
       "    <tr>\n",
       "      <th>1266</th>\n",
       "      <td>2018-01-08</td>\n",
       "      <td>19.58</td>\n",
       "    </tr>\n",
       "    <tr>\n",
       "      <th>...</th>\n",
       "      <td>...</td>\n",
       "      <td>...</td>\n",
       "    </tr>\n",
       "    <tr>\n",
       "      <th>4</th>\n",
       "      <td>2023-01-20</td>\n",
       "      <td>374.00</td>\n",
       "    </tr>\n",
       "    <tr>\n",
       "      <th>3</th>\n",
       "      <td>2023-01-23</td>\n",
       "      <td>376.00</td>\n",
       "    </tr>\n",
       "    <tr>\n",
       "      <th>2</th>\n",
       "      <td>2023-01-24</td>\n",
       "      <td>376.00</td>\n",
       "    </tr>\n",
       "    <tr>\n",
       "      <th>1</th>\n",
       "      <td>2023-01-25</td>\n",
       "      <td>381.00</td>\n",
       "    </tr>\n",
       "    <tr>\n",
       "      <th>0</th>\n",
       "      <td>2023-01-26</td>\n",
       "      <td>383.00</td>\n",
       "    </tr>\n",
       "  </tbody>\n",
       "</table>\n",
       "<p>1271 rows × 2 columns</p>\n",
       "</div>"
      ],
      "text/plain": [
       "             ds       y\n",
       "1270 2018-01-02   19.25\n",
       "1269 2018-01-03   19.29\n",
       "1268 2018-01-04   19.41\n",
       "1267 2018-01-05   19.45\n",
       "1266 2018-01-08   19.58\n",
       "...         ...     ...\n",
       "4    2023-01-20  374.00\n",
       "3    2023-01-23  376.00\n",
       "2    2023-01-24  376.00\n",
       "1    2023-01-25  381.00\n",
       "0    2023-01-26  383.00\n",
       "\n",
       "[1271 rows x 2 columns]"
      ]
     },
     "execution_count": 17,
     "metadata": {},
     "output_type": "execute_result"
    }
   ],
   "source": [
    "validation_set = validation_set[['ds', 'y']]\n",
    "\n",
    "validation_set"
   ]
  },
  {
   "cell_type": "code",
   "execution_count": 18,
   "metadata": {
    "execution": {
     "iopub.execute_input": "2023-01-19T22:13:09.431770Z",
     "iopub.status.busy": "2023-01-19T22:13:09.430794Z",
     "iopub.status.idle": "2023-01-19T22:13:09.471229Z",
     "shell.execute_reply": "2023-01-19T22:13:09.470226Z"
    }
   },
   "outputs": [
    {
     "data": {
      "text/html": [
       "<div>\n",
       "<style scoped>\n",
       "    .dataframe tbody tr th:only-of-type {\n",
       "        vertical-align: middle;\n",
       "    }\n",
       "\n",
       "    .dataframe tbody tr th {\n",
       "        vertical-align: top;\n",
       "    }\n",
       "\n",
       "    .dataframe thead th {\n",
       "        text-align: right;\n",
       "    }\n",
       "</style>\n",
       "<table border=\"1\" class=\"dataframe\">\n",
       "  <thead>\n",
       "    <tr style=\"text-align: right;\">\n",
       "      <th></th>\n",
       "      <th>ds</th>\n",
       "      <th>yhat</th>\n",
       "    </tr>\n",
       "  </thead>\n",
       "  <tbody>\n",
       "    <tr>\n",
       "      <th>0</th>\n",
       "      <td>2018-01-02</td>\n",
       "      <td>28.122241</td>\n",
       "    </tr>\n",
       "    <tr>\n",
       "      <th>1</th>\n",
       "      <td>2018-01-03</td>\n",
       "      <td>29.139253</td>\n",
       "    </tr>\n",
       "    <tr>\n",
       "      <th>2</th>\n",
       "      <td>2018-01-04</td>\n",
       "      <td>29.376075</td>\n",
       "    </tr>\n",
       "    <tr>\n",
       "      <th>3</th>\n",
       "      <td>2018-01-05</td>\n",
       "      <td>29.490252</td>\n",
       "    </tr>\n",
       "    <tr>\n",
       "      <th>4</th>\n",
       "      <td>2018-01-08</td>\n",
       "      <td>29.485410</td>\n",
       "    </tr>\n",
       "    <tr>\n",
       "      <th>...</th>\n",
       "      <td>...</td>\n",
       "      <td>...</td>\n",
       "    </tr>\n",
       "    <tr>\n",
       "      <th>1232</th>\n",
       "      <td>2023-01-20</td>\n",
       "      <td>342.798039</td>\n",
       "    </tr>\n",
       "    <tr>\n",
       "      <th>1233</th>\n",
       "      <td>2023-01-23</td>\n",
       "      <td>341.914082</td>\n",
       "    </tr>\n",
       "    <tr>\n",
       "      <th>1234</th>\n",
       "      <td>2023-01-24</td>\n",
       "      <td>342.175989</td>\n",
       "    </tr>\n",
       "    <tr>\n",
       "      <th>1235</th>\n",
       "      <td>2023-01-25</td>\n",
       "      <td>342.684680</td>\n",
       "    </tr>\n",
       "    <tr>\n",
       "      <th>1236</th>\n",
       "      <td>2023-01-26</td>\n",
       "      <td>342.453040</td>\n",
       "    </tr>\n",
       "  </tbody>\n",
       "</table>\n",
       "<p>1237 rows × 2 columns</p>\n",
       "</div>"
      ],
      "text/plain": [
       "             ds        yhat\n",
       "0    2018-01-02   28.122241\n",
       "1    2018-01-03   29.139253\n",
       "2    2018-01-04   29.376075\n",
       "3    2018-01-05   29.490252\n",
       "4    2018-01-08   29.485410\n",
       "...         ...         ...\n",
       "1232 2023-01-20  342.798039\n",
       "1233 2023-01-23  341.914082\n",
       "1234 2023-01-24  342.175989\n",
       "1235 2023-01-25  342.684680\n",
       "1236 2023-01-26  342.453040\n",
       "\n",
       "[1237 rows x 2 columns]"
      ]
     },
     "execution_count": 18,
     "metadata": {},
     "output_type": "execute_result"
    }
   ],
   "source": [
    "pred = pred[pred['ds'].isin(validation_set['ds'])]\n",
    "\n",
    "pred"
   ]
  },
  {
   "cell_type": "code",
   "execution_count": 19,
   "metadata": {
    "execution": {
     "iopub.execute_input": "2023-01-19T22:13:09.476247Z",
     "iopub.status.busy": "2023-01-19T22:13:09.475220Z",
     "iopub.status.idle": "2023-01-19T22:13:09.503898Z",
     "shell.execute_reply": "2023-01-19T22:13:09.502340Z"
    }
   },
   "outputs": [],
   "source": [
    "merged1 = pd.merge(pred, validation_set, on='ds', how='inner')\n",
    "\n",
    "validation_ds_y = merged1[['ds', 'y']]\n",
    "pred_ds_yhat = merged1[['ds', 'yhat']]\n"
   ]
  },
  {
   "cell_type": "code",
   "execution_count": 20,
   "metadata": {
    "execution": {
     "iopub.execute_input": "2023-01-19T22:13:09.507928Z",
     "iopub.status.busy": "2023-01-19T22:13:09.507928Z",
     "iopub.status.idle": "2023-01-19T22:13:09.536828Z",
     "shell.execute_reply": "2023-01-19T22:13:09.535825Z"
    }
   },
   "outputs": [
    {
     "name": "stderr",
     "output_type": "stream",
     "text": [
      "C:\\Users\\rodri\\AppData\\Local\\Temp\\ipykernel_16120\\2616818827.py:1: SettingWithCopyWarning: \n",
      "A value is trying to be set on a copy of a slice from a DataFrame.\n",
      "Try using .loc[row_indexer,col_indexer] = value instead\n",
      "\n",
      "See the caveats in the documentation: https://pandas.pydata.org/pandas-docs/stable/user_guide/indexing.html#returning-a-view-versus-a-copy\n",
      "  validation_ds_y['ds'] = validation_ds_y['ds'].apply(lambda x: x.timestamp())\n",
      "C:\\Users\\rodri\\AppData\\Local\\Temp\\ipykernel_16120\\2616818827.py:2: SettingWithCopyWarning: \n",
      "A value is trying to be set on a copy of a slice from a DataFrame.\n",
      "Try using .loc[row_indexer,col_indexer] = value instead\n",
      "\n",
      "See the caveats in the documentation: https://pandas.pydata.org/pandas-docs/stable/user_guide/indexing.html#returning-a-view-versus-a-copy\n",
      "  pred_ds_yhat['ds'] = pred_ds_yhat['ds'].apply(lambda x: x.timestamp())\n"
     ]
    }
   ],
   "source": [
    "validation_ds_y['ds'] = validation_ds_y['ds'].apply(lambda x: x.timestamp())\n",
    "pred_ds_yhat['ds'] = pred_ds_yhat['ds'].apply(lambda x: x.timestamp())"
   ]
  },
  {
   "cell_type": "code",
   "execution_count": 21,
   "metadata": {
    "execution": {
     "iopub.execute_input": "2023-01-19T22:13:09.541846Z",
     "iopub.status.busy": "2023-01-19T22:13:09.541846Z",
     "iopub.status.idle": "2023-01-19T22:13:09.554130Z",
     "shell.execute_reply": "2023-01-19T22:13:09.552122Z"
    }
   },
   "outputs": [
    {
     "name": "stderr",
     "output_type": "stream",
     "text": [
      "C:\\Users\\rodri\\AppData\\Local\\Temp\\ipykernel_16120\\476390056.py:1: SettingWithCopyWarning: \n",
      "A value is trying to be set on a copy of a slice from a DataFrame.\n",
      "Try using .loc[row_indexer,col_indexer] = value instead\n",
      "\n",
      "See the caveats in the documentation: https://pandas.pydata.org/pandas-docs/stable/user_guide/indexing.html#returning-a-view-versus-a-copy\n",
      "  validation_ds_y['ds'] = validation_ds_y['ds'].astype(float)\n",
      "C:\\Users\\rodri\\AppData\\Local\\Temp\\ipykernel_16120\\476390056.py:2: SettingWithCopyWarning: \n",
      "A value is trying to be set on a copy of a slice from a DataFrame.\n",
      "Try using .loc[row_indexer,col_indexer] = value instead\n",
      "\n",
      "See the caveats in the documentation: https://pandas.pydata.org/pandas-docs/stable/user_guide/indexing.html#returning-a-view-versus-a-copy\n",
      "  pred_ds_yhat['ds'] = pred_ds_yhat['ds'].astype(float)\n"
     ]
    }
   ],
   "source": [
    "validation_ds_y['ds'] = validation_ds_y['ds'].astype(float)\n",
    "pred_ds_yhat['ds'] = pred_ds_yhat['ds'].astype(float)"
   ]
  },
  {
   "cell_type": "code",
   "execution_count": 22,
   "metadata": {
    "execution": {
     "iopub.execute_input": "2023-01-19T22:13:09.559146Z",
     "iopub.status.busy": "2023-01-19T22:13:09.559146Z",
     "iopub.status.idle": "2023-01-19T22:13:10.153943Z",
     "shell.execute_reply": "2023-01-19T22:13:10.152934Z"
    }
   },
   "outputs": [
    {
     "name": "stdout",
     "output_type": "stream",
     "text": [
      "Mean Absolute Error:  3.826518946993374\n",
      "Mean Squared Error:  56.010215968476665\n",
      "Root Mean Squared Error:  7.483997325525756\n"
     ]
    }
   ],
   "source": [
    "import math\n",
    "from sklearn.metrics import mean_squared_error\n",
    "from sklearn.metrics import mean_absolute_error\n",
    "\n",
    "mae1 = mean_absolute_error(validation_ds_y, pred_ds_yhat)\n",
    "mse1 = mean_squared_error(validation_ds_y, pred_ds_yhat)\n",
    "rmse1 = math.sqrt(mean_squared_error(validation_ds_y, pred_ds_yhat))\n",
    "\n",
    "print(\"Mean Absolute Error: \", mae1)\n",
    "print(\"Mean Squared Error: \", mse1)\n",
    "print(\"Root Mean Squared Error: \", rmse1)\n"
   ]
  },
  {
   "cell_type": "code",
   "execution_count": 23,
   "metadata": {
    "execution": {
     "iopub.execute_input": "2023-01-19T22:13:10.159965Z",
     "iopub.status.busy": "2023-01-19T22:13:10.159965Z",
     "iopub.status.idle": "2023-01-19T22:13:10.187239Z",
     "shell.execute_reply": "2023-01-19T22:13:10.185232Z"
    }
   },
   "outputs": [
    {
     "data": {
      "text/html": [
       "<div>\n",
       "<style scoped>\n",
       "    .dataframe tbody tr th:only-of-type {\n",
       "        vertical-align: middle;\n",
       "    }\n",
       "\n",
       "    .dataframe tbody tr th {\n",
       "        vertical-align: top;\n",
       "    }\n",
       "\n",
       "    .dataframe thead th {\n",
       "        text-align: right;\n",
       "    }\n",
       "</style>\n",
       "<table border=\"1\" class=\"dataframe\">\n",
       "  <thead>\n",
       "    <tr style=\"text-align: right;\">\n",
       "      <th></th>\n",
       "      <th>index</th>\n",
       "      <th>ds</th>\n",
       "      <th>Compra</th>\n",
       "      <th>y</th>\n",
       "    </tr>\n",
       "  </thead>\n",
       "  <tbody>\n",
       "    <tr>\n",
       "      <th>535</th>\n",
       "      <td>535</td>\n",
       "      <td>2021-01-04</td>\n",
       "      <td>159.0</td>\n",
       "      <td>165.0</td>\n",
       "    </tr>\n",
       "    <tr>\n",
       "      <th>534</th>\n",
       "      <td>534</td>\n",
       "      <td>2021-01-05</td>\n",
       "      <td>154.0</td>\n",
       "      <td>160.0</td>\n",
       "    </tr>\n",
       "    <tr>\n",
       "      <th>533</th>\n",
       "      <td>533</td>\n",
       "      <td>2021-01-06</td>\n",
       "      <td>154.0</td>\n",
       "      <td>160.0</td>\n",
       "    </tr>\n",
       "    <tr>\n",
       "      <th>532</th>\n",
       "      <td>532</td>\n",
       "      <td>2021-01-07</td>\n",
       "      <td>156.0</td>\n",
       "      <td>162.0</td>\n",
       "    </tr>\n",
       "    <tr>\n",
       "      <th>531</th>\n",
       "      <td>531</td>\n",
       "      <td>2021-01-08</td>\n",
       "      <td>155.0</td>\n",
       "      <td>161.0</td>\n",
       "    </tr>\n",
       "    <tr>\n",
       "      <th>...</th>\n",
       "      <td>...</td>\n",
       "      <td>...</td>\n",
       "      <td>...</td>\n",
       "      <td>...</td>\n",
       "    </tr>\n",
       "    <tr>\n",
       "      <th>4</th>\n",
       "      <td>4</td>\n",
       "      <td>2023-01-20</td>\n",
       "      <td>370.0</td>\n",
       "      <td>374.0</td>\n",
       "    </tr>\n",
       "    <tr>\n",
       "      <th>3</th>\n",
       "      <td>3</td>\n",
       "      <td>2023-01-23</td>\n",
       "      <td>372.0</td>\n",
       "      <td>376.0</td>\n",
       "    </tr>\n",
       "    <tr>\n",
       "      <th>2</th>\n",
       "      <td>2</td>\n",
       "      <td>2023-01-24</td>\n",
       "      <td>372.0</td>\n",
       "      <td>376.0</td>\n",
       "    </tr>\n",
       "    <tr>\n",
       "      <th>1</th>\n",
       "      <td>1</td>\n",
       "      <td>2023-01-25</td>\n",
       "      <td>377.0</td>\n",
       "      <td>381.0</td>\n",
       "    </tr>\n",
       "    <tr>\n",
       "      <th>0</th>\n",
       "      <td>0</td>\n",
       "      <td>2023-01-26</td>\n",
       "      <td>379.0</td>\n",
       "      <td>383.0</td>\n",
       "    </tr>\n",
       "  </tbody>\n",
       "</table>\n",
       "<p>536 rows × 4 columns</p>\n",
       "</div>"
      ],
      "text/plain": [
       "     index         ds  Compra      y\n",
       "535    535 2021-01-04   159.0  165.0\n",
       "534    534 2021-01-05   154.0  160.0\n",
       "533    533 2021-01-06   154.0  160.0\n",
       "532    532 2021-01-07   156.0  162.0\n",
       "531    531 2021-01-08   155.0  161.0\n",
       "..     ...        ...     ...    ...\n",
       "4        4 2023-01-20   370.0  374.0\n",
       "3        3 2023-01-23   372.0  376.0\n",
       "2        2 2023-01-24   372.0  376.0\n",
       "1        1 2023-01-25   377.0  381.0\n",
       "0        0 2023-01-26   379.0  383.0\n",
       "\n",
       "[536 rows x 4 columns]"
      ]
     },
     "execution_count": 23,
     "metadata": {},
     "output_type": "execute_result"
    }
   ],
   "source": [
    "df = df[df['ds'] >= '2021-01-01']\n",
    "\n",
    "df"
   ]
  },
  {
   "cell_type": "code",
   "execution_count": 24,
   "metadata": {
    "execution": {
     "iopub.execute_input": "2023-01-19T22:13:10.195215Z",
     "iopub.status.busy": "2023-01-19T22:13:10.194218Z",
     "iopub.status.idle": "2023-01-19T22:13:18.957153Z",
     "shell.execute_reply": "2023-01-19T22:13:18.955632Z"
    }
   },
   "outputs": [
    {
     "name": "stderr",
     "output_type": "stream",
     "text": [
      "17:00:47 - cmdstanpy - INFO - Chain [1] start processing\n",
      "17:01:04 - cmdstanpy - INFO - Chain [1] done processing\n"
     ]
    },
    {
     "data": {
      "image/png": "[encoded data removed]",
      "text/plain": [
       "<Figure size 1500x700 with 1 Axes>"
      ]
     },
     "metadata": {},
     "output_type": "display_data"
    },
    {
     "name": "stdout",
     "output_type": "stream",
     "text": [
      "Total Execution Time 19.471239805221558 seconds\n"
     ]
    }
   ],
   "source": [
    "training_set = df\n",
    "validation_set = df\n",
    "\n",
    "five_years_model = fb_prophet_function(data=training_set, future_years=5, seasonality_name='5_years', seasonality_val=365*5, seasonality_fourier=500,seasonality_mode='additive')"
   ]
  },
  {
   "cell_type": "code",
   "execution_count": 25,
   "metadata": {
    "execution": {
     "iopub.execute_input": "2023-01-19T22:13:18.960181Z",
     "iopub.status.busy": "2023-01-19T22:13:18.959188Z",
     "iopub.status.idle": "2023-01-19T22:13:19.719788Z",
     "shell.execute_reply": "2023-01-19T22:13:19.718748Z"
    }
   },
   "outputs": [
    {
     "data": {
      "image/png": "[encoded data removed]",
      "text/plain": [
       "<Figure size 640x480 with 1 Axes>"
      ]
     },
     "metadata": {},
     "output_type": "display_data"
    }
   ],
   "source": [
    "plot_valid(validation_set, 1000, five_years_model)"
   ]
  },
  {
   "cell_type": "code",
   "execution_count": 26,
   "metadata": {},
   "outputs": [
    {
     "name": "stderr",
     "output_type": "stream",
     "text": [
      "17:01:06 - cmdstanpy - INFO - Chain [1] start processing\n",
      "17:01:06 - cmdstanpy - INFO - Chain [1] done processing\n",
      "Seasonality has period of 365.25 days which is larger than initial window. Consider increasing initial.\n"
     ]
    },
    {
     "data": {
      "application/vnd.jupyter.widget-view+json": {
       "model_id": "d3eb8013053c4d38851b666a2b8925fa",
       "version_major": 2,
       "version_minor": 0
      },
      "text/plain": [
       "  0%|          | 0/1 [00:00<?, ?it/s]"
      ]
     },
     "metadata": {},
     "output_type": "display_data"
    },
    {
     "name": "stderr",
     "output_type": "stream",
     "text": [
      "17:01:06 - cmdstanpy - INFO - Chain [1] start processing\n",
      "17:01:06 - cmdstanpy - INFO - Chain [1] done processing\n"
     ]
    },
    {
     "data": {
      "text/html": [
       "<div>\n",
       "<style scoped>\n",
       "    .dataframe tbody tr th:only-of-type {\n",
       "        vertical-align: middle;\n",
       "    }\n",
       "\n",
       "    .dataframe tbody tr th {\n",
       "        vertical-align: top;\n",
       "    }\n",
       "\n",
       "    .dataframe thead th {\n",
       "        text-align: right;\n",
       "    }\n",
       "</style>\n",
       "<table border=\"1\" class=\"dataframe\">\n",
       "  <thead>\n",
       "    <tr style=\"text-align: right;\">\n",
       "      <th></th>\n",
       "      <th>horizon</th>\n",
       "      <th>mse</th>\n",
       "      <th>rmse</th>\n",
       "      <th>mae</th>\n",
       "      <th>mape</th>\n",
       "      <th>mdape</th>\n",
       "      <th>smape</th>\n",
       "      <th>coverage</th>\n",
       "    </tr>\n",
       "  </thead>\n",
       "  <tbody>\n",
       "    <tr>\n",
       "      <th>0</th>\n",
       "      <td>37 days</td>\n",
       "      <td>192.497892</td>\n",
       "      <td>13.874361</td>\n",
       "      <td>11.868316</td>\n",
       "      <td>0.056443</td>\n",
       "      <td>0.043477</td>\n",
       "      <td>0.054342</td>\n",
       "      <td>0.0</td>\n",
       "    </tr>\n",
       "    <tr>\n",
       "      <th>1</th>\n",
       "      <td>40 days</td>\n",
       "      <td>357.879938</td>\n",
       "      <td>18.917715</td>\n",
       "      <td>16.190506</td>\n",
       "      <td>0.078244</td>\n",
       "      <td>0.070028</td>\n",
       "      <td>0.074223</td>\n",
       "      <td>0.0</td>\n",
       "    </tr>\n",
       "    <tr>\n",
       "      <th>2</th>\n",
       "      <td>41 days</td>\n",
       "      <td>398.884350</td>\n",
       "      <td>19.972089</td>\n",
       "      <td>17.327313</td>\n",
       "      <td>0.083922</td>\n",
       "      <td>0.070175</td>\n",
       "      <td>0.079436</td>\n",
       "      <td>0.0</td>\n",
       "    </tr>\n",
       "    <tr>\n",
       "      <th>3</th>\n",
       "      <td>42 days</td>\n",
       "      <td>435.816188</td>\n",
       "      <td>20.876211</td>\n",
       "      <td>18.372529</td>\n",
       "      <td>0.089081</td>\n",
       "      <td>0.079076</td>\n",
       "      <td>0.084184</td>\n",
       "      <td>0.0</td>\n",
       "    </tr>\n",
       "    <tr>\n",
       "      <th>4</th>\n",
       "      <td>43 days</td>\n",
       "      <td>476.558513</td>\n",
       "      <td>21.830220</td>\n",
       "      <td>19.389467</td>\n",
       "      <td>0.094165</td>\n",
       "      <td>0.080750</td>\n",
       "      <td>0.088809</td>\n",
       "      <td>0.0</td>\n",
       "    </tr>\n",
       "  </tbody>\n",
       "</table>\n",
       "</div>"
      ],
      "text/plain": [
       "  horizon         mse       rmse        mae      mape     mdape     smape  \\\n",
       "0 37 days  192.497892  13.874361  11.868316  0.056443  0.043477  0.054342   \n",
       "1 40 days  357.879938  18.917715  16.190506  0.078244  0.070028  0.074223   \n",
       "2 41 days  398.884350  19.972089  17.327313  0.083922  0.070175  0.079436   \n",
       "3 42 days  435.816188  20.876211  18.372529  0.089081  0.079076  0.084184   \n",
       "4 43 days  476.558513  21.830220  19.389467  0.094165  0.080750  0.088809   \n",
       "\n",
       "   coverage  \n",
       "0       0.0  \n",
       "1       0.0  \n",
       "2       0.0  \n",
       "3       0.0  \n",
       "4       0.0  "
      ]
     },
     "execution_count": 26,
     "metadata": {},
     "output_type": "execute_result"
    }
   ],
   "source": [
    "from prophet.diagnostics import cross_validation, performance_metrics\n",
    "\n",
    "model = Prophet()\n",
    "model.fit(df)\n",
    "\n",
    "df_cv = cross_validation(model, initial='360 days', period='180 days', horizon = '365 days')\n",
    "df_p = performance_metrics(df_cv, rolling_window=0.1) \n",
    " \n",
    "df_p.head()"
   ]
  },
  {
   "cell_type": "code",
   "execution_count": null,
   "metadata": {
    "execution": {
     "iopub.execute_input": "2023-01-19T22:13:19.723778Z",
     "iopub.status.busy": "2023-01-19T22:13:19.723778Z",
     "iopub.status.idle": "2023-01-19T22:13:19.750798Z",
     "shell.execute_reply": "2023-01-19T22:13:19.749671Z"
    }
   },
   "outputs": [],
   "source": [
    "from sklearn.metrics import mean_squared_error\n",
    "pred = pred[['ds', 'yhat']]\n",
    "\n",
    "pred\n",
    "validation_set = validation_set[['ds', 'y']]\n",
    "\n",
    "validation_set\n",
    "pred = pred[pred['ds'].isin(validation_set['ds'])]\n",
    "\n",
    "pred\n",
    "merged2 = pd.merge(pred, validation_set, on='ds', how='inner')\n",
    "\n",
    "validation_ds_y = merged2[['ds', 'y']]\n",
    "pred_ds_yhat = merged2[['ds', 'yhat']]\n",
    "\n",
    "validation_ds_y['ds'] = validation_ds_y['ds'].apply(lambda x: x.timestamp())\n",
    "pred_ds_yhat['ds'] = pred_ds_yhat['ds'].apply(lambda x: x.timestamp())\n",
    "validation_ds_y['ds'] = validation_ds_y['ds'].astype(float)\n",
    "pred_ds_yhat['ds'] = pred_ds_yhat['ds'].astype(float)\n",
    "import math\n",
    "\n",
    "mae2 = mean_absolute_error(validation_ds_y, pred_ds_yhat)\n",
    "mse2 = mean_squared_error(validation_ds_y, pred_ds_yhat)\n",
    "rmse2 = math.sqrt(mean_squared_error(validation_ds_y, pred_ds_yhat))\n",
    "\n",
    "print(\"Mean Absolute Error: \", mae2)\n",
    "print(\"Mean Squared Error: \", mse2)\n",
    "print(\"Root Mean Squared Error: \", rmse2)\n"
   ]
  },
  {
   "cell_type": "code",
   "execution_count": null,
   "metadata": {
    "execution": {
     "iopub.execute_input": "2023-01-19T22:13:19.755351Z",
     "iopub.status.busy": "2023-01-19T22:13:19.754320Z",
     "iopub.status.idle": "2023-01-19T22:13:19.828878Z",
     "shell.execute_reply": "2023-01-19T22:13:19.827875Z"
    }
   },
   "outputs": [],
   "source": [
    "from prophet import Prophet\n",
    "\n",
    "five_years_model = Prophet(seasonality_mode='additive', seasonality_prior_scale=1, \n",
    "                         yearly_seasonality=True, weekly_seasonality=False, \n",
    "                         daily_seasonality=False)\n"
   ]
  },
  {
   "cell_type": "code",
   "execution_count": null,
   "metadata": {
    "execution": {
     "iopub.execute_input": "2023-01-19T22:13:19.831868Z",
     "iopub.status.busy": "2023-01-19T22:13:19.831868Z",
     "iopub.status.idle": "2023-01-19T22:13:19.843931Z",
     "shell.execute_reply": "2023-01-19T22:13:19.843115Z"
    }
   },
   "outputs": [
    {
     "data": {
      "text/plain": [
       "<prophet.forecaster.Prophet at 0x2c522ed7ca0>"
      ]
     },
     "execution_count": 29,
     "metadata": {},
     "output_type": "execute_result"
    }
   ],
   "source": [
    "five_years_model.add_seasonality(name='1_years', period=365*1, fourier_order=140)"
   ]
  },
  {
   "cell_type": "code",
   "execution_count": null,
   "metadata": {
    "execution": {
     "iopub.execute_input": "2023-01-19T22:13:19.846927Z",
     "iopub.status.busy": "2023-01-19T22:13:19.846927Z",
     "iopub.status.idle": "2023-01-19T22:13:19.859797Z",
     "shell.execute_reply": "2023-01-19T22:13:19.858891Z"
    }
   },
   "outputs": [],
   "source": [
    "import datetime\n",
    "\n",
    "today = datetime.datetime.now()\n",
    "next_month = today + datetime.timedelta(days=90)\n",
    "start_date = today.strftime(\"%Y-%m-%d\")\n",
    "end_date = next_month.strftime(\"%Y-%m-%d\")\n",
    "date_range = pd.date_range(start_date, end_date)\n",
    "next_month = pd.DataFrame({\"ds\": date_range})\n"
   ]
  },
  {
   "cell_type": "code",
   "execution_count": null,
   "metadata": {
    "execution": {
     "iopub.execute_input": "2023-01-19T22:13:19.862793Z",
     "iopub.status.busy": "2023-01-19T22:13:19.862793Z",
     "iopub.status.idle": "2023-01-19T22:13:24.687294Z",
     "shell.execute_reply": "2023-01-19T22:13:24.686336Z"
    }
   },
   "outputs": [
    {
     "name": "stderr",
     "output_type": "stream",
     "text": [
      "11:14:39 - cmdstanpy - INFO - Chain [1] start processing\n",
      "11:14:49 - cmdstanpy - INFO - Chain [1] done processing\n"
     ]
    }
   ],
   "source": [
    "five_years_model.fit(training_set)\n",
    "\n",
    "prediction = five_years_model.predict(next_month)"
   ]
  },
  {
   "cell_type": "code",
   "execution_count": null,
   "metadata": {
    "execution": {
     "iopub.execute_input": "2023-01-19T22:13:24.690317Z",
     "iopub.status.busy": "2023-01-19T22:13:24.690317Z",
     "iopub.status.idle": "2023-01-19T22:13:24.703905Z",
     "shell.execute_reply": "2023-01-19T22:13:24.702948Z"
    }
   },
   "outputs": [
    {
     "data": {
      "text/html": [
       "<div>\n",
       "<style scoped>\n",
       "    .dataframe tbody tr th:only-of-type {\n",
       "        vertical-align: middle;\n",
       "    }\n",
       "\n",
       "    .dataframe tbody tr th {\n",
       "        vertical-align: top;\n",
       "    }\n",
       "\n",
       "    .dataframe thead th {\n",
       "        text-align: right;\n",
       "    }\n",
       "</style>\n",
       "<table border=\"1\" class=\"dataframe\">\n",
       "  <thead>\n",
       "    <tr style=\"text-align: right;\">\n",
       "      <th></th>\n",
       "      <th>Values</th>\n",
       "    </tr>\n",
       "  </thead>\n",
       "  <tbody>\n",
       "    <tr>\n",
       "      <th>0</th>\n",
       "      <td>382.538027</td>\n",
       "    </tr>\n",
       "    <tr>\n",
       "      <th>1</th>\n",
       "      <td>378.656947</td>\n",
       "    </tr>\n",
       "    <tr>\n",
       "      <th>2</th>\n",
       "      <td>379.424650</td>\n",
       "    </tr>\n",
       "    <tr>\n",
       "      <th>3</th>\n",
       "      <td>380.089699</td>\n",
       "    </tr>\n",
       "    <tr>\n",
       "      <th>4</th>\n",
       "      <td>378.706874</td>\n",
       "    </tr>\n",
       "    <tr>\n",
       "      <th>...</th>\n",
       "      <td>...</td>\n",
       "    </tr>\n",
       "    <tr>\n",
       "      <th>86</th>\n",
       "      <td>384.766237</td>\n",
       "    </tr>\n",
       "    <tr>\n",
       "      <th>87</th>\n",
       "      <td>384.521992</td>\n",
       "    </tr>\n",
       "    <tr>\n",
       "      <th>88</th>\n",
       "      <td>388.619913</td>\n",
       "    </tr>\n",
       "    <tr>\n",
       "      <th>89</th>\n",
       "      <td>393.227263</td>\n",
       "    </tr>\n",
       "    <tr>\n",
       "      <th>90</th>\n",
       "      <td>393.421586</td>\n",
       "    </tr>\n",
       "  </tbody>\n",
       "</table>\n",
       "<p>91 rows × 1 columns</p>\n",
       "</div>"
      ],
      "text/plain": [
       "        Values\n",
       "0   382.538027\n",
       "1   378.656947\n",
       "2   379.424650\n",
       "3   380.089699\n",
       "4   378.706874\n",
       "..         ...\n",
       "86  384.766237\n",
       "87  384.521992\n",
       "88  388.619913\n",
       "89  393.227263\n",
       "90  393.421586\n",
       "\n",
       "[91 rows x 1 columns]"
      ]
     },
     "execution_count": 32,
     "metadata": {},
     "output_type": "execute_result"
    }
   ],
   "source": [
    "values = prediction['yhat']\n",
    "\n",
    "values_new = pd.DataFrame(values)\n",
    "\n",
    "values_new = values_new.rename(columns={'yhat':'Values'})\n",
    "\n",
    "values_new"
   ]
  },
  {
   "cell_type": "code",
   "execution_count": null,
   "metadata": {
    "execution": {
     "iopub.execute_input": "2023-01-19T22:13:24.706902Z",
     "iopub.status.busy": "2023-01-19T22:13:24.706902Z",
     "iopub.status.idle": "2023-01-19T22:13:24.720638Z",
     "shell.execute_reply": "2023-01-19T22:13:24.719360Z"
    }
   },
   "outputs": [
    {
     "data": {
      "text/html": [
       "<div>\n",
       "<style scoped>\n",
       "    .dataframe tbody tr th:only-of-type {\n",
       "        vertical-align: middle;\n",
       "    }\n",
       "\n",
       "    .dataframe tbody tr th {\n",
       "        vertical-align: top;\n",
       "    }\n",
       "\n",
       "    .dataframe thead th {\n",
       "        text-align: right;\n",
       "    }\n",
       "</style>\n",
       "<table border=\"1\" class=\"dataframe\">\n",
       "  <thead>\n",
       "    <tr style=\"text-align: right;\">\n",
       "      <th></th>\n",
       "      <th>Values</th>\n",
       "    </tr>\n",
       "  </thead>\n",
       "  <tbody>\n",
       "    <tr>\n",
       "      <th>2023-01-28</th>\n",
       "      <td>382.538027</td>\n",
       "    </tr>\n",
       "    <tr>\n",
       "      <th>2023-01-29</th>\n",
       "      <td>378.656947</td>\n",
       "    </tr>\n",
       "    <tr>\n",
       "      <th>2023-01-30</th>\n",
       "      <td>379.424650</td>\n",
       "    </tr>\n",
       "    <tr>\n",
       "      <th>2023-01-31</th>\n",
       "      <td>380.089699</td>\n",
       "    </tr>\n",
       "    <tr>\n",
       "      <th>2023-02-01</th>\n",
       "      <td>378.706874</td>\n",
       "    </tr>\n",
       "    <tr>\n",
       "      <th>...</th>\n",
       "      <td>...</td>\n",
       "    </tr>\n",
       "    <tr>\n",
       "      <th>2023-04-24</th>\n",
       "      <td>384.766237</td>\n",
       "    </tr>\n",
       "    <tr>\n",
       "      <th>2023-04-25</th>\n",
       "      <td>384.521992</td>\n",
       "    </tr>\n",
       "    <tr>\n",
       "      <th>2023-04-26</th>\n",
       "      <td>388.619913</td>\n",
       "    </tr>\n",
       "    <tr>\n",
       "      <th>2023-04-27</th>\n",
       "      <td>393.227263</td>\n",
       "    </tr>\n",
       "    <tr>\n",
       "      <th>2023-04-28</th>\n",
       "      <td>393.421586</td>\n",
       "    </tr>\n",
       "  </tbody>\n",
       "</table>\n",
       "<p>91 rows × 1 columns</p>\n",
       "</div>"
      ],
      "text/plain": [
       "                Values\n",
       "2023-01-28  382.538027\n",
       "2023-01-29  378.656947\n",
       "2023-01-30  379.424650\n",
       "2023-01-31  380.089699\n",
       "2023-02-01  378.706874\n",
       "...                ...\n",
       "2023-04-24  384.766237\n",
       "2023-04-25  384.521992\n",
       "2023-04-26  388.619913\n",
       "2023-04-27  393.227263\n",
       "2023-04-28  393.421586\n",
       "\n",
       "[91 rows x 1 columns]"
      ]
     },
     "execution_count": 33,
     "metadata": {},
     "output_type": "execute_result"
    }
   ],
   "source": [
    "# import the datetime library\n",
    "import datetime\n",
    "\n",
    "# define the start date (today + 1) and the number of days in the range\n",
    "start_date = datetime.datetime.today() + datetime.timedelta(days=1)\n",
    "num_days = len(values_new.index)\n",
    "\n",
    "# create the date range\n",
    "date_range = [start_date.date() + datetime.timedelta(days=i) for i in range(num_days)]\n",
    "\n",
    "# set the index of the dataframe to the date range\n",
    "values_new.index = date_range\n",
    "\n",
    "values_new\n"
   ]
  },
  {
   "cell_type": "code",
   "execution_count": null,
   "metadata": {
    "execution": {
     "iopub.execute_input": "2023-01-19T22:13:24.723634Z",
     "iopub.status.busy": "2023-01-19T22:13:24.723634Z",
     "iopub.status.idle": "2023-01-19T22:13:24.820142Z",
     "shell.execute_reply": "2023-01-19T22:13:24.819140Z"
    }
   },
   "outputs": [],
   "source": [
    "values_new.to_excel(\"data/xlsx/values_newBlue.xlsx\")"
   ]
  },
  {
   "cell_type": "code",
   "execution_count": null,
   "metadata": {
    "execution": {
     "iopub.execute_input": "2023-01-19T22:13:24.823135Z",
     "iopub.status.busy": "2023-01-19T22:13:24.823135Z",
     "iopub.status.idle": "2023-01-19T22:13:25.088469Z",
     "shell.execute_reply": "2023-01-19T22:13:25.088469Z"
    }
   },
   "outputs": [
    {
     "data": {
      "image/png": "[encoded data removed]",
      "text/plain": [
       "<Figure size 640x480 with 1 Axes>"
      ]
     },
     "metadata": {},
     "output_type": "display_data"
    }
   ],
   "source": [
    "x = values_new.index\n",
    "y = values_new['Values']\n",
    "for i in range(1, len(values_new)):\n",
    "    if y[i] > y[i-1]:\n",
    "        color = 'g'\n",
    "    else:\n",
    "        color = 'r'\n",
    "    plt.plot(x[i-1:i+1], y[i-1:i+1], color=color)\n",
    "plt.xlabel(\"Dates\")\n",
    "plt.ylabel(\"Values\")\n",
    "plt.title(\"Prediction Plot\")\n",
    "plt.grid()\n",
    "plt.gcf().autofmt_xdate()\n",
    "plt.show()\n"
   ]
  },
  {
   "cell_type": "code",
   "execution_count": null,
   "metadata": {
    "execution": {
     "iopub.execute_input": "2023-01-19T22:13:25.091432Z",
     "iopub.status.busy": "2023-01-19T22:13:25.091432Z",
     "iopub.status.idle": "2023-01-19T22:13:25.941143Z",
     "shell.execute_reply": "2023-01-19T22:13:25.941143Z"
    }
   },
   "outputs": [
    {
     "data": {
      "application/vnd.plotly.v1+json": {
       "config": {
        "linkText": "Export to plot.ly",
        "plotlyServerURL": "https://plot.ly",
        "showLink": false
       },
       "data": [
        {
         "line": {
          "color": "red",
          "width": 1
         },
         "mode": "lines",
         "showlegend": false,
         "type": "scatter",
         "x": [
          "2023-01-28",
          "2023-01-29"
         ],
         "y": [
          382.538027482537,
          378.65694674932246
         ]
        },
        {
         "line": {
          "color": "green",
          "width": 1
         },
         "mode": "lines",
         "showlegend": false,
         "type": "scatter",
         "x": [
          "2023-01-29",
          "2023-01-30"
         ],
         "y": [
          378.65694674932246,
          379.42464999321567
         ]
        },
        {
         "line": {
          "color": "green",
          "width": 1
         },
         "mode": "lines",
         "showlegend": false,
         "type": "scatter",
         "x": [
          "2023-01-30",
          "2023-01-31"
         ],
         "y": [
          379.42464999321567,
          380.08969868943404
         ]
        },
        {
         "line": {
          "color": "red",
          "width": 1
         },
         "mode": "lines",
         "showlegend": false,
         "type": "scatter",
         "x": [
          "2023-01-31",
          "2023-02-01"
         ],
         "y": [
          380.08969868943404,
          378.7068744988066
         ]
        },
        {
         "line": {
          "color": "green",
          "width": 1
         },
         "mode": "lines",
         "showlegend": false,
         "type": "scatter",
         "x": [
          "2023-02-01",
          "2023-02-02"
         ],
         "y": [
          378.7068744988066,
          380.4475242552085
         ]
        },
        {
         "line": {
          "color": "green",
          "width": 1
         },
         "mode": "lines",
         "showlegend": false,
         "type": "scatter",
         "x": [
          "2023-02-02",
          "2023-02-03"
         ],
         "y": [
          380.4475242552085,
          382.54535914226744
         ]
        },
        {
         "line": {
          "color": "red",
          "width": 1
         },
         "mode": "lines",
         "showlegend": false,
         "type": "scatter",
         "x": [
          "2023-02-03",
          "2023-02-04"
         ],
         "y": [
          382.54535914226744,
          382.2269841934431
         ]
        },
        {
         "line": {
          "color": "red",
          "width": 1
         },
         "mode": "lines",
         "showlegend": false,
         "type": "scatter",
         "x": [
          "2023-02-04",
          "2023-02-05"
         ],
         "y": [
          382.2269841934431,
          380.5569859073366
         ]
        },
        {
         "line": {
          "color": "green",
          "width": 1
         },
         "mode": "lines",
         "showlegend": false,
         "type": "scatter",
         "x": [
          "2023-02-05",
          "2023-02-06"
         ],
         "y": [
          380.5569859073366,
          381.21534427150465
         ]
        },
        {
         "line": {
          "color": "green",
          "width": 1
         },
         "mode": "lines",
         "showlegend": false,
         "type": "scatter",
         "x": [
          "2023-02-06",
          "2023-02-07"
         ],
         "y": [
          381.21534427150465,
          382.9502225932828
         ]
        },
        {
         "line": {
          "color": "red",
          "width": 1
         },
         "mode": "lines",
         "showlegend": false,
         "type": "scatter",
         "x": [
          "2023-02-07",
          "2023-02-08"
         ],
         "y": [
          382.9502225932828,
          381.8097724131298
         ]
        },
        {
         "line": {
          "color": "green",
          "width": 1
         },
         "mode": "lines",
         "showlegend": false,
         "type": "scatter",
         "x": [
          "2023-02-08",
          "2023-02-09"
         ],
         "y": [
          381.8097724131298,
          382.7294466059858
         ]
        },
        {
         "line": {
          "color": "green",
          "width": 1
         },
         "mode": "lines",
         "showlegend": false,
         "type": "scatter",
         "x": [
          "2023-02-09",
          "2023-02-10"
         ],
         "y": [
          382.7294466059858,
          384.8481965498246
         ]
        },
        {
         "line": {
          "color": "red",
          "width": 1
         },
         "mode": "lines",
         "showlegend": false,
         "type": "scatter",
         "x": [
          "2023-02-10",
          "2023-02-11"
         ],
         "y": [
          384.8481965498246,
          383.59226017064134
         ]
        },
        {
         "line": {
          "color": "red",
          "width": 1
         },
         "mode": "lines",
         "showlegend": false,
         "type": "scatter",
         "x": [
          "2023-02-11",
          "2023-02-12"
         ],
         "y": [
          383.59226017064134,
          383.15523279752347
         ]
        },
        {
         "line": {
          "color": "green",
          "width": 1
         },
         "mode": "lines",
         "showlegend": false,
         "type": "scatter",
         "x": [
          "2023-02-12",
          "2023-02-13"
         ],
         "y": [
          383.15523279752347,
          383.2787771347878
         ]
        },
        {
         "line": {
          "color": "red",
          "width": 1
         },
         "mode": "lines",
         "showlegend": false,
         "type": "scatter",
         "x": [
          "2023-02-13",
          "2023-02-14"
         ],
         "y": [
          383.2787771347878,
          383.0806563178856
         ]
        },
        {
         "line": {
          "color": "green",
          "width": 1
         },
         "mode": "lines",
         "showlegend": false,
         "type": "scatter",
         "x": [
          "2023-02-14",
          "2023-02-15"
         ],
         "y": [
          383.0806563178856,
          384.3224213557585
         ]
        },
        {
         "line": {
          "color": "green",
          "width": 1
         },
         "mode": "lines",
         "showlegend": false,
         "type": "scatter",
         "x": [
          "2023-02-15",
          "2023-02-16"
         ],
         "y": [
          384.3224213557585,
          384.5800215260618
         ]
        },
        {
         "line": {
          "color": "red",
          "width": 1
         },
         "mode": "lines",
         "showlegend": false,
         "type": "scatter",
         "x": [
          "2023-02-16",
          "2023-02-17"
         ],
         "y": [
          384.5800215260618,
          384.55074592123816
         ]
        },
        {
         "line": {
          "color": "red",
          "width": 1
         },
         "mode": "lines",
         "showlegend": false,
         "type": "scatter",
         "x": [
          "2023-02-17",
          "2023-02-18"
         ],
         "y": [
          384.55074592123816,
          383.9134380892371
         ]
        },
        {
         "line": {
          "color": "red",
          "width": 1
         },
         "mode": "lines",
         "showlegend": false,
         "type": "scatter",
         "x": [
          "2023-02-18",
          "2023-02-19"
         ],
         "y": [
          383.9134380892371,
          381.8540620159107
         ]
        },
        {
         "line": {
          "color": "green",
          "width": 1
         },
         "mode": "lines",
         "showlegend": false,
         "type": "scatter",
         "x": [
          "2023-02-19",
          "2023-02-20"
         ],
         "y": [
          381.8540620159107,
          381.8982013795074
         ]
        },
        {
         "line": {
          "color": "green",
          "width": 1
         },
         "mode": "lines",
         "showlegend": false,
         "type": "scatter",
         "x": [
          "2023-02-20",
          "2023-02-21"
         ],
         "y": [
          381.8982013795074,
          382.44740271378936
         ]
        },
        {
         "line": {
          "color": "red",
          "width": 1
         },
         "mode": "lines",
         "showlegend": false,
         "type": "scatter",
         "x": [
          "2023-02-21",
          "2023-02-22"
         ],
         "y": [
          382.44740271378936,
          381.648392743399
         ]
        },
        {
         "line": {
          "color": "red",
          "width": 1
         },
         "mode": "lines",
         "showlegend": false,
         "type": "scatter",
         "x": [
          "2023-02-22",
          "2023-02-23"
         ],
         "y": [
          381.648392743399,
          380.78779977820284
         ]
        },
        {
         "line": {
          "color": "red",
          "width": 1
         },
         "mode": "lines",
         "showlegend": false,
         "type": "scatter",
         "x": [
          "2023-02-23",
          "2023-02-24"
         ],
         "y": [
          380.78779977820284,
          379.88386971900644
         ]
        },
        {
         "line": {
          "color": "red",
          "width": 1
         },
         "mode": "lines",
         "showlegend": false,
         "type": "scatter",
         "x": [
          "2023-02-24",
          "2023-02-25"
         ],
         "y": [
          379.88386971900644,
          379.6877470401829
         ]
        },
        {
         "line": {
          "color": "red",
          "width": 1
         },
         "mode": "lines",
         "showlegend": false,
         "type": "scatter",
         "x": [
          "2023-02-25",
          "2023-02-26"
         ],
         "y": [
          379.6877470401829,
          378.556128179052
         ]
        },
        {
         "line": {
          "color": "red",
          "width": 1
         },
         "mode": "lines",
         "showlegend": false,
         "type": "scatter",
         "x": [
          "2023-02-26",
          "2023-02-27"
         ],
         "y": [
          378.556128179052,
          378.47596821496944
         ]
        },
        {
         "line": {
          "color": "green",
          "width": 1
         },
         "mode": "lines",
         "showlegend": false,
         "type": "scatter",
         "x": [
          "2023-02-27",
          "2023-02-28"
         ],
         "y": [
          378.47596821496944,
          382.1338171885902
         ]
        },
        {
         "line": {
          "color": "red",
          "width": 1
         },
         "mode": "lines",
         "showlegend": false,
         "type": "scatter",
         "x": [
          "2023-02-28",
          "2023-03-01"
         ],
         "y": [
          382.1338171885902,
          381.81974705387796
         ]
        },
        {
         "line": {
          "color": "red",
          "width": 1
         },
         "mode": "lines",
         "showlegend": false,
         "type": "scatter",
         "x": [
          "2023-03-01",
          "2023-03-02"
         ],
         "y": [
          381.81974705387796,
          377.3365015123886
         ]
        },
        {
         "line": {
          "color": "red",
          "width": 1
         },
         "mode": "lines",
         "showlegend": false,
         "type": "scatter",
         "x": [
          "2023-03-02",
          "2023-03-03"
         ],
         "y": [
          377.3365015123886,
          375.94300349632994
         ]
        },
        {
         "line": {
          "color": "red",
          "width": 1
         },
         "mode": "lines",
         "showlegend": false,
         "type": "scatter",
         "x": [
          "2023-03-03",
          "2023-03-04"
         ],
         "y": [
          375.94300349632994,
          374.5386932902237
         ]
        },
        {
         "line": {
          "color": "red",
          "width": 1
         },
         "mode": "lines",
         "showlegend": false,
         "type": "scatter",
         "x": [
          "2023-03-04",
          "2023-03-05"
         ],
         "y": [
          374.5386932902237,
          372.49966918631
         ]
        },
        {
         "line": {
          "color": "green",
          "width": 1
         },
         "mode": "lines",
         "showlegend": false,
         "type": "scatter",
         "x": [
          "2023-03-05",
          "2023-03-06"
         ],
         "y": [
          372.49966918631,
          373.1885306109793
         ]
        },
        {
         "line": {
          "color": "red",
          "width": 1
         },
         "mode": "lines",
         "showlegend": false,
         "type": "scatter",
         "x": [
          "2023-03-06",
          "2023-03-07"
         ],
         "y": [
          373.1885306109793,
          372.88541536744924
         ]
        },
        {
         "line": {
          "color": "red",
          "width": 1
         },
         "mode": "lines",
         "showlegend": false,
         "type": "scatter",
         "x": [
          "2023-03-07",
          "2023-03-08"
         ],
         "y": [
          372.88541536744924,
          371.25829934309644
         ]
        },
        {
         "line": {
          "color": "green",
          "width": 1
         },
         "mode": "lines",
         "showlegend": false,
         "type": "scatter",
         "x": [
          "2023-03-08",
          "2023-03-09"
         ],
         "y": [
          371.25829934309644,
          372.30690055826176
         ]
        },
        {
         "line": {
          "color": "green",
          "width": 1
         },
         "mode": "lines",
         "showlegend": false,
         "type": "scatter",
         "x": [
          "2023-03-09",
          "2023-03-10"
         ],
         "y": [
          372.30690055826176,
          373.77474187312856
         ]
        },
        {
         "line": {
          "color": "red",
          "width": 1
         },
         "mode": "lines",
         "showlegend": false,
         "type": "scatter",
         "x": [
          "2023-03-10",
          "2023-03-11"
         ],
         "y": [
          373.77474187312856,
          372.3760105462203
         ]
        },
        {
         "line": {
          "color": "red",
          "width": 1
         },
         "mode": "lines",
         "showlegend": false,
         "type": "scatter",
         "x": [
          "2023-03-11",
          "2023-03-12"
         ],
         "y": [
          372.3760105462203,
          370.66999436787864
         ]
        },
        {
         "line": {
          "color": "red",
          "width": 1
         },
         "mode": "lines",
         "showlegend": false,
         "type": "scatter",
         "x": [
          "2023-03-12",
          "2023-03-13"
         ],
         "y": [
          370.66999436787864,
          370.4512581671265
         ]
        },
        {
         "line": {
          "color": "green",
          "width": 1
         },
         "mode": "lines",
         "showlegend": false,
         "type": "scatter",
         "x": [
          "2023-03-13",
          "2023-03-14"
         ],
         "y": [
          370.4512581671265,
          370.48813757171
         ]
        },
        {
         "line": {
          "color": "green",
          "width": 1
         },
         "mode": "lines",
         "showlegend": false,
         "type": "scatter",
         "x": [
          "2023-03-14",
          "2023-03-15"
         ],
         "y": [
          370.48813757171,
          371.7889646191259
         ]
        },
        {
         "line": {
          "color": "green",
          "width": 1
         },
         "mode": "lines",
         "showlegend": false,
         "type": "scatter",
         "x": [
          "2023-03-15",
          "2023-03-16"
         ],
         "y": [
          371.7889646191259,
          373.77748105497045
         ]
        },
        {
         "line": {
          "color": "green",
          "width": 1
         },
         "mode": "lines",
         "showlegend": false,
         "type": "scatter",
         "x": [
          "2023-03-16",
          "2023-03-17"
         ],
         "y": [
          373.77748105497045,
          374.25681184086164
         ]
        },
        {
         "line": {
          "color": "green",
          "width": 1
         },
         "mode": "lines",
         "showlegend": false,
         "type": "scatter",
         "x": [
          "2023-03-17",
          "2023-03-18"
         ],
         "y": [
          374.25681184086164,
          374.7649327869744
         ]
        },
        {
         "line": {
          "color": "green",
          "width": 1
         },
         "mode": "lines",
         "showlegend": false,
         "type": "scatter",
         "x": [
          "2023-03-18",
          "2023-03-19"
         ],
         "y": [
          374.7649327869744,
          375.5679196440227
         ]
        },
        {
         "line": {
          "color": "green",
          "width": 1
         },
         "mode": "lines",
         "showlegend": false,
         "type": "scatter",
         "x": [
          "2023-03-19",
          "2023-03-20"
         ],
         "y": [
          375.5679196440227,
          375.75708544493057
         ]
        },
        {
         "line": {
          "color": "green",
          "width": 1
         },
         "mode": "lines",
         "showlegend": false,
         "type": "scatter",
         "x": [
          "2023-03-20",
          "2023-03-21"
         ],
         "y": [
          375.75708544493057,
          376.5129075076325
         ]
        },
        {
         "line": {
          "color": "green",
          "width": 1
         },
         "mode": "lines",
         "showlegend": false,
         "type": "scatter",
         "x": [
          "2023-03-21",
          "2023-03-22"
         ],
         "y": [
          376.5129075076325,
          377.1840652840058
         ]
        },
        {
         "line": {
          "color": "red",
          "width": 1
         },
         "mode": "lines",
         "showlegend": false,
         "type": "scatter",
         "x": [
          "2023-03-22",
          "2023-03-23"
         ],
         "y": [
          377.1840652840058,
          377.16522254526495
         ]
        },
        {
         "line": {
          "color": "green",
          "width": 1
         },
         "mode": "lines",
         "showlegend": false,
         "type": "scatter",
         "x": [
          "2023-03-23",
          "2023-03-24"
         ],
         "y": [
          377.16522254526495,
          377.5180883556838
         ]
        },
        {
         "line": {
          "color": "green",
          "width": 1
         },
         "mode": "lines",
         "showlegend": false,
         "type": "scatter",
         "x": [
          "2023-03-24",
          "2023-03-25"
         ],
         "y": [
          377.5180883556838,
          378.4904554746247
         ]
        },
        {
         "line": {
          "color": "green",
          "width": 1
         },
         "mode": "lines",
         "showlegend": false,
         "type": "scatter",
         "x": [
          "2023-03-25",
          "2023-03-26"
         ],
         "y": [
          378.4904554746247,
          379.2931241851705
         ]
        },
        {
         "line": {
          "color": "red",
          "width": 1
         },
         "mode": "lines",
         "showlegend": false,
         "type": "scatter",
         "x": [
          "2023-03-26",
          "2023-03-27"
         ],
         "y": [
          379.2931241851705,
          378.75697286389976
         ]
        },
        {
         "line": {
          "color": "red",
          "width": 1
         },
         "mode": "lines",
         "showlegend": false,
         "type": "scatter",
         "x": [
          "2023-03-27",
          "2023-03-28"
         ],
         "y": [
          378.75697286389976,
          378.1818753279683
         ]
        },
        {
         "line": {
          "color": "green",
          "width": 1
         },
         "mode": "lines",
         "showlegend": false,
         "type": "scatter",
         "x": [
          "2023-03-28",
          "2023-03-29"
         ],
         "y": [
          378.1818753279683,
          378.97989705766713
         ]
        },
        {
         "line": {
          "color": "green",
          "width": 1
         },
         "mode": "lines",
         "showlegend": false,
         "type": "scatter",
         "x": [
          "2023-03-29",
          "2023-03-30"
         ],
         "y": [
          378.97989705766713,
          379.8083813105144
         ]
        },
        {
         "line": {
          "color": "green",
          "width": 1
         },
         "mode": "lines",
         "showlegend": false,
         "type": "scatter",
         "x": [
          "2023-03-30",
          "2023-03-31"
         ],
         "y": [
          379.8083813105144,
          380.20994959171327
         ]
        },
        {
         "line": {
          "color": "red",
          "width": 1
         },
         "mode": "lines",
         "showlegend": false,
         "type": "scatter",
         "x": [
          "2023-03-31",
          "2023-04-01"
         ],
         "y": [
          380.20994959171327,
          379.96589172322285
         ]
        },
        {
         "line": {
          "color": "green",
          "width": 1
         },
         "mode": "lines",
         "showlegend": false,
         "type": "scatter",
         "x": [
          "2023-04-01",
          "2023-04-02"
         ],
         "y": [
          379.96589172322285,
          380.3697582902717
         ]
        },
        {
         "line": {
          "color": "green",
          "width": 1
         },
         "mode": "lines",
         "showlegend": false,
         "type": "scatter",
         "x": [
          "2023-04-02",
          "2023-04-03"
         ],
         "y": [
          380.3697582902717,
          383.1277959564065
         ]
        },
        {
         "line": {
          "color": "green",
          "width": 1
         },
         "mode": "lines",
         "showlegend": false,
         "type": "scatter",
         "x": [
          "2023-04-03",
          "2023-04-04"
         ],
         "y": [
          383.1277959564065,
          383.5433515780433
         ]
        },
        {
         "line": {
          "color": "red",
          "width": 1
         },
         "mode": "lines",
         "showlegend": false,
         "type": "scatter",
         "x": [
          "2023-04-04",
          "2023-04-05"
         ],
         "y": [
          383.5433515780433,
          379.88179041422273
         ]
        },
        {
         "line": {
          "color": "red",
          "width": 1
         },
         "mode": "lines",
         "showlegend": false,
         "type": "scatter",
         "x": [
          "2023-04-05",
          "2023-04-06"
         ],
         "y": [
          379.88179041422273,
          377.86805569469925
         ]
        },
        {
         "line": {
          "color": "red",
          "width": 1
         },
         "mode": "lines",
         "showlegend": false,
         "type": "scatter",
         "x": [
          "2023-04-06",
          "2023-04-07"
         ],
         "y": [
          377.86805569469925,
          377.6640057708662
         ]
        },
        {
         "line": {
          "color": "red",
          "width": 1
         },
         "mode": "lines",
         "showlegend": false,
         "type": "scatter",
         "x": [
          "2023-04-07",
          "2023-04-08"
         ],
         "y": [
          377.6640057708662,
          377.07992164096675
         ]
        },
        {
         "line": {
          "color": "green",
          "width": 1
         },
         "mode": "lines",
         "showlegend": false,
         "type": "scatter",
         "x": [
          "2023-04-08",
          "2023-04-09"
         ],
         "y": [
          377.07992164096675,
          377.52376968883556
         ]
        },
        {
         "line": {
          "color": "red",
          "width": 1
         },
         "mode": "lines",
         "showlegend": false,
         "type": "scatter",
         "x": [
          "2023-04-09",
          "2023-04-10"
         ],
         "y": [
          377.52376968883556,
          377.12646199756705
         ]
        },
        {
         "line": {
          "color": "red",
          "width": 1
         },
         "mode": "lines",
         "showlegend": false,
         "type": "scatter",
         "x": [
          "2023-04-10",
          "2023-04-11"
         ],
         "y": [
          377.12646199756705,
          375.4468941933262
         ]
        },
        {
         "line": {
          "color": "green",
          "width": 1
         },
         "mode": "lines",
         "showlegend": false,
         "type": "scatter",
         "x": [
          "2023-04-11",
          "2023-04-12"
         ],
         "y": [
          375.4468941933262,
          375.8882261562936
         ]
        },
        {
         "line": {
          "color": "green",
          "width": 1
         },
         "mode": "lines",
         "showlegend": false,
         "type": "scatter",
         "x": [
          "2023-04-12",
          "2023-04-13"
         ],
         "y": [
          375.8882261562936,
          376.707503953564
         ]
        },
        {
         "line": {
          "color": "red",
          "width": 1
         },
         "mode": "lines",
         "showlegend": false,
         "type": "scatter",
         "x": [
          "2023-04-13",
          "2023-04-14"
         ],
         "y": [
          376.707503953564,
          376.4723438830835
         ]
        },
        {
         "line": {
          "color": "green",
          "width": 1
         },
         "mode": "lines",
         "showlegend": false,
         "type": "scatter",
         "x": [
          "2023-04-14",
          "2023-04-15"
         ],
         "y": [
          376.4723438830835,
          377.4514239896174
         ]
        },
        {
         "line": {
          "color": "red",
          "width": 1
         },
         "mode": "lines",
         "showlegend": false,
         "type": "scatter",
         "x": [
          "2023-04-15",
          "2023-04-16"
         ],
         "y": [
          377.4514239896174,
          377.36852756194617
         ]
        },
        {
         "line": {
          "color": "red",
          "width": 1
         },
         "mode": "lines",
         "showlegend": false,
         "type": "scatter",
         "x": [
          "2023-04-16",
          "2023-04-17"
         ],
         "y": [
          377.36852756194617,
          375.6583804566975
         ]
        },
        {
         "line": {
          "color": "red",
          "width": 1
         },
         "mode": "lines",
         "showlegend": false,
         "type": "scatter",
         "x": [
          "2023-04-17",
          "2023-04-18"
         ],
         "y": [
          375.6583804566975,
          375.5488245809315
         ]
        },
        {
         "line": {
          "color": "green",
          "width": 1
         },
         "mode": "lines",
         "showlegend": false,
         "type": "scatter",
         "x": [
          "2023-04-18",
          "2023-04-19"
         ],
         "y": [
          375.5488245809315,
          376.13767661702667
         ]
        },
        {
         "line": {
          "color": "green",
          "width": 1
         },
         "mode": "lines",
         "showlegend": false,
         "type": "scatter",
         "x": [
          "2023-04-19",
          "2023-04-20"
         ],
         "y": [
          376.13767661702667,
          377.26886762129243
         ]
        },
        {
         "line": {
          "color": "green",
          "width": 1
         },
         "mode": "lines",
         "showlegend": false,
         "type": "scatter",
         "x": [
          "2023-04-20",
          "2023-04-21"
         ],
         "y": [
          377.26886762129243,
          378.7525288306272
         ]
        },
        {
         "line": {
          "color": "green",
          "width": 1
         },
         "mode": "lines",
         "showlegend": false,
         "type": "scatter",
         "x": [
          "2023-04-21",
          "2023-04-22"
         ],
         "y": [
          378.7525288306272,
          379.71913611737295
         ]
        },
        {
         "line": {
          "color": "green",
          "width": 1
         },
         "mode": "lines",
         "showlegend": false,
         "type": "scatter",
         "x": [
          "2023-04-22",
          "2023-04-23"
         ],
         "y": [
          379.71913611737295,
          382.78254122680755
         ]
        },
        {
         "line": {
          "color": "green",
          "width": 1
         },
         "mode": "lines",
         "showlegend": false,
         "type": "scatter",
         "x": [
          "2023-04-23",
          "2023-04-24"
         ],
         "y": [
          382.78254122680755,
          384.7662374760432
         ]
        },
        {
         "line": {
          "color": "red",
          "width": 1
         },
         "mode": "lines",
         "showlegend": false,
         "type": "scatter",
         "x": [
          "2023-04-24",
          "2023-04-25"
         ],
         "y": [
          384.7662374760432,
          384.52199173192497
         ]
        },
        {
         "line": {
          "color": "green",
          "width": 1
         },
         "mode": "lines",
         "showlegend": false,
         "type": "scatter",
         "x": [
          "2023-04-25",
          "2023-04-26"
         ],
         "y": [
          384.52199173192497,
          388.61991287648596
         ]
        },
        {
         "line": {
          "color": "green",
          "width": 1
         },
         "mode": "lines",
         "showlegend": false,
         "type": "scatter",
         "x": [
          "2023-04-26",
          "2023-04-27"
         ],
         "y": [
          388.61991287648596,
          393.22726292893964
         ]
        },
        {
         "line": {
          "color": "green",
          "width": 1
         },
         "mode": "lines",
         "showlegend": false,
         "type": "scatter",
         "x": [
          "2023-04-27",
          "2023-04-28"
         ],
         "y": [
          393.22726292893964,
          393.42158581866084
         ]
        }
       ],
       "layout": {
        "template": {
         "data": {
          "bar": [
           {
            "error_x": {
             "color": "#2a3f5f"
            },
            "error_y": {
             "color": "#2a3f5f"
            },
            "marker": {
             "line": {
              "color": "#E5ECF6",
              "width": 0.5
             },
             "pattern": {
              "fillmode": "overlay",
              "size": 10,
              "solidity": 0.2
             }
            },
            "type": "bar"
           }
          ],
          "barpolar": [
           {
            "marker": {
             "line": {
              "color": "#E5ECF6",
              "width": 0.5
             },
             "pattern": {
              "fillmode": "overlay",
              "size": 10,
              "solidity": 0.2
             }
            },
            "type": "barpolar"
           }
          ],
          "carpet": [
           {
            "aaxis": {
             "endlinecolor": "#2a3f5f",
             "gridcolor": "white",
             "linecolor": "white",
             "minorgridcolor": "white",
             "startlinecolor": "#2a3f5f"
            },
            "baxis": {
             "endlinecolor": "#2a3f5f",
             "gridcolor": "white",
             "linecolor": "white",
             "minorgridcolor": "white",
             "startlinecolor": "#2a3f5f"
            },
            "type": "carpet"
           }
          ],
          "choropleth": [
           {
            "colorbar": {
             "outlinewidth": 0,
             "ticks": ""
            },
            "type": "choropleth"
           }
          ],
          "contour": [
           {
            "colorbar": {
             "outlinewidth": 0,
             "ticks": ""
            },
            "colorscale": [
             [
              0,
              "#0d0887"
             ],
             [
              0.1111111111111111,
              "#46039f"
             ],
             [
              0.2222222222222222,
              "#7201a8"
             ],
             [
              0.3333333333333333,
              "#9c179e"
             ],
             [
              0.4444444444444444,
              "#bd3786"
             ],
             [
              0.5555555555555556,
              "#d8576b"
             ],
             [
              0.6666666666666666,
              "#ed7953"
             ],
             [
              0.7777777777777778,
              "#fb9f3a"
             ],
             [
              0.8888888888888888,
              "#fdca26"
             ],
             [
              1,
              "#f0f921"
             ]
            ],
            "type": "contour"
           }
          ],
          "contourcarpet": [
           {
            "colorbar": {
             "outlinewidth": 0,
             "ticks": ""
            },
            "type": "contourcarpet"
           }
          ],
          "heatmap": [
           {
            "colorbar": {
             "outlinewidth": 0,
             "ticks": ""
            },
            "colorscale": [
             [
              0,
              "#0d0887"
             ],
             [
              0.1111111111111111,
              "#46039f"
             ],
             [
              0.2222222222222222,
              "#7201a8"
             ],
             [
              0.3333333333333333,
              "#9c179e"
             ],
             [
              0.4444444444444444,
              "#bd3786"
             ],
             [
              0.5555555555555556,
              "#d8576b"
             ],
             [
              0.6666666666666666,
              "#ed7953"
             ],
             [
              0.7777777777777778,
              "#fb9f3a"
             ],
             [
              0.8888888888888888,
              "#fdca26"
             ],
             [
              1,
              "#f0f921"
             ]
            ],
            "type": "heatmap"
           }
          ],
          "heatmapgl": [
           {
            "colorbar": {
             "outlinewidth": 0,
             "ticks": ""
            },
            "colorscale": [
             [
              0,
              "#0d0887"
             ],
             [
              0.1111111111111111,
              "#46039f"
             ],
             [
              0.2222222222222222,
              "#7201a8"
             ],
             [
              0.3333333333333333,
              "#9c179e"
             ],
             [
              0.4444444444444444,
              "#bd3786"
             ],
             [
              0.5555555555555556,
              "#d8576b"
             ],
             [
              0.6666666666666666,
              "#ed7953"
             ],
             [
              0.7777777777777778,
              "#fb9f3a"
             ],
             [
              0.8888888888888888,
              "#fdca26"
             ],
             [
              1,
              "#f0f921"
             ]
            ],
            "type": "heatmapgl"
           }
          ],
          "histogram": [
           {
            "marker": {
             "pattern": {
              "fillmode": "overlay",
              "size": 10,
              "solidity": 0.2
             }
            },
            "type": "histogram"
           }
          ],
          "histogram2d": [
           {
            "colorbar": {
             "outlinewidth": 0,
             "ticks": ""
            },
            "colorscale": [
             [
              0,
              "#0d0887"
             ],
             [
              0.1111111111111111,
              "#46039f"
             ],
             [
              0.2222222222222222,
              "#7201a8"
             ],
             [
              0.3333333333333333,
              "#9c179e"
             ],
             [
              0.4444444444444444,
              "#bd3786"
             ],
             [
              0.5555555555555556,
              "#d8576b"
             ],
             [
              0.6666666666666666,
              "#ed7953"
             ],
             [
              0.7777777777777778,
              "#fb9f3a"
             ],
             [
              0.8888888888888888,
              "#fdca26"
             ],
             [
              1,
              "#f0f921"
             ]
            ],
            "type": "histogram2d"
           }
          ],
          "histogram2dcontour": [
           {
            "colorbar": {
             "outlinewidth": 0,
             "ticks": ""
            },
            "colorscale": [
             [
              0,
              "#0d0887"
             ],
             [
              0.1111111111111111,
              "#46039f"
             ],
             [
              0.2222222222222222,
              "#7201a8"
             ],
             [
              0.3333333333333333,
              "#9c179e"
             ],
             [
              0.4444444444444444,
              "#bd3786"
             ],
             [
              0.5555555555555556,
              "#d8576b"
             ],
             [
              0.6666666666666666,
              "#ed7953"
             ],
             [
              0.7777777777777778,
              "#fb9f3a"
             ],
             [
              0.8888888888888888,
              "#fdca26"
             ],
             [
              1,
              "#f0f921"
             ]
            ],
            "type": "histogram2dcontour"
           }
          ],
          "mesh3d": [
           {
            "colorbar": {
             "outlinewidth": 0,
             "ticks": ""
            },
            "type": "mesh3d"
           }
          ],
          "parcoords": [
           {
            "line": {
             "colorbar": {
              "outlinewidth": 0,
              "ticks": ""
             }
            },
            "type": "parcoords"
           }
          ],
          "pie": [
           {
            "automargin": true,
            "type": "pie"
           }
          ],
          "scatter": [
           {
            "marker": {
             "colorbar": {
              "outlinewidth": 0,
              "ticks": ""
             }
            },
            "type": "scatter"
           }
          ],
          "scatter3d": [
           {
            "line": {
             "colorbar": {
              "outlinewidth": 0,
              "ticks": ""
             }
            },
            "marker": {
             "colorbar": {
              "outlinewidth": 0,
              "ticks": ""
             }
            },
            "type": "scatter3d"
           }
          ],
          "scattercarpet": [
           {
            "marker": {
             "colorbar": {
              "outlinewidth": 0,
              "ticks": ""
             }
            },
            "type": "scattercarpet"
           }
          ],
          "scattergeo": [
           {
            "marker": {
             "colorbar": {
              "outlinewidth": 0,
              "ticks": ""
             }
            },
            "type": "scattergeo"
           }
          ],
          "scattergl": [
           {
            "marker": {
             "colorbar": {
              "outlinewidth": 0,
              "ticks": ""
             }
            },
            "type": "scattergl"
           }
          ],
          "scattermapbox": [
           {
            "marker": {
             "colorbar": {
              "outlinewidth": 0,
              "ticks": ""
             }
            },
            "type": "scattermapbox"
           }
          ],
          "scatterpolar": [
           {
            "marker": {
             "colorbar": {
              "outlinewidth": 0,
              "ticks": ""
             }
            },
            "type": "scatterpolar"
           }
          ],
          "scatterpolargl": [
           {
            "marker": {
             "colorbar": {
              "outlinewidth": 0,
              "ticks": ""
             }
            },
            "type": "scatterpolargl"
           }
          ],
          "scatterternary": [
           {
            "marker": {
             "colorbar": {
              "outlinewidth": 0,
              "ticks": ""
             }
            },
            "type": "scatterternary"
           }
          ],
          "surface": [
           {
            "colorbar": {
             "outlinewidth": 0,
             "ticks": ""
            },
            "colorscale": [
             [
              0,
              "#0d0887"
             ],
             [
              0.1111111111111111,
              "#46039f"
             ],
             [
              0.2222222222222222,
              "#7201a8"
             ],
             [
              0.3333333333333333,
              "#9c179e"
             ],
             [
              0.4444444444444444,
              "#bd3786"
             ],
             [
              0.5555555555555556,
              "#d8576b"
             ],
             [
              0.6666666666666666,
              "#ed7953"
             ],
             [
              0.7777777777777778,
              "#fb9f3a"
             ],
             [
              0.8888888888888888,
              "#fdca26"
             ],
             [
              1,
              "#f0f921"
             ]
            ],
            "type": "surface"
           }
          ],
          "table": [
           {
            "cells": {
             "fill": {
              "color": "#EBF0F8"
             },
             "line": {
              "color": "white"
             }
            },
            "header": {
             "fill": {
              "color": "#C8D4E3"
             },
             "line": {
              "color": "white"
             }
            },
            "type": "table"
           }
          ]
         },
         "layout": {
          "annotationdefaults": {
           "arrowcolor": "#2a3f5f",
           "arrowhead": 0,
           "arrowwidth": 1
          },
          "autotypenumbers": "strict",
          "coloraxis": {
           "colorbar": {
            "outlinewidth": 0,
            "ticks": ""
           }
          },
          "colorscale": {
           "diverging": [
            [
             0,
             "#8e0152"
            ],
            [
             0.1,
             "#c51b7d"
            ],
            [
             0.2,
             "#de77ae"
            ],
            [
             0.3,
             "#f1b6da"
            ],
            [
             0.4,
             "#fde0ef"
            ],
            [
             0.5,
             "#f7f7f7"
            ],
            [
             0.6,
             "#e6f5d0"
            ],
            [
             0.7,
             "#b8e186"
            ],
            [
             0.8,
             "#7fbc41"
            ],
            [
             0.9,
             "#4d9221"
            ],
            [
             1,
             "#276419"
            ]
           ],
           "sequential": [
            [
             0,
             "#0d0887"
            ],
            [
             0.1111111111111111,
             "#46039f"
            ],
            [
             0.2222222222222222,
             "#7201a8"
            ],
            [
             0.3333333333333333,
             "#9c179e"
            ],
            [
             0.4444444444444444,
             "#bd3786"
            ],
            [
             0.5555555555555556,
             "#d8576b"
            ],
            [
             0.6666666666666666,
             "#ed7953"
            ],
            [
             0.7777777777777778,
             "#fb9f3a"
            ],
            [
             0.8888888888888888,
             "#fdca26"
            ],
            [
             1,
             "#f0f921"
            ]
           ],
           "sequentialminus": [
            [
             0,
             "#0d0887"
            ],
            [
             0.1111111111111111,
             "#46039f"
            ],
            [
             0.2222222222222222,
             "#7201a8"
            ],
            [
             0.3333333333333333,
             "#9c179e"
            ],
            [
             0.4444444444444444,
             "#bd3786"
            ],
            [
             0.5555555555555556,
             "#d8576b"
            ],
            [
             0.6666666666666666,
             "#ed7953"
            ],
            [
             0.7777777777777778,
             "#fb9f3a"
            ],
            [
             0.8888888888888888,
             "#fdca26"
            ],
            [
             1,
             "#f0f921"
            ]
           ]
          },
          "colorway": [
           "#636efa",
           "#EF553B",
           "#00cc96",
           "#ab63fa",
           "#FFA15A",
           "#19d3f3",
           "#FF6692",
           "#B6E880",
           "#FF97FF",
           "#FECB52"
          ],
          "font": {
           "color": "#2a3f5f"
          },
          "geo": {
           "bgcolor": "white",
           "lakecolor": "white",
           "landcolor": "#E5ECF6",
           "showlakes": true,
           "showland": true,
           "subunitcolor": "white"
          },
          "hoverlabel": {
           "align": "left"
          },
          "hovermode": "closest",
          "mapbox": {
           "style": "light"
          },
          "paper_bgcolor": "white",
          "plot_bgcolor": "#E5ECF6",
          "polar": {
           "angularaxis": {
            "gridcolor": "white",
            "linecolor": "white",
            "ticks": ""
           },
           "bgcolor": "#E5ECF6",
           "radialaxis": {
            "gridcolor": "white",
            "linecolor": "white",
            "ticks": ""
           }
          },
          "scene": {
           "xaxis": {
            "backgroundcolor": "#E5ECF6",
            "gridcolor": "white",
            "gridwidth": 2,
            "linecolor": "white",
            "showbackground": true,
            "ticks": "",
            "zerolinecolor": "white"
           },
           "yaxis": {
            "backgroundcolor": "#E5ECF6",
            "gridcolor": "white",
            "gridwidth": 2,
            "linecolor": "white",
            "showbackground": true,
            "ticks": "",
            "zerolinecolor": "white"
           },
           "zaxis": {
            "backgroundcolor": "#E5ECF6",
            "gridcolor": "white",
            "gridwidth": 2,
            "linecolor": "white",
            "showbackground": true,
            "ticks": "",
            "zerolinecolor": "white"
           }
          },
          "shapedefaults": {
           "line": {
            "color": "#2a3f5f"
           }
          },
          "ternary": {
           "aaxis": {
            "gridcolor": "white",
            "linecolor": "white",
            "ticks": ""
           },
           "baxis": {
            "gridcolor": "white",
            "linecolor": "white",
            "ticks": ""
           },
           "bgcolor": "#E5ECF6",
           "caxis": {
            "gridcolor": "white",
            "linecolor": "white",
            "ticks": ""
           }
          },
          "title": {
           "x": 0.05
          },
          "xaxis": {
           "automargin": true,
           "gridcolor": "white",
           "linecolor": "white",
           "ticks": "",
           "title": {
            "standoff": 15
           },
           "zerolinecolor": "white",
           "zerolinewidth": 2
          },
          "yaxis": {
           "automargin": true,
           "gridcolor": "white",
           "linecolor": "white",
           "ticks": "",
           "title": {
            "standoff": 15
           },
           "zerolinecolor": "white",
           "zerolinewidth": 2
          }
         }
        },
        "title": {
         "text": "Prediccion Dolar Blue"
        },
        "xaxis": {
         "title": {
          "text": "Fecha"
         }
        },
        "yaxis": {
         "title": {
          "text": "Valores"
         }
        }
       }
      }
     },
     "metadata": {},
     "output_type": "display_data"
    }
   ],
   "source": [
    "import plotly.graph_objs as go\n",
    "import plotly.offline as pyo\n",
    "\n",
    "data = []\n",
    "for i in range(1, len(values_new)):\n",
    "    if y[i] > y[i-1]:\n",
    "        color = 'green'\n",
    "    else:\n",
    "        color = 'red'\n",
    "    trace = go.Scatter(x=x[i-1:i+1], y=y[i-1:i+1], mode='lines', line=dict(color=color, width=1), showlegend=False)\n",
    "    data.append(trace)\n",
    "\n",
    "layout = go.Layout(title='Prediccion Dolar Blue', xaxis=dict(title='Fecha'), yaxis=dict(title='Valores'))\n",
    "fig = go.Figure(data=data, layout=layout)\n",
    "pyo.iplot(fig)"
   ]
  },
  {
   "cell_type": "code",
   "execution_count": null,
   "metadata": {
    "execution": {
     "iopub.execute_input": "2023-01-19T22:13:25.978073Z",
     "iopub.status.busy": "2023-01-19T22:13:25.977047Z",
     "iopub.status.idle": "2023-01-19T22:13:26.005057Z",
     "shell.execute_reply": "2023-01-19T22:13:26.003755Z"
    }
   },
   "outputs": [],
   "source": [
    "with open('data/html/Predicciones/Pred_DolarBlue.html', 'w') as f:\n",
    "    f.write(fig.to_html(include_plotlyjs='cdn'))"
   ]
  }
 ],
 "metadata": {
  "kernelspec": {
   "display_name": "base",
   "language": "python",
   "name": "python3"
  },
  "language_info": {
   "codemirror_mode": {
    "name": "ipython",
    "version": 3
   },
   "file_extension": ".py",
   "mimetype": "text/x-python",
   "name": "python",
   "nbconvert_exporter": "python",
   "pygments_lexer": "ipython3",
   "version": "3.9.12"
  },
  "vscode": {
   "interpreter": {
    "hash": "f9ab598b9454a605c842d50279dc9b9787a69dd935282767b7751d6d2d6dcde1"
   }
  }
 },
 "nbformat": 4,
 "nbformat_minor": 2
}
